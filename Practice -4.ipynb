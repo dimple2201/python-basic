{
 "cells": [
  {
   "cell_type": "code",
   "execution_count": 2,
   "id": "31d60807",
   "metadata": {},
   "outputs": [
    {
     "name": "stdout",
     "output_type": "stream",
     "text": [
      "4\n"
     ]
    }
   ],
   "source": [
    "# wap to multiply all the items in a list.\n",
    "\n",
    "l=[1,2,1,2,1]\n",
    "m=1\n",
    "for i in l:\n",
    "    m=m*i\n",
    "print(m)"
   ]
  },
  {
   "cell_type": "code",
   "execution_count": 13,
   "id": "168ac142",
   "metadata": {},
   "outputs": [
    {
     "name": "stdout",
     "output_type": "stream",
     "text": [
      "largest no.----> 65\n"
     ]
    }
   ],
   "source": [
    "# wap to get the largest number from a  list.\n",
    "\n",
    "a=[34,22,65,33,2]\n",
    "a[2]\n",
    "print('largest no.---->',a[2])"
   ]
  },
  {
   "cell_type": "code",
   "execution_count": 17,
   "id": "1d06885f",
   "metadata": {},
   "outputs": [
    {
     "name": "stdout",
     "output_type": "stream",
     "text": [
      "smallest no.------> -3\n"
     ]
    }
   ],
   "source": [
    "# wap to get smallest number from a list.\n",
    "\n",
    "a=[34,54,22,6,-3]\n",
    "a[-1]\n",
    "print('smallest no.------>',a[-1])"
   ]
  },
  {
   "cell_type": "code",
   "execution_count": 11,
   "id": "e12918d1",
   "metadata": {},
   "outputs": [
    {
     "name": "stdout",
     "output_type": "stream",
     "text": [
      "not empty\n"
     ]
    }
   ],
   "source": [
    "# wap to check a list is empty or not.\n",
    "\n",
    "a = [3]\n",
    "if a==[]:\n",
    "    print('empty')\n",
    "else:\n",
    "    print('not empty')\n"
   ]
  },
  {
   "cell_type": "code",
   "execution_count": 5,
   "id": "cb67f971",
   "metadata": {},
   "outputs": [
    {
     "name": "stdout",
     "output_type": "stream",
     "text": [
      "False\n",
      "False\n",
      "False\n",
      "False\n",
      "False\n",
      "False\n",
      "False\n",
      "False\n",
      "False\n"
     ]
    }
   ],
   "source": [
    "# wap that takes two lists and returns True if they have at least one common member.\n",
    "\n",
    "a=[1,2,3]\n",
    "b=[3,5,7]\n",
    "\n",
    "for i in a:\n",
    "    for j in b:\n",
    "        if a==j:\n",
    "            print ('True')\n",
    "        else:\n",
    "            print('False')"
   ]
  },
  {
   "cell_type": "code",
   "execution_count": 19,
   "id": "dfd7fe9d",
   "metadata": {},
   "outputs": [
    {
     "data": {
      "text/plain": [
       "34"
      ]
     },
     "execution_count": 19,
     "metadata": {},
     "output_type": "execute_result"
    }
   ],
   "source": [
    "# wap to print a specified list after removing the 0th,4th and 5th elements.\n",
    "\n",
    "y=[34,55,23,66,35,7,76,45,77,45]\n",
    "y.pop(0)"
   ]
  },
  {
   "cell_type": "code",
   "execution_count": 20,
   "id": "29fff2f4",
   "metadata": {},
   "outputs": [
    {
     "data": {
      "text/plain": [
       "7"
      ]
     },
     "execution_count": 20,
     "metadata": {},
     "output_type": "execute_result"
    }
   ],
   "source": [
    "y.pop(4)"
   ]
  },
  {
   "cell_type": "code",
   "execution_count": 21,
   "id": "b0d13f5b",
   "metadata": {},
   "outputs": [
    {
     "data": {
      "text/plain": [
       "45"
      ]
     },
     "execution_count": 21,
     "metadata": {},
     "output_type": "execute_result"
    }
   ],
   "source": [
    "y.pop(5)"
   ]
  },
  {
   "cell_type": "code",
   "execution_count": 22,
   "id": "0a4107e4",
   "metadata": {},
   "outputs": [
    {
     "data": {
      "text/plain": [
       "[55, 23, 66, 35, 76, 77, 45]"
      ]
     },
     "execution_count": 22,
     "metadata": {},
     "output_type": "execute_result"
    }
   ],
   "source": [
    "y"
   ]
  },
  {
   "cell_type": "code",
   "execution_count": 26,
   "id": "1626007e",
   "metadata": {},
   "outputs": [
    {
     "data": {
      "text/plain": [
       "{1: 10, 2: 20, 3: 30, 4: 40, 5: 50, 6: 60}"
      ]
     },
     "execution_count": 26,
     "metadata": {},
     "output_type": "execute_result"
    }
   ],
   "source": [
    "# wap to concatenate dictionaries:\n",
    "\n",
    "a={1:10,2:20}\n",
    "b={3:30,4:40}\n",
    "c={5:50,6:60}\n",
    "\n",
    "a.update(b)\n",
    "a\n",
    "a.update(c)\n",
    "a"
   ]
  },
  {
   "cell_type": "code",
   "execution_count": 27,
   "id": "d3e8cabd",
   "metadata": {},
   "outputs": [
    {
     "data": {
      "text/plain": [
       "(23, 5.6, 'hey', False)"
      ]
     },
     "execution_count": 27,
     "metadata": {},
     "output_type": "execute_result"
    }
   ],
   "source": [
    "# wap to create with different data types.\n",
    "\n",
    "tup = (23,5.6,'hey',False)\n",
    "tup"
   ]
  },
  {
   "cell_type": "code",
   "execution_count": 29,
   "id": "7ed6ec39",
   "metadata": {},
   "outputs": [
    {
     "data": {
      "text/plain": [
       "-5"
      ]
     },
     "execution_count": 29,
     "metadata": {},
     "output_type": "execute_result"
    }
   ],
   "source": [
    "# wap to create a tuple with number and print one item.\n",
    "\n",
    "t=(34,52,55,6,-5)\n",
    "t[4]"
   ]
  },
  {
   "cell_type": "code",
   "execution_count": 6,
   "id": "4004e8ce",
   "metadata": {},
   "outputs": [
    {
     "name": "stdout",
     "output_type": "stream",
     "text": [
      "sequence\n",
      "0\n",
      "1\n",
      "1\n",
      "2\n",
      "3\n"
     ]
    }
   ],
   "source": [
    "# wap to find fibonacci series?\n",
    "\n",
    "a=0\n",
    "b=1\n",
    "n=5\n",
    "count=0\n",
    "\n",
    "if n<=0:\n",
    "    print('Enter positive number')\n",
    "    \n",
    "elif n == 1:\n",
    "    print(a)\n",
    "    \n",
    "    \n",
    "else:\n",
    "    print('sequence')\n",
    "    while count<n:\n",
    "        print(a)\n",
    "        nth=a+b\n",
    "        a = b\n",
    "        b = nth\n",
    "        count += 1"
   ]
  },
  {
   "cell_type": "code",
   "execution_count": 9,
   "id": "ffec47fd",
   "metadata": {},
   "outputs": [
    {
     "name": "stdout",
     "output_type": "stream",
     "text": [
      "0\n",
      "1\n",
      "1\n",
      "2\n",
      "3\n",
      "5\n",
      "8\n",
      "13\n",
      "21\n",
      "34\n"
     ]
    }
   ],
   "source": [
    "a=0\n",
    "b=1\n",
    "n=10\n",
    "count=0\n",
    "while count<n:\n",
    "        print(a)\n",
    "        nth=a+b\n",
    "        a = b\n",
    "        b = nth\n",
    "        count += 1"
   ]
  },
  {
   "cell_type": "code",
   "execution_count": null,
   "id": "8cce2c03",
   "metadata": {},
   "outputs": [],
   "source": []
  }
 ],
 "metadata": {
  "kernelspec": {
   "display_name": "Python 3 (ipykernel)",
   "language": "python",
   "name": "python3"
  },
  "language_info": {
   "codemirror_mode": {
    "name": "ipython",
    "version": 3
   },
   "file_extension": ".py",
   "mimetype": "text/x-python",
   "name": "python",
   "nbconvert_exporter": "python",
   "pygments_lexer": "ipython3",
   "version": "3.9.7"
  }
 },
 "nbformat": 4,
 "nbformat_minor": 5
}
