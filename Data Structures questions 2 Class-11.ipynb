{
 "cells": [
  {
   "cell_type": "code",
   "execution_count": 10,
   "id": "63cf9c6c",
   "metadata": {},
   "outputs": [
    {
     "name": "stdout",
     "output_type": "stream",
     "text": [
      "630\n"
     ]
    }
   ],
   "source": [
    "# wap to multiply all the items in a list.\n",
    "\n",
    "a = [3,5,42]\n",
    "mul = 1\n",
    "\n",
    "for i in a:\n",
    "    mul = mul * i\n",
    "print(mul)"
   ]
  },
  {
   "cell_type": "code",
   "execution_count": 13,
   "id": "9c8d3f23",
   "metadata": {},
   "outputs": [
    {
     "name": "stdout",
     "output_type": "stream",
     "text": [
      "largest number 98\n"
     ]
    }
   ],
   "source": [
    "# wap to get the largest no. from a list.\n",
    "\n",
    "a = [45,23,76,23,98]\n",
    "a[-1]\n",
    "\n",
    "print('largest number',a[-1])\n",
    "\n"
   ]
  },
  {
   "cell_type": "code",
   "execution_count": 14,
   "id": "7f18917f",
   "metadata": {},
   "outputs": [
    {
     "name": "stdout",
     "output_type": "stream",
     "text": [
      "smallest number -3\n"
     ]
    }
   ],
   "source": [
    "# wap to get the smallest no. from a list.\n",
    "\n",
    "a= [45,-3,65,21]\n",
    "a[1]\n",
    "\n",
    "print('smallest number',a[1])"
   ]
  },
  {
   "cell_type": "code",
   "execution_count": 15,
   "id": "1837431e",
   "metadata": {},
   "outputs": [
    {
     "data": {
      "text/plain": [
       "5"
      ]
     },
     "execution_count": 15,
     "metadata": {},
     "output_type": "execute_result"
    }
   ],
   "source": [
    "# wap to check a list is empty or not.\n",
    "\n",
    "a= [1,2,3,4,5]\n",
    "len(a)"
   ]
  },
  {
   "cell_type": "code",
   "execution_count": 16,
   "id": "8d067363",
   "metadata": {},
   "outputs": [
    {
     "name": "stdout",
     "output_type": "stream",
     "text": [
      "empty list\n"
     ]
    }
   ],
   "source": [
    "a= []\n",
    "if len(a) == 0:\n",
    "    print('empty list')\n",
    "else:\n",
    "    print('list is not empty')\n"
   ]
  },
  {
   "cell_type": "code",
   "execution_count": 52,
   "id": "e6535562",
   "metadata": {},
   "outputs": [
    {
     "name": "stdout",
     "output_type": "stream",
     "text": [
      "false\n"
     ]
    }
   ],
   "source": [
    "# wap that takes two lists and returns True if they have at least one common member.\n",
    "\n",
    "a=[1,2,3]\n",
    "b=[3,9,7]\n",
    "\n",
    "if a == b:\n",
    "    print('true')\n",
    "else:\n",
    "    print('false')\n",
    "\n",
    "\n"
   ]
  },
  {
   "cell_type": "code",
   "execution_count": 41,
   "id": "2bb2a84e",
   "metadata": {},
   "outputs": [
    {
     "data": {
      "text/plain": [
       "[34, 64, 33, 87, 54, 67, 99, 89]"
      ]
     },
     "execution_count": 41,
     "metadata": {},
     "output_type": "execute_result"
    }
   ],
   "source": [
    "# wap to print a specifies list after removing the 0th,4th and 5th elements.\n",
    "\n",
    "x= [34,64,33,87,54,67,99,89]\n",
    "x"
   ]
  },
  {
   "cell_type": "code",
   "execution_count": 42,
   "id": "81bc3885",
   "metadata": {},
   "outputs": [
    {
     "data": {
      "text/plain": [
       "34"
      ]
     },
     "execution_count": 42,
     "metadata": {},
     "output_type": "execute_result"
    }
   ],
   "source": [
    "x.pop(0)"
   ]
  },
  {
   "cell_type": "code",
   "execution_count": 47,
   "id": "36fee12a",
   "metadata": {},
   "outputs": [
    {
     "data": {
      "text/plain": [
       "99"
      ]
     },
     "execution_count": 47,
     "metadata": {},
     "output_type": "execute_result"
    }
   ],
   "source": [
    "x.pop(4)"
   ]
  },
  {
   "cell_type": "code",
   "execution_count": 44,
   "id": "67183b8f",
   "metadata": {},
   "outputs": [
    {
     "data": {
      "text/plain": [
       "89"
      ]
     },
     "execution_count": 44,
     "metadata": {},
     "output_type": "execute_result"
    }
   ],
   "source": [
    "x.pop(5)"
   ]
  },
  {
   "cell_type": "code",
   "execution_count": 45,
   "id": "0e10da84",
   "metadata": {},
   "outputs": [
    {
     "data": {
      "text/plain": [
       "[64, 33, 87, 54, 99]"
      ]
     },
     "execution_count": 45,
     "metadata": {},
     "output_type": "execute_result"
    }
   ],
   "source": [
    "x"
   ]
  },
  {
   "cell_type": "code",
   "execution_count": 4,
   "id": "34eb2d6a",
   "metadata": {},
   "outputs": [
    {
     "data": {
      "text/plain": [
       "{1: 10, 2: 20, 3: 30, 4: 40, 5: 50, 6: 60}"
      ]
     },
     "execution_count": 4,
     "metadata": {},
     "output_type": "execute_result"
    }
   ],
   "source": [
    "# wap to concatenate following dictionaries sample dictionary:\n",
    "\n",
    "dic1 = {1:10, 2:20}\n",
    "dic2 = {3:30, 4:40}\n",
    "dic3 = {5:50, 6:60}\n",
    "\n",
    "dic1.update(dic2)\n",
    "dic1\n",
    "dic1.update(dic3)\n",
    "dic1"
   ]
  },
  {
   "cell_type": "code",
   "execution_count": 40,
   "id": "a4f97689",
   "metadata": {},
   "outputs": [
    {
     "data": {
      "text/plain": [
       "(23, 4.5, 'string', True)"
      ]
     },
     "execution_count": 40,
     "metadata": {},
     "output_type": "execute_result"
    }
   ],
   "source": [
    "# wap to create a tuple with different data types.\n",
    "\n",
    "a = (23,4.5,'string',True)\n",
    "a"
   ]
  },
  {
   "cell_type": "code",
   "execution_count": 49,
   "id": "fa5a49c7",
   "metadata": {},
   "outputs": [
    {
     "data": {
      "text/plain": [
       "66"
      ]
     },
     "execution_count": 49,
     "metadata": {},
     "output_type": "execute_result"
    }
   ],
   "source": [
    "# wap to create a tuple with number and print one item.\n",
    "\n",
    "a= (34,-68,45,-2,66)\n",
    "a[-1]"
   ]
  },
  {
   "cell_type": "code",
   "execution_count": 50,
   "id": "59e8a57b",
   "metadata": {},
   "outputs": [
    {
     "ename": "TypeError",
     "evalue": "tuple indices must be integers or slices, not str",
     "output_type": "error",
     "traceback": [
      "\u001b[1;31m---------------------------------------------------------------------------\u001b[0m",
      "\u001b[1;31mTypeError\u001b[0m                                 Traceback (most recent call last)",
      "\u001b[1;32m~\\AppData\\Local\\Temp/ipykernel_192/3517625044.py\u001b[0m in \u001b[0;36m<module>\u001b[1;34m\u001b[0m\n\u001b[0;32m      2\u001b[0m \u001b[1;33m\u001b[0m\u001b[0m\n\u001b[0;32m      3\u001b[0m \u001b[0ma\u001b[0m\u001b[1;33m=\u001b[0m \u001b[1;33m(\u001b[0m\u001b[1;36m43\u001b[0m\u001b[1;33m,\u001b[0m\u001b[1;36m68\u001b[0m\u001b[1;33m,\u001b[0m\u001b[1;32mTrue\u001b[0m\u001b[1;33m,\u001b[0m\u001b[1;36m3.4\u001b[0m\u001b[1;33m,\u001b[0m\u001b[1;36m9\u001b[0m\u001b[1;33m)\u001b[0m\u001b[1;33m\u001b[0m\u001b[1;33m\u001b[0m\u001b[0m\n\u001b[1;32m----> 4\u001b[1;33m \u001b[0ma\u001b[0m\u001b[1;33m[\u001b[0m\u001b[1;34m''\u001b[0m\u001b[1;33m]\u001b[0m\u001b[1;33m\u001b[0m\u001b[1;33m\u001b[0m\u001b[0m\n\u001b[0m",
      "\u001b[1;31mTypeError\u001b[0m: tuple indices must be integers or slices, not str"
     ]
    }
   ],
   "source": [
    "# wap to convert a tuple to a string.\n",
    "\n",
    "a= (43,68,True,6.3,False)"
   ]
  },
  {
   "cell_type": "code",
   "execution_count": 14,
   "id": "7329b3f4",
   "metadata": {},
   "outputs": [
    {
     "data": {
      "text/plain": [
       "9.7"
      ]
     },
     "execution_count": 14,
     "metadata": {},
     "output_type": "execute_result"
    }
   ],
   "source": [
    "# wap to get the 4th element and 4th element from last of a tuple.\n",
    "\n",
    "tup=(45,True,'hello',9.7,900,False,4444)\n",
    "tup[3]\n",
    "\n",
    "\n",
    "\n"
   ]
  },
  {
   "cell_type": "code",
   "execution_count": 15,
   "id": "c1df7d7c",
   "metadata": {},
   "outputs": [
    {
     "data": {
      "text/plain": [
       "9.7"
      ]
     },
     "execution_count": 15,
     "metadata": {},
     "output_type": "execute_result"
    }
   ],
   "source": [
    "tup[-4]"
   ]
  },
  {
   "cell_type": "code",
   "execution_count": null,
   "id": "d364a589",
   "metadata": {},
   "outputs": [],
   "source": []
  },
  {
   "cell_type": "code",
   "execution_count": 22,
   "id": "3982f7ba",
   "metadata": {},
   "outputs": [
    {
     "name": "stdout",
     "output_type": "stream",
     "text": [
      "158\n"
     ]
    }
   ],
   "source": [
    "# wap to sum all the numbers in a list.\n",
    "\n",
    "a=[45,83,7,23]\n",
    "sum=0\n",
    "\n",
    "for i in a:\n",
    "     sum=sum+i\n",
    "print(sum)\n",
    "\n"
   ]
  },
  {
   "cell_type": "code",
   "execution_count": 1,
   "id": "871b01c4",
   "metadata": {},
   "outputs": [
    {
     "name": "stdout",
     "output_type": "stream",
     "text": [
      "27720\n"
     ]
    }
   ],
   "source": [
    "# wap to multiply all the numbers in a list.\n",
    "\n",
    "a=[45,7,2,44]\n",
    "mul=1\n",
    "\n",
    "for i in a:\n",
    "    mul*= i\n",
    "print(mul)\n"
   ]
  },
  {
   "cell_type": "code",
   "execution_count": 11,
   "id": "3ca289a9",
   "metadata": {},
   "outputs": [
    {
     "name": "stdout",
     "output_type": "stream",
     "text": [
      "enter the number52\n",
      "1378\n"
     ]
    }
   ],
   "source": [
    "# calculate the sum of all numbers from 1 to a given number.\n",
    "\n",
    "a= int(input('enter the number'))\n",
    "sum = 0\n",
    "\n",
    "for i in range(1,a+1):\n",
    "    sum=sum+i\n",
    "print(sum)"
   ]
  },
  {
   "cell_type": "code",
   "execution_count": 1,
   "id": "45518e4c",
   "metadata": {},
   "outputs": [
    {
     "name": "stdout",
     "output_type": "stream",
     "text": [
      "2  *  1  =  2\n",
      "2  *  2  =  4\n",
      "2  *  3  =  6\n",
      "2  *  4  =  8\n",
      "2  *  5  =  10\n",
      "2  *  6  =  12\n",
      "2  *  7  =  14\n",
      "2  *  8  =  16\n",
      "2  *  9  =  18\n",
      "2  *  10  =  20\n"
     ]
    }
   ],
   "source": [
    "# wap to print multiplication table of a given number.\n",
    "\n",
    "i=1\n",
    "n=2\n",
    "while i<=10:\n",
    "    print(n,' * ',i,' = ',n*i)\n",
    "    i=i+1\n"
   ]
  },
  {
   "cell_type": "code",
   "execution_count": 8,
   "id": "8c53cf1e",
   "metadata": {},
   "outputs": [
    {
     "name": "stdout",
     "output_type": "stream",
     "text": [
      "0\n",
      "1\n",
      "2\n",
      "3\n"
     ]
    }
   ],
   "source": [
    "# display numbers from a list using loop.\n",
    "\n",
    "a=[3,5,7,2,1]\n",
    "for a in range():\n",
    "    print(a)"
   ]
  },
  {
   "cell_type": "code",
   "execution_count": null,
   "id": "d5f5d50b",
   "metadata": {},
   "outputs": [],
   "source": [
    "# count the total number of digits in a number.\n",
    "\n",
    "a=389542\n",
    "count=0\n",
    "\n",
    "while a>0:\n",
    "    count=count+1\n",
    "     a=a//10\n",
    "print(count)"
   ]
  },
  {
   "cell_type": "code",
   "execution_count": null,
   "id": "b4459737",
   "metadata": {},
   "outputs": [],
   "source": [
    "# a company decided to give bonus of 5% to employee if his/her year of service is more than 5 years.\n",
    "# Ask user for their salary and year of service and print the net bonus amount.\n"
   ]
  },
  {
   "cell_type": "code",
   "execution_count": null,
   "id": "dd8de9a3",
   "metadata": {},
   "outputs": [],
   "source": [
    "# Take values of length and breadth of a rectangle from user and check if it is square or not.\n"
   ]
  },
  {
   "cell_type": "code",
   "execution_count": null,
   "id": "63e3fa70",
   "metadata": {},
   "outputs": [],
   "source": [
    "# A school has following rules for grading systems:\n",
    "# a. Below 25 - F\n",
    "# b. 25 to 45 - E\n",
    "# c. 45 to 50 - D\n",
    "# d. 50 to 60 - C\n",
    "# e. 60 to 80 - B\n",
    "# f. Above 80 - A\n",
    "# Ask user to enter marks and print the corresponding grade."
   ]
  },
  {
   "cell_type": "code",
   "execution_count": 11,
   "id": "0033deb3",
   "metadata": {},
   "outputs": [
    {
     "name": "stdout",
     "output_type": "stream",
     "text": [
      "maximum no 223\n",
      "minimum no 54\n"
     ]
    }
   ],
   "source": [
    "# find max. and min. of 3 numbers.\n",
    "\n",
    "a=[54,78,223]\n",
    "print('maximum no',max(a))\n",
    "print('minimum no',min(a))"
   ]
  },
  {
   "cell_type": "code",
   "execution_count": null,
   "id": "ea3fd843",
   "metadata": {},
   "outputs": [],
   "source": [
    "# swap 2 numbers without using temp. variable."
   ]
  },
  {
   "cell_type": "code",
   "execution_count": null,
   "id": "1e0bc708",
   "metadata": {},
   "outputs": [],
   "source": [
    "# Take input of age of 3 people by user and determine oldest and youngest among them.\n"
   ]
  },
  {
   "cell_type": "code",
   "execution_count": null,
   "id": "cb36ae54",
   "metadata": {},
   "outputs": [],
   "source": [
    "# A student will not be allowed to sit in exam if his/her attendance is less than 75%. Take following input from user\n",
    "# Number of classes held Number of classes attended. And print percentage of class attended.\n",
    "# Is student is allowed to sit in exam or not."
   ]
  },
  {
   "cell_type": "code",
   "execution_count": 1,
   "id": "d4e5eb61",
   "metadata": {},
   "outputs": [
    {
     "name": "stdout",
     "output_type": "stream",
     "text": [
      "enter the terms9\n",
      "fibonacci sequence\n",
      "01123581321"
     ]
    }
   ],
   "source": [
    "# wap to print Fibonacci number to given limit.\n",
    "\n",
    "terms=int(input('enter the terms'))\n",
    "a=0\n",
    "b=1\n",
    "count=0\n",
    "if terms<=0:\n",
    "    print('enter an interger')\n",
    "elif terms==1:\n",
    "    print(a)\n",
    "else:\n",
    "    print('fibonacci sequence')\n",
    "while count<terms:\n",
    "    print(a,end='')\n",
    "    c=a+b\n",
    "    a=b\n",
    "    b=c\n",
    "    count=count+1"
   ]
  },
  {
   "cell_type": "code",
   "execution_count": null,
   "id": "29317c15",
   "metadata": {},
   "outputs": [],
   "source": []
  }
 ],
 "metadata": {
  "kernelspec": {
   "display_name": "Python 3 (ipykernel)",
   "language": "python",
   "name": "python3"
  },
  "language_info": {
   "codemirror_mode": {
    "name": "ipython",
    "version": 3
   },
   "file_extension": ".py",
   "mimetype": "text/x-python",
   "name": "python",
   "nbconvert_exporter": "python",
   "pygments_lexer": "ipython3",
   "version": "3.9.7"
  }
 },
 "nbformat": 4,
 "nbformat_minor": 5
}
