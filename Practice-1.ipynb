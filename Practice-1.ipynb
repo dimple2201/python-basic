{
 "cells": [
  {
   "cell_type": "code",
   "execution_count": 1,
   "id": "df5b0cb8",
   "metadata": {},
   "outputs": [
    {
     "data": {
      "text/plain": [
       "45"
      ]
     },
     "execution_count": 1,
     "metadata": {},
     "output_type": "execute_result"
    }
   ],
   "source": [
    "class parent:\n",
    "    def __init__ (self,name,age):\n",
    "        self.name = name\n",
    "        self.age= age\n",
    "        \n",
    "class child:\n",
    "    def __init__ (self,marks):\n",
    "        self.marks = marks\n",
    "        \n",
    "c =child(45)\n",
    "c.marks      "
   ]
  },
  {
   "cell_type": "code",
   "execution_count": 2,
   "id": "de313f63",
   "metadata": {},
   "outputs": [
    {
     "data": {
      "text/plain": [
       "'A'"
      ]
     },
     "execution_count": 2,
     "metadata": {},
     "output_type": "execute_result"
    }
   ],
   "source": [
    "class parent:\n",
    "    def __init__ (self,name,age):\n",
    "        self.name=name\n",
    "        self.age=age\n",
    "        \n",
    "class child(parent):\n",
    "    def __init__ (self,name,age,marks):\n",
    "        super(). __init__(name,age)\n",
    "        self.marks=marks\n",
    "        \n",
    "c=child(\"A\",23,45)\n",
    "c.name"
   ]
  },
  {
   "cell_type": "code",
   "execution_count": 3,
   "id": "18ec81b8",
   "metadata": {},
   "outputs": [],
   "source": [
    "# polymorphism-----> 1. overloading --> a.Operator Overloading, b. Function Overloading"
   ]
  },
  {
   "cell_type": "code",
   "execution_count": 4,
   "id": "60a97fc7",
   "metadata": {},
   "outputs": [
    {
     "data": {
      "text/plain": [
       "7"
      ]
     },
     "execution_count": 4,
     "metadata": {},
     "output_type": "execute_result"
    }
   ],
   "source": [
    "# Operator Overloading\n",
    "a=3\n",
    "b=4\n",
    "c=a+b\n",
    "c"
   ]
  },
  {
   "cell_type": "code",
   "execution_count": 5,
   "id": "f482508c",
   "metadata": {},
   "outputs": [
    {
     "name": "stdout",
     "output_type": "stream",
     "text": [
      "35\n"
     ]
    }
   ],
   "source": [
    "a='3'\n",
    "b='5'\n",
    "c=a+b\n",
    "print(c)"
   ]
  },
  {
   "cell_type": "code",
   "execution_count": 6,
   "id": "8048b6de",
   "metadata": {},
   "outputs": [
    {
     "data": {
      "text/plain": [
       "6"
      ]
     },
     "execution_count": 6,
     "metadata": {},
     "output_type": "execute_result"
    }
   ],
   "source": [
    "# Function Overloading\n",
    "\n",
    "def fun(x,y):\n",
    "    result=x*y\n",
    "    return result\n",
    "fun(2,3)\n",
    "    "
   ]
  },
  {
   "cell_type": "code",
   "execution_count": 7,
   "id": "45401fb4",
   "metadata": {},
   "outputs": [
    {
     "data": {
      "text/plain": [
       "8"
      ]
     },
     "execution_count": 7,
     "metadata": {},
     "output_type": "execute_result"
    }
   ],
   "source": [
    "def fun(x,y=4):\n",
    "    result=x*y\n",
    "    return result\n",
    "fun(2)\n",
    "    "
   ]
  },
  {
   "cell_type": "code",
   "execution_count": 8,
   "id": "1863dc3f",
   "metadata": {},
   "outputs": [
    {
     "data": {
      "text/plain": [
       "40"
      ]
     },
     "execution_count": 8,
     "metadata": {},
     "output_type": "execute_result"
    }
   ],
   "source": [
    "def fun(x=5,y=8):\n",
    "    result=x*y\n",
    "    return result\n",
    "fun()\n",
    "    "
   ]
  },
  {
   "cell_type": "code",
   "execution_count": 9,
   "id": "145844a9",
   "metadata": {},
   "outputs": [
    {
     "data": {
      "text/plain": [
       "10"
      ]
     },
     "execution_count": 9,
     "metadata": {},
     "output_type": "execute_result"
    }
   ],
   "source": [
    "# Encapsulation------> Data hide ----> public,private,protected\n",
    "\n",
    "#public\n",
    "class apple:\n",
    "    x = 10\n",
    "    \n",
    "a =  apple()\n",
    "a.x"
   ]
  },
  {
   "cell_type": "code",
   "execution_count": 10,
   "id": "6d37e78f",
   "metadata": {},
   "outputs": [
    {
     "ename": "AttributeError",
     "evalue": "'apple' object has no attribute 'x'",
     "output_type": "error",
     "traceback": [
      "\u001b[1;31m---------------------------------------------------------------------------\u001b[0m",
      "\u001b[1;31mAttributeError\u001b[0m                            Traceback (most recent call last)",
      "\u001b[1;32m~\\AppData\\Local\\Temp/ipykernel_18928/1683306175.py\u001b[0m in \u001b[0;36m<module>\u001b[1;34m\u001b[0m\n\u001b[0;32m      5\u001b[0m \u001b[1;33m\u001b[0m\u001b[0m\n\u001b[0;32m      6\u001b[0m \u001b[0ma\u001b[0m \u001b[1;33m=\u001b[0m  \u001b[0mapple\u001b[0m\u001b[1;33m(\u001b[0m\u001b[1;33m)\u001b[0m\u001b[1;33m\u001b[0m\u001b[1;33m\u001b[0m\u001b[0m\n\u001b[1;32m----> 7\u001b[1;33m \u001b[0ma\u001b[0m\u001b[1;33m.\u001b[0m\u001b[0mx\u001b[0m\u001b[1;33m\u001b[0m\u001b[1;33m\u001b[0m\u001b[0m\n\u001b[0m",
      "\u001b[1;31mAttributeError\u001b[0m: 'apple' object has no attribute 'x'"
     ]
    }
   ],
   "source": [
    "# private\n",
    "\n",
    "class apple:\n",
    "     __x = 10\n",
    "    \n",
    "a =  apple()\n",
    "a.x"
   ]
  },
  {
   "cell_type": "code",
   "execution_count": null,
   "id": "e6774b12",
   "metadata": {},
   "outputs": [],
   "source": [
    "# protected\n",
    "\n",
    "class apple:\n",
    "     _x = 10\n",
    "    \n",
    "a =  apple()\n",
    "a._x"
   ]
  },
  {
   "cell_type": "code",
   "execution_count": null,
   "id": "48a8e805",
   "metadata": {},
   "outputs": [],
   "source": [
    "# lambda function\n",
    "\n",
    "# wap to add two numbers.\n",
    "\n",
    "def add(x,y):\n",
    "    result=x+y\n",
    "    return result\n",
    "\n",
    "add(1,3)"
   ]
  },
  {
   "cell_type": "code",
   "execution_count": null,
   "id": "487c71a6",
   "metadata": {},
   "outputs": [],
   "source": [
    "x=lambda a,b:a+b\n",
    "x(4,5)"
   ]
  },
  {
   "cell_type": "code",
   "execution_count": null,
   "id": "d2eb2e09",
   "metadata": {},
   "outputs": [],
   "source": [
    "# global variable\n",
    "\n",
    "a= 13"
   ]
  },
  {
   "cell_type": "code",
   "execution_count": null,
   "id": "0046ba2c",
   "metadata": {},
   "outputs": [],
   "source": [
    "# local variable\n",
    "\n",
    "def fun():\n",
    "    a=13"
   ]
  },
  {
   "cell_type": "code",
   "execution_count": null,
   "id": "6fe2d3d0",
   "metadata": {},
   "outputs": [],
   "source": [
    "# UTF-8----> encoding techniques\n",
    "\n",
    "# file handling----> open file, read the file, write the file\n",
    "\n",
    "import pandas as pd"
   ]
  },
  {
   "cell_type": "code",
   "execution_count": null,
   "id": "89c730be",
   "metadata": {},
   "outputs": [],
   "source": [
    "# df = pd.read_csv('coma separated file')\n",
    "# df.head()\n"
   ]
  },
  {
   "cell_type": "code",
   "execution_count": null,
   "id": "8b38f4d9",
   "metadata": {},
   "outputs": [],
   "source": [
    "# exception handling\n",
    "\n",
    "a= 6\n",
    "b= 3\n",
    " \n",
    "try:\n",
    "    print(a/b)\n",
    "    \n",
    "except:\n",
    "    print(\"e\")\n",
    "\n",
    "print(\"This is my important code!!\")"
   ]
  },
  {
   "cell_type": "code",
   "execution_count": null,
   "id": "e45edc0b",
   "metadata": {},
   "outputs": [],
   "source": [
    "# wap to count total number in a digit?\n",
    "\n",
    "n = 34528640933\n",
    "count=0\n",
    "\n",
    "while n>0:\n",
    "    count = count+1\n",
    "    n=n//10\n",
    "    \n",
    "    \n",
    "print(count)"
   ]
  },
  {
   "cell_type": "code",
   "execution_count": 11,
   "id": "77a0491a",
   "metadata": {},
   "outputs": [
    {
     "name": "stdout",
     "output_type": "stream",
     "text": [
      "7\n",
      "76\n",
      "765\n",
      "7653\n"
     ]
    }
   ],
   "source": [
    "# wap to reverse a number.\n",
    "\n",
    "a = 3567\n",
    "reverse_num = 0\n",
    "\n",
    "while a>0:\n",
    "    digit = a % 10\n",
    "    reverse_num = reverse_num*10+digit\n",
    "    a=a//10\n",
    "    \n",
    "    print(reverse_num)\n",
    "    \n",
    "\n"
   ]
  },
  {
   "cell_type": "code",
   "execution_count": 17,
   "id": "d7a9f9c1",
   "metadata": {},
   "outputs": [
    {
     "name": "stdout",
     "output_type": "stream",
     "text": [
      "Divisible\n"
     ]
    }
   ],
   "source": [
    "# wap to solve prime number.\n",
    "\n",
    "# wap to find number which is not only divisible by both 6 & 2 but also by 5.\n",
    "\n",
    "a= 30\n",
    "if a%5 == 0 and a% 2== 0 and a%6 == 0:\n",
    "    print(\"Divisible\")\n",
    "    \n",
    "else:\n",
    "    print(\"Not Divisible\")"
   ]
  },
  {
   "cell_type": "code",
   "execution_count": 18,
   "id": "f26c48af",
   "metadata": {},
   "outputs": [
    {
     "name": "stdout",
     "output_type": "stream",
     "text": [
      "prime number\n"
     ]
    }
   ],
   "source": [
    "# wap to solve prime number.\n",
    "\n",
    "x = 43\n",
    "n = 0\n",
    "for i in range(1,x+1):\n",
    "    if x%i == 0:\n",
    "        n=n+i\n",
    "if n == x+1:\n",
    "    print(\"prime number\")\n",
    "else:\n",
    "    print(\"not prime\")"
   ]
  },
  {
   "cell_type": "code",
   "execution_count": 20,
   "id": "6dc9d989",
   "metadata": {},
   "outputs": [
    {
     "data": {
      "text/plain": [
       "'olleh'"
      ]
     },
     "execution_count": 20,
     "metadata": {},
     "output_type": "execute_result"
    }
   ],
   "source": [
    "# wap to find a string is palindrome or not?\n",
    "\n",
    "a = 'hello'\n",
    "x = a[:: -1]\n",
    "x\n"
   ]
  },
  {
   "cell_type": "code",
   "execution_count": 21,
   "id": "82be6def",
   "metadata": {},
   "outputs": [
    {
     "name": "stdout",
     "output_type": "stream",
     "text": [
      "m\n",
      "a\n",
      "l\n",
      "a\n",
      "y\n",
      "a\n",
      "l\n",
      "a\n",
      "m\n"
     ]
    }
   ],
   "source": [
    "a = 'malayalam'\n",
    "for i in a:\n",
    "     print(i)"
   ]
  },
  {
   "cell_type": "code",
   "execution_count": 23,
   "id": "c8a36fe2",
   "metadata": {},
   "outputs": [
    {
     "name": "stdout",
     "output_type": "stream",
     "text": [
      "palindrome\n"
     ]
    }
   ],
   "source": [
    "a = 'malayalam'\n",
    "b = ''\n",
    "\n",
    "for i in a:\n",
    "    b = i+b\n",
    "if a == b:\n",
    "    print('palindrome')\n",
    "else:\n",
    "    print('not palindrome')"
   ]
  },
  {
   "cell_type": "code",
   "execution_count": null,
   "id": "163c761a",
   "metadata": {},
   "outputs": [],
   "source": []
  }
 ],
 "metadata": {
  "kernelspec": {
   "display_name": "Python 3 (ipykernel)",
   "language": "python",
   "name": "python3"
  },
  "language_info": {
   "codemirror_mode": {
    "name": "ipython",
    "version": 3
   },
   "file_extension": ".py",
   "mimetype": "text/x-python",
   "name": "python",
   "nbconvert_exporter": "python",
   "pygments_lexer": "ipython3",
   "version": "3.9.7"
  }
 },
 "nbformat": 4,
 "nbformat_minor": 5
}
