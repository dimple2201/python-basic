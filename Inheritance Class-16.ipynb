{
 "cells": [
  {
   "cell_type": "code",
   "execution_count": 8,
   "id": "d68ed724",
   "metadata": {},
   "outputs": [],
   "source": [
    "# Inheritance------>\n",
    "\n",
    "# Single Inheritance: in which child inhert their parent properties.We always make child object.\n",
    "\n",
    "class Parent:\n",
    "    def __init__(self,name,age):\n",
    "        self.name = name\n",
    "        self.age = age\n",
    "        \n",
    "class child(Parent):\n",
    "    def __init__(self,name,age,phone):\n",
    "        Parent.__init__(self,name,age)\n",
    "        self.phone = phone\n",
    "        \n",
    "c = child('a',23,1234)\n",
    "        \n",
    "\n",
    "    "
   ]
  },
  {
   "cell_type": "code",
   "execution_count": 9,
   "id": "b5111b95",
   "metadata": {},
   "outputs": [
    {
     "data": {
      "text/plain": [
       "'a'"
      ]
     },
     "execution_count": 9,
     "metadata": {},
     "output_type": "execute_result"
    }
   ],
   "source": [
    "c.name"
   ]
  },
  {
   "cell_type": "code",
   "execution_count": 10,
   "id": "27a6429f",
   "metadata": {},
   "outputs": [],
   "source": [
    "# super method---->\n",
    "\n",
    "class parent(object):\n",
    "    def __init__(self,name,age):\n",
    "        self.name = name\n",
    "        self.age = age\n",
    "class child(parent):\n",
    "    def __init__(self,name,age,phone):\n",
    "        super().__init__(name,age)\n",
    "        self.phone = phone\n",
    "    \n",
    "c = child('A',23,1234)\n",
    "    "
   ]
  },
  {
   "cell_type": "code",
   "execution_count": 11,
   "id": "3511c735",
   "metadata": {},
   "outputs": [
    {
     "data": {
      "text/plain": [
       "'A'"
      ]
     },
     "execution_count": 11,
     "metadata": {},
     "output_type": "execute_result"
    }
   ],
   "source": [
    "c.name"
   ]
  },
  {
   "cell_type": "code",
   "execution_count": 12,
   "id": "5410879e",
   "metadata": {},
   "outputs": [
    {
     "data": {
      "text/plain": [
       "1234"
      ]
     },
     "execution_count": 12,
     "metadata": {},
     "output_type": "execute_result"
    }
   ],
   "source": [
    "c.phone"
   ]
  },
  {
   "cell_type": "code",
   "execution_count": 25,
   "id": "f0089d21",
   "metadata": {},
   "outputs": [],
   "source": [
    "# wap and make a class and try to inhert the common properties from the emp and try to find the salary of emp if the \n",
    "#emp take more than 12 holidays total salary will deducted by 5%.\n",
    "\n",
    "class emp:\n",
    "    def __init__(self,name,age,holiday,salary):\n",
    "        self.name = name\n",
    "        self.age = age\n",
    "        self.holiday = holiday\n",
    "        self.salary = salary\n",
    "        \n",
    "class emp2(emp):\n",
    "    def __init__(self,name,age,holiday,salary):\n",
    "        emp.__init__(self,name,age,holiday,salary)\n",
    "    \n",
    "    def leave(self):   \n",
    "        if self.holiday>12:\n",
    "            ded = self.salary*5/100\n",
    "            total_sal = self.salary-ded\n",
    "            print('deduction:',ded)\n",
    "            print('total salary:',total_sal)\n",
    "        else:\n",
    "            print('no deduction')\n",
    "       \n",
    "    \n",
    "e = emp2('JOHN',34,14,560000)\n",
    "        "
   ]
  },
  {
   "cell_type": "code",
   "execution_count": 26,
   "id": "5c1770be",
   "metadata": {},
   "outputs": [
    {
     "data": {
      "text/plain": [
       "560000"
      ]
     },
     "execution_count": 26,
     "metadata": {},
     "output_type": "execute_result"
    }
   ],
   "source": [
    "e.salary"
   ]
  },
  {
   "cell_type": "code",
   "execution_count": 27,
   "id": "c8a56c08",
   "metadata": {},
   "outputs": [
    {
     "data": {
      "text/plain": [
       "14"
      ]
     },
     "execution_count": 27,
     "metadata": {},
     "output_type": "execute_result"
    }
   ],
   "source": [
    "e.holiday"
   ]
  },
  {
   "cell_type": "code",
   "execution_count": 28,
   "id": "8d89e82c",
   "metadata": {},
   "outputs": [
    {
     "name": "stdout",
     "output_type": "stream",
     "text": [
      "deduction: 28000.0\n",
      "total salary: 532000.0\n"
     ]
    }
   ],
   "source": [
    "e.leave()"
   ]
  },
  {
   "cell_type": "code",
   "execution_count": 29,
   "id": "0535b66a",
   "metadata": {},
   "outputs": [
    {
     "name": "stdout",
     "output_type": "stream",
     "text": [
      "deduction: 28000.0\n",
      "total salary: 532000.0\n"
     ]
    }
   ],
   "source": [
    "class emp:\n",
    "    def __init__(self,name,age,holiday,salary):\n",
    "        self.name = name\n",
    "        self.age = age\n",
    "        self.holiday = holiday\n",
    "        self.salary = salary\n",
    "        \n",
    "class emp2(emp):\n",
    "    def __init__(self,name,age,holiday,salary):\n",
    "        emp.__init__(self,name,age,holiday,salary)\n",
    "    \n",
    "    \n",
    "        if self.holiday>12:\n",
    "            ded = self.salary*5/100\n",
    "            total_sal = self.salary-ded\n",
    "            print('deduction:',ded)\n",
    "            print('total salary:',total_sal)\n",
    "        else:\n",
    "            print('no deduction')\n",
    "       \n",
    "    \n",
    "e = emp2('JOHN',34,14,560000)\n",
    "        "
   ]
  },
  {
   "cell_type": "code",
   "execution_count": 22,
   "id": "d7f827c0",
   "metadata": {},
   "outputs": [],
   "source": [
    "# wap to make a class of vehicle and define its attributes like speed, color and engine and try to find out the total dist \n",
    "# covered of the particular vehicle which having a speed of 80km/hr within 3 hr.\n",
    "\n",
    "class veh:\n",
    "    def __init__(self,speed,color,engine):\n",
    "        self.speed = speed\n",
    "        self.color = color\n",
    "        self.engine = engine\n",
    "\n",
    "class veh2(veh):\n",
    "    def __init__(self,speed,color,engine,time):\n",
    "        super().__init__(speed,color,engine)\n",
    "        self.time = time\n",
    "        \n",
    "    def dis(self):\n",
    "        dis_cov = self.speed*self.time\n",
    "        print('total distance covered in 3hr:',dis_cov,'km')\n",
    "\n",
    "    \n",
    "v=veh2(80,'black','good',3)"
   ]
  },
  {
   "cell_type": "code",
   "execution_count": 23,
   "id": "a12418a2",
   "metadata": {},
   "outputs": [
    {
     "data": {
      "text/plain": [
       "'black'"
      ]
     },
     "execution_count": 23,
     "metadata": {},
     "output_type": "execute_result"
    }
   ],
   "source": [
    "v.color"
   ]
  },
  {
   "cell_type": "code",
   "execution_count": 24,
   "id": "bc919329",
   "metadata": {},
   "outputs": [
    {
     "name": "stdout",
     "output_type": "stream",
     "text": [
      "total distance covered in 3hr: 240 km\n"
     ]
    }
   ],
   "source": [
    "v.dis()"
   ]
  },
  {
   "cell_type": "code",
   "execution_count": 33,
   "id": "ef73fea1",
   "metadata": {},
   "outputs": [
    {
     "name": "stdout",
     "output_type": "stream",
     "text": [
      "bonus: 238000.0\n",
      "total salary is 3638000.0\n"
     ]
    }
   ],
   "source": [
    "# wap and make a class and try to inhert the common properties from the emp and try to find the salary of emp if the \n",
    "#emp take more than 12 holidays total salary will deducted by 5% if the emp take 0 holiday then salary will be bonus by 7% and\n",
    "# also if a emp take atmost 6 holiday then 2% of the salary is given to the emp.\n",
    "\n",
    "class emp:\n",
    "    def __init__(self,name,age,salary,leave):\n",
    "        self.name = name\n",
    "        self.age = age\n",
    "        self.salary = salary\n",
    "        self.leave = leave\n",
    "        \n",
    "class emp2(emp):\n",
    "    def __init__(self,name,age,salary,leave):\n",
    "        super().__init__(name,age,salary,leave)\n",
    "        \n",
    "        if leave>12:\n",
    "            ded = self.salary*5/100\n",
    "            total_sal = self.salary-ded\n",
    "            print('deduction:',ded)\n",
    "            print('total salary is',total_sal)\n",
    "            \n",
    "        elif leave==0:\n",
    "            bonus = self.salary*7/100\n",
    "            total_sal = self.salary + bonus\n",
    "            print('bonus:',bonus)\n",
    "            print('total salary is',total_sal)\n",
    "        \n",
    "        elif leave\n",
    "        \n",
    "e=emp2('hary',23,3400000,0)\n"
   ]
  },
  {
   "cell_type": "code",
   "execution_count": 34,
   "id": "4a3e5990",
   "metadata": {},
   "outputs": [
    {
     "data": {
      "text/plain": [
       "0"
      ]
     },
     "execution_count": 34,
     "metadata": {},
     "output_type": "execute_result"
    }
   ],
   "source": [
    "e.leave"
   ]
  },
  {
   "cell_type": "code",
   "execution_count": 35,
   "id": "23d89417",
   "metadata": {},
   "outputs": [],
   "source": [
    "# wap to make a class and inherit the property of transport class like color,milage,and speed also a child class which is having\n",
    "#no unique property to display.\n",
    "\n",
    "class transport:\n",
    "    def __init__(self,name,color,brand,speed):\n",
    "        self.name = name\n",
    "        self.color = color\n",
    "        self.brand = brand\n",
    "        self.speed = speed\n",
    "        \n",
    "class child(transport):\n",
    "    def __init__(self,name,color,brand,speed):\n",
    "        transport.__init__(self,name,color,brand,speed)\n",
    "        \n",
    "c=child('car','white','mercedes','90km/hr')"
   ]
  },
  {
   "cell_type": "code",
   "execution_count": 36,
   "id": "46ea038b",
   "metadata": {},
   "outputs": [
    {
     "data": {
      "text/plain": [
       "'90km/hr'"
      ]
     },
     "execution_count": 36,
     "metadata": {},
     "output_type": "execute_result"
    }
   ],
   "source": [
    "c.speed"
   ]
  },
  {
   "cell_type": "code",
   "execution_count": 2,
   "id": "6963bddb",
   "metadata": {},
   "outputs": [
    {
     "data": {
      "text/plain": [
       "<__main__.person at 0x1e71e5fdf40>"
      ]
     },
     "execution_count": 2,
     "metadata": {},
     "output_type": "execute_result"
    }
   ],
   "source": [
    "# wap to make a class of having no properties,attributes or method just try to make the object of the empty class and try to get\n",
    "# the output of the code.\n",
    "\n",
    "class person:\n",
    "    pass\n",
    "\n",
    "person()"
   ]
  },
  {
   "cell_type": "code",
   "execution_count": 40,
   "id": "fd3c6756",
   "metadata": {},
   "outputs": [],
   "source": [
    "# wap and try to get the attributes of the particular class through the object.\n",
    "\n",
    "class animal:\n",
    "    def __init__(self,name,color,breed):\n",
    "        self.name = name\n",
    "        self.color = color\n",
    "        self.breed = breed\n",
    "    \n",
    "a=animal('max','black','pub')\n",
    "\n"
   ]
  },
  {
   "cell_type": "code",
   "execution_count": 41,
   "id": "b3446aaa",
   "metadata": {},
   "outputs": [
    {
     "data": {
      "text/plain": [
       "'black'"
      ]
     },
     "execution_count": 41,
     "metadata": {},
     "output_type": "execute_result"
    }
   ],
   "source": [
    "a.color"
   ]
  },
  {
   "cell_type": "code",
   "execution_count": 6,
   "id": "eb352ca0",
   "metadata": {},
   "outputs": [
    {
     "name": "stdout",
     "output_type": "stream",
     "text": [
      "max\n",
      "black\n"
     ]
    }
   ],
   "source": [
    "# using function\n",
    "\n",
    "class animal:\n",
    "    def info(self,name,color):\n",
    "        print(name)\n",
    "        print(color)\n",
    "    \n",
    "a=animal()\n",
    "a.info('max','black')"
   ]
  },
  {
   "cell_type": "code",
   "execution_count": null,
   "id": "76b123dc",
   "metadata": {},
   "outputs": [],
   "source": []
  }
 ],
 "metadata": {
  "kernelspec": {
   "display_name": "Python 3 (ipykernel)",
   "language": "python",
   "name": "python3"
  },
  "language_info": {
   "codemirror_mode": {
    "name": "ipython",
    "version": 3
   },
   "file_extension": ".py",
   "mimetype": "text/x-python",
   "name": "python",
   "nbconvert_exporter": "python",
   "pygments_lexer": "ipython3",
   "version": "3.9.7"
  }
 },
 "nbformat": 4,
 "nbformat_minor": 5
}
