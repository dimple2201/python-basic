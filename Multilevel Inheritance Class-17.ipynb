{
 "cells": [
  {
   "cell_type": "code",
   "execution_count": 1,
   "id": "3afd4dc8",
   "metadata": {},
   "outputs": [],
   "source": [
    "# multi-level inheritance---->\n",
    "\n",
    "# Method 1. inherit from gpc to pc to cc\n",
    "\n",
    "class gpc:\n",
    "    def __init__(self,name):\n",
    "        self.name=name\n",
    "        \n",
    "class pc(gpc):\n",
    "    def __init__(self,name,age):\n",
    "        super().__init__(name)\n",
    "        self.age=age\n",
    "        \n",
    "class child(pc):\n",
    "    def __init__(self,name,age,marks):\n",
    "        super().__init__(name,age)\n",
    "        self.marks=marks\n",
    "        \n",
    "c=child('a',33,564)\n",
    "            \n",
    "        "
   ]
  },
  {
   "cell_type": "code",
   "execution_count": 2,
   "id": "4a365804",
   "metadata": {},
   "outputs": [
    {
     "data": {
      "text/plain": [
       "564"
      ]
     },
     "execution_count": 2,
     "metadata": {},
     "output_type": "execute_result"
    }
   ],
   "source": [
    "c.marks"
   ]
  },
  {
   "cell_type": "code",
   "execution_count": 3,
   "id": "cffc05f2",
   "metadata": {},
   "outputs": [],
   "source": [
    "# Method 2. inherit from gpc to pc\n",
    "\n",
    "class gpc:\n",
    "    def __init__(self,name):\n",
    "        self.name=name\n",
    "        \n",
    "class pc(gpc):\n",
    "    def __init__(self,name,age):\n",
    "        super().__init__(name)\n",
    "        self.age=age\n",
    "        \n",
    "class child(pc):\n",
    "    def __init__(self,name,age,marks):\n",
    "        super().__init__(name,age)\n",
    "        self.marks=marks\n",
    "        \n",
    "c=pc('a',33)\n",
    "            "
   ]
  },
  {
   "cell_type": "code",
   "execution_count": 4,
   "id": "a34ef9f3",
   "metadata": {},
   "outputs": [
    {
     "data": {
      "text/plain": [
       "33"
      ]
     },
     "execution_count": 4,
     "metadata": {},
     "output_type": "execute_result"
    }
   ],
   "source": [
    "c.age"
   ]
  },
  {
   "cell_type": "code",
   "execution_count": 6,
   "id": "3b48b943",
   "metadata": {},
   "outputs": [],
   "source": [
    "# Method 3. inherit form gpc to child\n",
    "\n",
    "\n",
    "class gpc:\n",
    "    def __init__(self,name):\n",
    "        self.name=name\n",
    "        \n",
    "class pc(gpc):\n",
    "    def __init__(self,name,age):\n",
    "        super().__init__(name)\n",
    "        self.age=age\n",
    "        \n",
    "class child(gpc):\n",
    "    def __init__(self,name,marks):\n",
    "        super().__init__(name)\n",
    "        self.marks=marks\n",
    "        \n",
    "c=child('a',33)\n",
    "            \n"
   ]
  },
  {
   "cell_type": "code",
   "execution_count": 8,
   "id": "afe5c848",
   "metadata": {},
   "outputs": [
    {
     "data": {
      "text/plain": [
       "('a', 33)"
      ]
     },
     "execution_count": 8,
     "metadata": {},
     "output_type": "execute_result"
    }
   ],
   "source": [
    "c.name,c.marks"
   ]
  },
  {
   "cell_type": "code",
   "execution_count": 12,
   "id": "9e6f0cd6",
   "metadata": {},
   "outputs": [],
   "source": [
    "# Method 4. inherit from pc to child\n",
    "\n",
    "class gpc:\n",
    "    def __init__(self,name):\n",
    "        self.name=name\n",
    "        \n",
    "class pc:\n",
    "    def __init__(self,age):\n",
    "        self.age=age\n",
    "        \n",
    "class child(pc):\n",
    "    def __init__(self,age,marks):\n",
    "        super().__init__(age)\n",
    "        self.marks=marks\n",
    "        \n",
    "c=child(14,33)"
   ]
  },
  {
   "cell_type": "code",
   "execution_count": 13,
   "id": "0056579f",
   "metadata": {},
   "outputs": [
    {
     "data": {
      "text/plain": [
       "14"
      ]
     },
     "execution_count": 13,
     "metadata": {},
     "output_type": "execute_result"
    }
   ],
   "source": [
    "c.age"
   ]
  },
  {
   "cell_type": "code",
   "execution_count": 1,
   "id": "fd98801d",
   "metadata": {},
   "outputs": [
    {
     "ename": "IndentationError",
     "evalue": "expected an indented block (Temp/ipykernel_7516/3073482856.py, line 8)",
     "output_type": "error",
     "traceback": [
      "\u001b[1;36m  File \u001b[1;32m\"C:\\Users\\Asus\\AppData\\Local\\Temp/ipykernel_7516/3073482856.py\"\u001b[1;36m, line \u001b[1;32m8\u001b[0m\n\u001b[1;33m    class normal:\u001b[0m\n\u001b[1;37m                 ^\u001b[0m\n\u001b[1;31mIndentationError\u001b[0m\u001b[1;31m:\u001b[0m expected an indented block\n"
     ]
    }
   ],
   "source": [
    "# Wap make your parent class as empty class and also try to make a normal class having some attributes related to students and\n",
    "# try to find out the average marks of the student through the function itself and try to get the output of the empty parent \n",
    "# class normal class and the child class.\n",
    "\n",
    "class pc:\n",
    "    def __init__(self):\n",
    "        \n",
    "class normal:\n",
    "    def __init__(self,name):\n",
    "        self.name=name\n",
    "        \n",
    "class child(normal):\n",
    "    def __init__(self,name,marks):\n",
    "        super().__init__(name)\n",
    "        self.marks=marks\n",
    "        \n",
    "c=child('john',452)\n",
    "\n"
   ]
  },
  {
   "cell_type": "code",
   "execution_count": null,
   "id": "85fd0ed7",
   "metadata": {},
   "outputs": [],
   "source": []
  },
  {
   "cell_type": "code",
   "execution_count": null,
   "id": "8ef68582",
   "metadata": {},
   "outputs": [],
   "source": []
  }
 ],
 "metadata": {
  "kernelspec": {
   "display_name": "Python 3 (ipykernel)",
   "language": "python",
   "name": "python3"
  },
  "language_info": {
   "codemirror_mode": {
    "name": "ipython",
    "version": 3
   },
   "file_extension": ".py",
   "mimetype": "text/x-python",
   "name": "python",
   "nbconvert_exporter": "python",
   "pygments_lexer": "ipython3",
   "version": "3.9.7"
  }
 },
 "nbformat": 4,
 "nbformat_minor": 5
}
