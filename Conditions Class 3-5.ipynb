{
 "cells": [
  {
   "cell_type": "code",
   "execution_count": 1,
   "id": "4356be40",
   "metadata": {},
   "outputs": [
    {
     "name": "stdout",
     "output_type": "stream",
     "text": [
      "Enter the first number5\n",
      "Enter the second number2\n",
      "52\n"
     ]
    }
   ],
   "source": [
    "a=input('Enter the first number')\n",
    "b=input('Enter the second number')\n",
    "c=a+b\n",
    "print(c)"
   ]
  },
  {
   "cell_type": "code",
   "execution_count": 2,
   "id": "d3b4658b",
   "metadata": {},
   "outputs": [
    {
     "name": "stdout",
     "output_type": "stream",
     "text": [
      "Enter the first number5\n",
      "Enter the second number2\n",
      "7\n"
     ]
    }
   ],
   "source": [
    "#data typecasting------> add int in front of upper code and add two number\n",
    "\n",
    "\n",
    "a= int(input('Enter the first number'))\n",
    "b= int(input('Enter the second number'))\n",
    "c=a+b\n",
    "print(c)"
   ]
  },
  {
   "cell_type": "code",
   "execution_count": 3,
   "id": "7f516c10",
   "metadata": {},
   "outputs": [
    {
     "name": "stdout",
     "output_type": "stream",
     "text": [
      "Enter the first number1\n",
      "Enter the second number4\n",
      "5\n"
     ]
    }
   ],
   "source": [
    "a= input('Enter the first number')\n",
    "b= input('Enter the second number')\n",
    "c= int(a)+int(b)\n",
    "print (c)"
   ]
  },
  {
   "cell_type": "code",
   "execution_count": 4,
   "id": "e5462377",
   "metadata": {},
   "outputs": [
    {
     "name": "stdout",
     "output_type": "stream",
     "text": [
      "ENter the first number2\n",
      "Enter the second number4.5\n",
      "6.5\n"
     ]
    }
   ],
   "source": [
    "a=int(input('ENter the first number'))\n",
    "b=float(input('Enter the second number'))\n",
    "c=a+b\n",
    "print(c)"
   ]
  },
  {
   "cell_type": "code",
   "execution_count": 11,
   "id": "7ae7e191",
   "metadata": {},
   "outputs": [
    {
     "name": "stdout",
     "output_type": "stream",
     "text": [
      "Child!!\n"
     ]
    }
   ],
   "source": [
    "#conditions------>\n",
    "# if\n",
    "# else\n",
    "\n",
    "#syntax-----> if condition:\n",
    "#                print(whatever you want) {indentation error if you not leave some gap before print function for condition case}\n",
    "# when condition is true then if condition is working.\n",
    "# when condtion is false if condition don't work. Then we will use else condition.\n",
    "# there are no condition in else.\n",
    "\n",
    "\n",
    "age= 16\n",
    "if age>18:\n",
    "    print('Adult')\n",
    "else:\n",
    "    print('Child!!')\n"
   ]
  },
  {
   "cell_type": "code",
   "execution_count": 2,
   "id": "62a8f966",
   "metadata": {},
   "outputs": [
    {
     "name": "stdout",
     "output_type": "stream",
     "text": [
      "B is greater than A\n"
     ]
    }
   ],
   "source": [
    "a=45\n",
    "b=87\n",
    "if b>a:\n",
    "    print('B is greater than A')"
   ]
  },
  {
   "cell_type": "code",
   "execution_count": 4,
   "id": "925f9283",
   "metadata": {},
   "outputs": [],
   "source": [
    "# when condtion is false if condition don't work. Then we will use else condition.\n",
    "\n",
    "a=45\n",
    "b=87\n",
    "if a>b:\n",
    "    print('A is greater than B')"
   ]
  },
  {
   "cell_type": "code",
   "execution_count": 5,
   "id": "c9c155f3",
   "metadata": {},
   "outputs": [
    {
     "name": "stdout",
     "output_type": "stream",
     "text": [
      "B is greater than A\n"
     ]
    }
   ],
   "source": [
    "a=45\n",
    "b=87\n",
    "if a>b:\n",
    "    print('A is greater than B')\n",
    "else:\n",
    "    print('B is greater than A')"
   ]
  },
  {
   "cell_type": "code",
   "execution_count": 2,
   "id": "f6704df1",
   "metadata": {},
   "outputs": [
    {
     "ename": "IndentationError",
     "evalue": "expected an indented block (Temp/ipykernel_3412/746392889.py, line 3)",
     "output_type": "error",
     "traceback": [
      "\u001b[1;36m  File \u001b[1;32m\"C:\\Users\\Asus\\AppData\\Local\\Temp/ipykernel_3412/746392889.py\"\u001b[1;36m, line \u001b[1;32m3\u001b[0m\n\u001b[1;33m    print('Adult')\u001b[0m\n\u001b[1;37m    ^\u001b[0m\n\u001b[1;31mIndentationError\u001b[0m\u001b[1;31m:\u001b[0m expected an indented block\n"
     ]
    }
   ],
   "source": [
    "{indentation error if you not leave some gap before print function for condition case}\n",
    "\n",
    "age= 16\n",
    "if age>18:\n",
    "print('Adult')"
   ]
  },
  {
   "cell_type": "code",
   "execution_count": 12,
   "id": "ee8346cf",
   "metadata": {},
   "outputs": [
    {
     "name": "stdout",
     "output_type": "stream",
     "text": [
      "ENTER YOUR AGE51\n",
      "adult\n"
     ]
    }
   ],
   "source": [
    "age= int (input('ENTER YOUR AGE'))\n",
    "if age>18:\n",
    "    print('adult')\n",
    "else:\n",
    "    print ('child')\n",
    "        \n"
   ]
  },
  {
   "cell_type": "code",
   "execution_count": 13,
   "id": "5f4b2f22",
   "metadata": {},
   "outputs": [
    {
     "name": "stdout",
     "output_type": "stream",
     "text": [
      "Enter your age18\n",
      "teenager\n"
     ]
    }
   ],
   "source": [
    "#cond for elif---->1. there must be if condition present already in the code.\n",
    "# 2. we can use elif condition only before else condition.\n",
    "\n",
    "\n",
    "age=int (input('Enter your age'))\n",
    "if age>18:\n",
    "    print('adult')\n",
    "elif age==18:\n",
    "    print ('teenager')\n",
    "else:\n",
    "    print ('child')"
   ]
  },
  {
   "cell_type": "code",
   "execution_count": 7,
   "id": "4ca66f5b",
   "metadata": {},
   "outputs": [
    {
     "name": "stdout",
     "output_type": "stream",
     "text": [
      "C is the greatest\n"
     ]
    }
   ],
   "source": [
    "a=23\n",
    "b=43\n",
    "c=84\n",
    "\n",
    "if a>b and a>c:\n",
    "    print('A is the greatest')\n",
    "elif b>c and b>a:\n",
    "    print('B is the greatest')\n",
    "else:\n",
    "    print('C is the greatest')"
   ]
  },
  {
   "cell_type": "code",
   "execution_count": 7,
   "id": "358ce801",
   "metadata": {},
   "outputs": [
    {
     "name": "stdout",
     "output_type": "stream",
     "text": [
      "Enter your salary6000\n",
      "Enter your yos8\n",
      "YOu will get the bonus of---> 300.0\n",
      "total salary will be----> 6300.0\n"
     ]
    }
   ],
   "source": [
    "#A company decided to give bonus of 5% to employee if his/her year of service is more than 5 years. Ask user for their salary \n",
    "# and year of service and print the net bonus amount.Also print total salary received by the user.\n",
    "\n",
    "\n",
    "salary=int(input('Enter your salary'))\n",
    "yos=int(input('Enter your yos'))\n",
    "if yos>5:\n",
    "     bonus= (salary*5)/100\n",
    "     total_salary=salary+bonus   \n",
    "     print('YOu will get the bonus of--->',bonus) \n",
    "     print('total salary will be---->',total_salary)\n",
    "else:\n",
    "    print('no bonus')"
   ]
  },
  {
   "cell_type": "code",
   "execution_count": 11,
   "id": "9395d5a1",
   "metadata": {},
   "outputs": [
    {
     "name": "stdout",
     "output_type": "stream",
     "text": [
      "Enter the length5\n",
      "Enter the breadth6\n",
      "rectangle\n"
     ]
    }
   ],
   "source": [
    "#Take values of length and breadth of a rectangle from user and check if it is square or not.\n",
    "\n",
    "\n",
    "\n",
    "l = int(input('Enter the length'))\n",
    "b = int(input('Enter the breadth'))\n",
    "\n",
    "if l==b:\n",
    "    print('square')\n",
    "else:\n",
    "    print('rectangle')\n",
    "    "
   ]
  },
  {
   "cell_type": "code",
   "execution_count": 14,
   "id": "8a6fd227",
   "metadata": {},
   "outputs": [
    {
     "name": "stdout",
     "output_type": "stream",
     "text": [
      "enter first no.56\n",
      "enter second no.85\n",
      "enter third no.45\n",
      "B is greater\n"
     ]
    }
   ],
   "source": [
    "#Take three int values from user and print greatest among them.\n",
    "\n",
    "a = int(input('enter first no.'))\n",
    "b = int(input('enter second no.'))\n",
    "c = int(input('enter third no.'))\n",
    "\n",
    "\n",
    "if a>b and a>c:\n",
    "    print('A is greater')\n",
    "elif b>a and b>c:\n",
    "    print('B is greater')\n",
    "else:\n",
    "    print('C is greater')\n",
    "\n",
    " #elif c>a and c>b:\n",
    "\n",
    "#      print('C is greater')"
   ]
  },
  {
   "cell_type": "code",
   "execution_count": 3,
   "id": "7de1fdf0",
   "metadata": {},
   "outputs": [
    {
     "name": "stdout",
     "output_type": "stream",
     "text": [
      "you will get discount----> 340.0\n",
      "total bill will be-----> 3060.0\n"
     ]
    }
   ],
   "source": [
    "#A shop will give discount of 10% if the cost of purchased bill is more than 1000. Ask user for quantity\n",
    "# Suppose, one unit will cost 100. Judge and print total cost for user.\n",
    "\n",
    "item_price = 100\n",
    "quantity_of_item_purchase = 34\n",
    "total_bill = item_price * quantity_of_item_purchase\n",
    "\n",
    "\n",
    "if total_bill > 1000:\n",
    "    discount = (total_bill*10)/100\n",
    "    total_bill= total_bill-discount\n",
    "    print('you will get discount---->',discount)\n",
    "    print('total bill will be----->',total_bill)\n",
    "else:\n",
    "    print('no discount')"
   ]
  },
  {
   "cell_type": "code",
   "execution_count": 10,
   "id": "38f9c113",
   "metadata": {},
   "outputs": [
    {
     "name": "stdout",
     "output_type": "stream",
     "text": [
      "Enter the marks44\n",
      "E grade\n"
     ]
    }
   ],
   "source": [
    "#A school has following rules for grading system:\n",
    "# a. Below 25 - F\n",
    "# b. 25 to 45 - E\n",
    "# c. 45 to 50 - D\n",
    "# d. 50 to 60 - C\n",
    "# e. 60 to 80 - B\n",
    "# f. Above 80 - A\n",
    "# Ask user to enter marks and print the corresponding grade.\n",
    "\n",
    "grade = float(input('Enter the marks'))\n",
    "\n",
    "if grade > 80:\n",
    "    print('A grade')\n",
    "elif grade <= 80 and grade > 60:\n",
    "    print('B grade')\n",
    "elif grade <= 60 and grade > 50:\n",
    "    print('C grade')\n",
    "elif grade <= 50 and grade > 45:\n",
    "    print ('D grade')\n",
    "elif grade <= 45 and grade > 25:\n",
    "    print ('E grade')\n",
    "elif grade <= 25:\n",
    "    print ('F grade')"
   ]
  },
  {
   "cell_type": "code",
   "execution_count": 1,
   "id": "85f02a96",
   "metadata": {},
   "outputs": [
    {
     "name": "stdout",
     "output_type": "stream",
     "text": [
      "enter the age of first person20\n",
      "enter the age of second person10\n",
      "enter the age of third person34\n",
      "third person is oldest\n",
      "second person is Youngest\n"
     ]
    }
   ],
   "source": [
    "# Take input of age of 3 people by user and determine oldest and youngest among them.\n",
    "\n",
    "first_person=int(input('enter the age of first person'))\n",
    "second_person=int(input('enter the age of second person'))\n",
    "third_person=int(input('enter the age of third person'))\n",
    "\n",
    "if first_person > second_person and first_person > third_person:\n",
    "    print ('first person is oldest')\n",
    "elif second_person > first_person and second_person > third_person:\n",
    "    print ('second person is oldest')\n",
    "elif third_person > first_person and third_person > second_person: \n",
    "    print ('third person is oldest')\n",
    "if first_person < second_person and first_person < third_person:\n",
    "    print ('first person is Youngest')\n",
    "elif second_person < first_person and second_person < third_person:\n",
    "    print ('second person is Youngest')\n",
    "elif third_person < first_person and third_person < second_person: \n",
    "    print ('third person is Yougest')"
   ]
  },
  {
   "cell_type": "code",
   "execution_count": 32,
   "id": "ca2c7766",
   "metadata": {},
   "outputs": [
    {
     "name": "stdout",
     "output_type": "stream",
     "text": [
      "45\n"
     ]
    }
   ],
   "source": [
    "# wap to swap two numbers with and without the help of temporary variable.\n",
    "\n",
    "a=20\n",
    "b=45 \n",
    "\n",
    "c = a\n",
    "a = b\n",
    "b = c\n",
    "\n",
    "print(a)"
   ]
  },
  {
   "cell_type": "code",
   "execution_count": 33,
   "id": "f2faffc8",
   "metadata": {},
   "outputs": [
    {
     "name": "stdout",
     "output_type": "stream",
     "text": [
      "20\n"
     ]
    }
   ],
   "source": [
    "print(b)\n",
    "        \n"
   ]
  },
  {
   "cell_type": "code",
   "execution_count": 34,
   "id": "6b56c843",
   "metadata": {},
   "outputs": [
    {
     "name": "stdout",
     "output_type": "stream",
     "text": [
      "45\n"
     ]
    }
   ],
   "source": [
    "#without temp variable.\n",
    "\n",
    "a=23\n",
    "b=45\n",
    "\n",
    "a,b = b,a\n",
    "print(a)\n"
   ]
  },
  {
   "cell_type": "code",
   "execution_count": 35,
   "id": "d187de06",
   "metadata": {},
   "outputs": [
    {
     "name": "stdout",
     "output_type": "stream",
     "text": [
      "23\n"
     ]
    }
   ],
   "source": [
    "print(b)"
   ]
  },
  {
   "cell_type": "code",
   "execution_count": 37,
   "id": "2b28ae92",
   "metadata": {},
   "outputs": [
    {
     "name": "stdout",
     "output_type": "stream",
     "text": [
      "enter the no. of classes48\n",
      "Enter the no. of attend classes40\n",
      "83.33333333333333\n",
      "student is allowed to sit in exam\n"
     ]
    }
   ],
   "source": [
    "# A student will not be allowed to sit in exam if his/her attendance is less than 75%. Take following input from user\n",
    "# Number of classes held Number of classes attended. And print percentage of class attended.\n",
    "# Is student is allowed to sit in exam or not.\n",
    "\n",
    "\n",
    "classes = int(input('enter the no. of classes'))\n",
    "attendance = int(input('Enter the no. of attend classes'))\n",
    "\n",
    "per_class_attend = (attendance*100)/classes\n",
    "print(per_class_attend)\n",
    "\n",
    "if per_class_attend > 75:\n",
    "   print('student is allowed to sit in exam')\n",
    "else:\n",
    "    print ('not allowed in exam')"
   ]
  },
  {
   "cell_type": "code",
   "execution_count": 42,
   "id": "857475e4",
   "metadata": {},
   "outputs": [
    {
     "name": "stdout",
     "output_type": "stream",
     "text": [
      "enter the no. of classes45\n",
      "Enter the no. of attend classes15\n",
      "33.333333333333336\n",
      "not allowed------no medical condition\n"
     ]
    }
   ],
   "source": [
    "# Modify the above question to allow student to sit if he/she has medical cause. Ask user if he/she has medical cause or not\n",
    "# ('Y' OR 'N') and print accordingly\n",
    "\n",
    "\n",
    "classes = int(input('enter the no. of classes'))\n",
    "attendance = int(input('Enter the no. of attend classes'))\n",
    "medical_condition = 'no'\n",
    "\n",
    "per_class_attend = (attendance*100)/classes\n",
    "print(per_class_attend)\n",
    "\n",
    "if per_class_attend > 75:\n",
    "   print('student is allowed to sit in exam')\n",
    "elif per_class_attend < 75:\n",
    "    if medical_condition == 'yes':\n",
    "        print('allowed due to medical condition')\n",
    "    else:\n",
    "        print('not allowed------no medical condition')\n",
    "else:\n",
    "    print ('not allowed in exam')\n"
   ]
  },
  {
   "cell_type": "code",
   "execution_count": 2,
   "id": "203ad801",
   "metadata": {},
   "outputs": [
    {
     "name": "stdout",
     "output_type": "stream",
     "text": [
      "enter first no.45\n",
      "enter second no.52\n",
      "enter third no.78\n",
      "C is greater\n"
     ]
    }
   ],
   "source": [
    "#Take three int values from user and print greatest among them.\n",
    "\n",
    "a = int(input('enter first no.'))\n",
    "b = int(input('enter second no.'))\n",
    "c = int(input('enter third no.'))\n",
    "\n",
    "\n",
    "if a>b and a>c:\n",
    "    print('A is greater')\n",
    "elif b>a and b>c:\n",
    "    print('B is greater')\n",
    "\n",
    "elif c>a and c>b:\n",
    "    print('C is greater')"
   ]
  },
  {
   "cell_type": "code",
   "execution_count": 5,
   "id": "5a7e416a",
   "metadata": {},
   "outputs": [],
   "source": [
    "# if with tuple\n",
    "\n",
    "tup1=('f','b','c')"
   ]
  },
  {
   "cell_type": "code",
   "execution_count": 6,
   "id": "5a8617b3",
   "metadata": {},
   "outputs": [
    {
     "name": "stdout",
     "output_type": "stream",
     "text": [
      "vaule a is not present in tup1\n"
     ]
    }
   ],
   "source": [
    "if 'a' in tup1:\n",
    "    print('value a is present in tup1')\n",
    "else:\n",
    "    print('vaule a is not present in tup1')"
   ]
  },
  {
   "cell_type": "code",
   "execution_count": 7,
   "id": "5c609ff1",
   "metadata": {},
   "outputs": [],
   "source": [
    "# if with list\n",
    "\n",
    "l1=['a','b','c']"
   ]
  },
  {
   "cell_type": "code",
   "execution_count": 10,
   "id": "a7f6a45c",
   "metadata": {},
   "outputs": [
    {
     "data": {
      "text/plain": [
       "['a', 'z', 'c']"
      ]
     },
     "execution_count": 10,
     "metadata": {},
     "output_type": "execute_result"
    }
   ],
   "source": [
    "if l1[1]=='b':\n",
    "    l1[1]='z'\n",
    "l1"
   ]
  },
  {
   "cell_type": "code",
   "execution_count": null,
   "id": "7b0adcdf",
   "metadata": {},
   "outputs": [],
   "source": [
    "# if with dictionary"
   ]
  },
  {
   "cell_type": "code",
   "execution_count": 12,
   "id": "fecd58bb",
   "metadata": {},
   "outputs": [
    {
     "data": {
      "text/plain": [
       "{'k1': 10, 'k2': 20, 'k3': 30}"
      ]
     },
     "execution_count": 12,
     "metadata": {},
     "output_type": "execute_result"
    }
   ],
   "source": [
    "d1={'k1':10,'k2': 20,'k3':30}\n",
    "d1"
   ]
  },
  {
   "cell_type": "code",
   "execution_count": 14,
   "id": "af423d36",
   "metadata": {},
   "outputs": [
    {
     "data": {
      "text/plain": [
       "{'k1': 10, 'k2': 20, 'k3': 130}"
      ]
     },
     "execution_count": 14,
     "metadata": {},
     "output_type": "execute_result"
    }
   ],
   "source": [
    "if d1['k3']==30:\n",
    "    d1['k3']=d1['k3']+100\n",
    "d1"
   ]
  },
  {
   "cell_type": "markdown",
   "id": "6ff90217",
   "metadata": {},
   "source": [
    " "
   ]
  }
 ],
 "metadata": {
  "kernelspec": {
   "display_name": "Python 3 (ipykernel)",
   "language": "python",
   "name": "python3"
  },
  "language_info": {
   "codemirror_mode": {
    "name": "ipython",
    "version": 3
   },
   "file_extension": ".py",
   "mimetype": "text/x-python",
   "name": "python",
   "nbconvert_exporter": "python",
   "pygments_lexer": "ipython3",
   "version": "3.9.7"
  }
 },
 "nbformat": 4,
 "nbformat_minor": 5
}
