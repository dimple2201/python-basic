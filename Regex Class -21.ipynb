{
 "cells": [
  {
   "cell_type": "code",
   "execution_count": 1,
   "id": "a5f30c8f",
   "metadata": {},
   "outputs": [],
   "source": [
    "# Regex : Regex is combination of two words Reg means regular and ex means expression.\n",
    "# It is work with string.\n",
    "# search\n",
    "#findall\n",
    "#sub\n",
    "#finditer\n",
    "#split"
   ]
  },
  {
   "cell_type": "code",
   "execution_count": 4,
   "id": "8fe86412",
   "metadata": {},
   "outputs": [],
   "source": [
    "import re"
   ]
  },
  {
   "cell_type": "code",
   "execution_count": 7,
   "id": "c12e0897",
   "metadata": {},
   "outputs": [],
   "source": [
    "# findall\n",
    "a = 'I am a lion.Lion is a wild animal.lion is very chill bro'\n",
    "x = re.findall('lion',a)\n",
    "\n"
   ]
  },
  {
   "cell_type": "code",
   "execution_count": 8,
   "id": "2a1745a2",
   "metadata": {},
   "outputs": [
    {
     "data": {
      "text/plain": [
       "['lion', 'lion']"
      ]
     },
     "execution_count": 8,
     "metadata": {},
     "output_type": "execute_result"
    }
   ],
   "source": [
    "x"
   ]
  },
  {
   "cell_type": "code",
   "execution_count": 9,
   "id": "d9fbf8a6",
   "metadata": {},
   "outputs": [
    {
     "data": {
      "text/plain": [
       "<re.Match object; span=(7, 11), match='lion'>"
      ]
     },
     "execution_count": 9,
     "metadata": {},
     "output_type": "execute_result"
    }
   ],
   "source": [
    "#search\n",
    "\n",
    "a = 'I am a lion.Lion is a wild animal.lion is very chill bro'\n",
    "re.search('lion',a)"
   ]
  },
  {
   "cell_type": "raw",
   "id": "1f9fb245",
   "metadata": {},
   "source": [
    "#sub\n"
   ]
  },
  {
   "cell_type": "raw",
   "id": "530dd22e",
   "metadata": {},
   "source": []
  },
  {
   "cell_type": "code",
   "execution_count": 10,
   "id": "ee17c86f",
   "metadata": {},
   "outputs": [
    {
     "data": {
      "text/plain": [
       "'I am a tiger.Lion is a wild animal.tiger is very chill bro'"
      ]
     },
     "execution_count": 10,
     "metadata": {},
     "output_type": "execute_result"
    }
   ],
   "source": [
    "# sub\n",
    "\n",
    "a = 'I am a lion.Lion is a wild animal.lion is very chill bro'\n",
    "re.sub('lion','tiger',a)"
   ]
  },
  {
   "cell_type": "code",
   "execution_count": 11,
   "id": "7102609f",
   "metadata": {},
   "outputs": [
    {
     "data": {
      "text/plain": [
       "['I am a ', '.Lion is a wild animal.', ' is very chill bro']"
      ]
     },
     "execution_count": 11,
     "metadata": {},
     "output_type": "execute_result"
    }
   ],
   "source": [
    "# split\n",
    "\n",
    "a = 'I am a lion.Lion is a wild animal.lion is very chill bro'\n",
    "re.split('lion',a)"
   ]
  },
  {
   "cell_type": "code",
   "execution_count": 12,
   "id": "3d068782",
   "metadata": {},
   "outputs": [
    {
     "name": "stdout",
     "output_type": "stream",
     "text": [
      "starting point is: 8 ending point is: 9\n",
      "starting point is: 13 ending point is: 14\n",
      "starting point is: 17 ending point is: 18\n",
      "starting point is: 23 ending point is: 24\n",
      "starting point is: 29 ending point is: 30\n",
      "starting point is: 35 ending point is: 36\n",
      "starting point is: 39 ending point is: 40\n",
      "starting point is: 49 ending point is: 50\n"
     ]
    }
   ],
   "source": [
    "# finditer\n",
    "a = 'I am a lion.Lion is a wild animal.lion is very chill bro'\n",
    "pattern = 'i'\n",
    "for i in re.finditer(pattern,a):\n",
    "    x = i.start()\n",
    "    y = i.end()\n",
    "    print('starting point is:',x,'ending point is:',y)"
   ]
  },
  {
   "cell_type": "code",
   "execution_count": 11,
   "id": "3bac59c2",
   "metadata": {},
   "outputs": [],
   "source": [
    "#"
   ]
  },
  {
   "cell_type": "code",
   "execution_count": null,
   "id": "ced19a53",
   "metadata": {},
   "outputs": [],
   "source": []
  },
  {
   "cell_type": "code",
   "execution_count": null,
   "id": "a7616cbb",
   "metadata": {},
   "outputs": [],
   "source": []
  }
 ],
 "metadata": {
  "kernelspec": {
   "display_name": "Python 3 (ipykernel)",
   "language": "python",
   "name": "python3"
  },
  "language_info": {
   "codemirror_mode": {
    "name": "ipython",
    "version": 3
   },
   "file_extension": ".py",
   "mimetype": "text/x-python",
   "name": "python",
   "nbconvert_exporter": "python",
   "pygments_lexer": "ipython3",
   "version": "3.9.7"
  }
 },
 "nbformat": 4,
 "nbformat_minor": 5
}
