{
 "cells": [
  {
   "cell_type": "code",
   "execution_count": 1,
   "id": "c53e6057",
   "metadata": {},
   "outputs": [],
   "source": [
    "# OOPS : Object Oriented Programming Structure\n",
    "# Class and object is important in oops.\n",
    "# Class is a blueprint of object. class is a user-defined data-types. Class contains properties of object.\n",
    "# Object are specific instances of a class."
   ]
  },
  {
   "cell_type": "code",
   "execution_count": 2,
   "id": "86195edb",
   "metadata": {},
   "outputs": [
    {
     "name": "stdout",
     "output_type": "stream",
     "text": [
      "10\n"
     ]
    },
    {
     "data": {
      "text/plain": [
       "<__main__.bike at 0x1dfb2037a90>"
      ]
     },
     "execution_count": 2,
     "metadata": {},
     "output_type": "execute_result"
    }
   ],
   "source": [
    "class bike:\n",
    "    a = 10\n",
    "    print(a)\n",
    "    \n",
    "bike()    "
   ]
  },
  {
   "cell_type": "code",
   "execution_count": 3,
   "id": "1a75c2ef",
   "metadata": {},
   "outputs": [
    {
     "name": "stdout",
     "output_type": "stream",
     "text": [
      "10\n"
     ]
    }
   ],
   "source": [
    "class bike:\n",
    "    a=10\n",
    "    print(a)\n",
    "b= bike()"
   ]
  },
  {
   "cell_type": "code",
   "execution_count": 5,
   "id": "f46b7bab",
   "metadata": {},
   "outputs": [
    {
     "name": "stdout",
     "output_type": "stream",
     "text": [
      "('hello', 'hi', 'how are you')\n"
     ]
    }
   ],
   "source": [
    "# wap to greet hello hi how are you using class and object.\n",
    "\n",
    "class greet:\n",
    "    a= 'hello', 'hi', 'how are you'\n",
    "    print(a)\n",
    "b= greet()\n"
   ]
  },
  {
   "cell_type": "code",
   "execution_count": 9,
   "id": "9d44126e",
   "metadata": {},
   "outputs": [
    {
     "name": "stdout",
     "output_type": "stream",
     "text": [
      "Diya\n"
     ]
    }
   ],
   "source": [
    "class student:\n",
    "    def info(self):\n",
    "        name = 'Diya'\n",
    "        print(name)\n",
    "        \n",
    "        \n",
    "s=student()\n",
    "s.info()"
   ]
  },
  {
   "cell_type": "code",
   "execution_count": 3,
   "id": "d0d9990d",
   "metadata": {},
   "outputs": [
    {
     "data": {
      "text/plain": [
       "3"
      ]
     },
     "execution_count": 3,
     "metadata": {},
     "output_type": "execute_result"
    }
   ],
   "source": [
    "# wap to add two numver with the help of class and object using function(with argument no return)\n",
    "\n",
    "class sum:\n",
    "    def add(self,a,b):\n",
    "        c=a+b\n",
    "        return c\n",
    "        \n",
    "s=sum()\n",
    "s.add(1,2)"
   ]
  },
  {
   "cell_type": "code",
   "execution_count": 7,
   "id": "81f5a913",
   "metadata": {},
   "outputs": [],
   "source": [
    "# Constructor-----> \n",
    "\n",
    "# wap to make a class of employee having name ,age and salary.\n",
    "\n",
    "class emp:\n",
    "    def __init__(self,name,age,salary):\n",
    "        self.name = name\n",
    "        self.age=age\n",
    "        self.salary = salary\n",
    "        \n",
    "e = emp('A',23,45000)"
   ]
  },
  {
   "cell_type": "code",
   "execution_count": 8,
   "id": "5fbfbe5f",
   "metadata": {},
   "outputs": [
    {
     "data": {
      "text/plain": [
       "23"
      ]
     },
     "execution_count": 8,
     "metadata": {},
     "output_type": "execute_result"
    }
   ],
   "source": [
    "e.age"
   ]
  },
  {
   "cell_type": "code",
   "execution_count": 9,
   "id": "b3730a12",
   "metadata": {},
   "outputs": [
    {
     "data": {
      "text/plain": [
       "('A', 23, 45000)"
      ]
     },
     "execution_count": 9,
     "metadata": {},
     "output_type": "execute_result"
    }
   ],
   "source": [
    "e.name,e.age,e.salary"
   ]
  },
  {
   "cell_type": "code",
   "execution_count": 18,
   "id": "30f7bd5d",
   "metadata": {},
   "outputs": [],
   "source": [
    "# wap and make a class of emp having properties of name, age and salary and try to get the output of the data with the help of \n",
    "# constructor!! also find the avg salary of the emp.\n",
    "\n",
    "class emp:\n",
    "    def __init__(self,name,age,salary):\n",
    "        self.name = name\n",
    "        self.age = age\n",
    "        self.salary = salary\n",
    "        \n",
    "# function for avg salary\n",
    "        \n",
    "    def avg_sal(self):\n",
    "        sal=self.salary//12\n",
    "        return sal\n",
    "\n",
    "e = emp('komal',20,560000)"
   ]
  },
  {
   "cell_type": "code",
   "execution_count": 11,
   "id": "09b25b9f",
   "metadata": {},
   "outputs": [
    {
     "data": {
      "text/plain": [
       "('komal', 20, 56000)"
      ]
     },
     "execution_count": 11,
     "metadata": {},
     "output_type": "execute_result"
    }
   ],
   "source": [
    "e.name,e.age,e.salary"
   ]
  },
  {
   "cell_type": "code",
   "execution_count": 20,
   "id": "30fe15fc",
   "metadata": {},
   "outputs": [
    {
     "data": {
      "text/plain": [
       "46666"
      ]
     },
     "execution_count": 20,
     "metadata": {},
     "output_type": "execute_result"
    }
   ],
   "source": [
    "e.avg_sal()"
   ]
  },
  {
   "cell_type": "code",
   "execution_count": 28,
   "id": "62ab1ced",
   "metadata": {},
   "outputs": [],
   "source": [
    "# wap to find the speed of the car which cover a distance of 14km in 20min. Find the speed in km/hr using constructor.\n",
    "\n",
    "class car:\n",
    "    def __init__(self,distance,time):\n",
    "        self.distance = distance\n",
    "        self.time = time\n",
    "    def speed(self):\n",
    "        s=self.distance/(self.time/60)\n",
    "        return s\n",
    "    \n",
    "c = car (14,20)"
   ]
  },
  {
   "cell_type": "code",
   "execution_count": 29,
   "id": "98117433",
   "metadata": {},
   "outputs": [
    {
     "data": {
      "text/plain": [
       "(14, 20)"
      ]
     },
     "execution_count": 29,
     "metadata": {},
     "output_type": "execute_result"
    }
   ],
   "source": [
    "c.distance,c.time"
   ]
  },
  {
   "cell_type": "code",
   "execution_count": 30,
   "id": "7e333c33",
   "metadata": {},
   "outputs": [
    {
     "data": {
      "text/plain": [
       "42.0"
      ]
     },
     "execution_count": 30,
     "metadata": {},
     "output_type": "execute_result"
    }
   ],
   "source": [
    "c.speed()"
   ]
  },
  {
   "cell_type": "code",
   "execution_count": 1,
   "id": "239ad30b",
   "metadata": {},
   "outputs": [],
   "source": [
    "# wap to make a class of automobile and try to calculate the price of the car if the car is of 20 lakh then you have to pay the\n",
    "# tax of 20%, and the showroom give a discount of 7% on your purchase, so try ot find the actual cost of car using constructor?\n",
    "\n",
    "class automobile:\n",
    "    def __init__(self,price):\n",
    "        self.price = price\n",
    "        \n",
    "    def car(self):\n",
    "        total_price=self.price*\n",
    "        return total_price\n",
    "    \n",
    "a=automobile(2000000)"
   ]
  },
  {
   "cell_type": "code",
   "execution_count": 2,
   "id": "e100556c",
   "metadata": {},
   "outputs": [
    {
     "data": {
      "text/plain": [
       "2000000"
      ]
     },
     "execution_count": 2,
     "metadata": {},
     "output_type": "execute_result"
    }
   ],
   "source": [
    "a.price"
   ]
  },
  {
   "cell_type": "code",
   "execution_count": 3,
   "id": "431d31de",
   "metadata": {},
   "outputs": [
    {
     "data": {
      "text/plain": [
       "260000.0"
      ]
     },
     "execution_count": 3,
     "metadata": {},
     "output_type": "execute_result"
    }
   ],
   "source": [
    "a.car()"
   ]
  },
  {
   "cell_type": "code",
   "execution_count": 1,
   "id": "e60201d9",
   "metadata": {},
   "outputs": [
    {
     "name": "stdout",
     "output_type": "stream",
     "text": [
      "tax 400000.0\n",
      "discount 140000.0\n",
      "price of car is 2260000.0\n"
     ]
    }
   ],
   "source": [
    "class automobile:\n",
    "    def __init__(self,price):\n",
    "        self.price = price\n",
    "        \n",
    "    def car(self):\n",
    "        tax = self.price*20/100\n",
    "        print('tax',tax)\n",
    "        dis = self.price*7/100\n",
    "        print('discount',dis)\n",
    "        total_price= self.price+tax-dis\n",
    "        print('price of car is',total_price)\n",
    "\n",
    "a=automobile(2000000)\n",
    "a.car()"
   ]
  },
  {
   "cell_type": "code",
   "execution_count": 2,
   "id": "31354092",
   "metadata": {},
   "outputs": [
    {
     "data": {
      "text/plain": [
       "2000000"
      ]
     },
     "execution_count": 2,
     "metadata": {},
     "output_type": "execute_result"
    }
   ],
   "source": [
    "a.price"
   ]
  },
  {
   "cell_type": "code",
   "execution_count": 3,
   "id": "641a3a7f",
   "metadata": {},
   "outputs": [
    {
     "ename": "AttributeError",
     "evalue": "'automobile' object has no attribute 'tax'",
     "output_type": "error",
     "traceback": [
      "\u001b[1;31m---------------------------------------------------------------------------\u001b[0m",
      "\u001b[1;31mAttributeError\u001b[0m                            Traceback (most recent call last)",
      "\u001b[1;32m~\\AppData\\Local\\Temp/ipykernel_10764/100950756.py\u001b[0m in \u001b[0;36m<module>\u001b[1;34m\u001b[0m\n\u001b[1;32m----> 1\u001b[1;33m \u001b[0ma\u001b[0m\u001b[1;33m.\u001b[0m\u001b[0mtax\u001b[0m\u001b[1;33m(\u001b[0m\u001b[1;33m)\u001b[0m\u001b[1;33m\u001b[0m\u001b[1;33m\u001b[0m\u001b[0m\n\u001b[0m",
      "\u001b[1;31mAttributeError\u001b[0m: 'automobile' object has no attribute 'tax'"
     ]
    }
   ],
   "source": []
  },
  {
   "cell_type": "code",
   "execution_count": 4,
   "id": "2ecd0cbb",
   "metadata": {},
   "outputs": [
    {
     "ename": "AttributeError",
     "evalue": "'automobile' object has no attribute 'total_price'",
     "output_type": "error",
     "traceback": [
      "\u001b[1;31m---------------------------------------------------------------------------\u001b[0m",
      "\u001b[1;31mAttributeError\u001b[0m                            Traceback (most recent call last)",
      "\u001b[1;32m~\\AppData\\Local\\Temp/ipykernel_10764/1909355055.py\u001b[0m in \u001b[0;36m<module>\u001b[1;34m\u001b[0m\n\u001b[1;32m----> 1\u001b[1;33m \u001b[0ma\u001b[0m\u001b[1;33m.\u001b[0m\u001b[0mtotal_price\u001b[0m\u001b[1;33m(\u001b[0m\u001b[1;33m)\u001b[0m\u001b[1;33m\u001b[0m\u001b[1;33m\u001b[0m\u001b[0m\n\u001b[0m",
      "\u001b[1;31mAttributeError\u001b[0m: 'automobile' object has no attribute 'total_price'"
     ]
    }
   ],
   "source": []
  },
  {
   "cell_type": "code",
   "execution_count": null,
   "id": "7ad70e70",
   "metadata": {},
   "outputs": [],
   "source": []
  }
 ],
 "metadata": {
  "kernelspec": {
   "display_name": "Python 3 (ipykernel)",
   "language": "python",
   "name": "python3"
  },
  "language_info": {
   "codemirror_mode": {
    "name": "ipython",
    "version": 3
   },
   "file_extension": ".py",
   "mimetype": "text/x-python",
   "name": "python",
   "nbconvert_exporter": "python",
   "pygments_lexer": "ipython3",
   "version": "3.9.7"
  }
 },
 "nbformat": 4,
 "nbformat_minor": 5
}
