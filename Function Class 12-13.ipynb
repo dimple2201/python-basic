{
 "cells": [
  {
   "cell_type": "code",
   "execution_count": 3,
   "id": "428178c6",
   "metadata": {},
   "outputs": [],
   "source": [
    "# function is a block of code which performs a specific task.\n",
    "# function follow the rule dry: don't repeat yourself\n",
    "# function syntax------>\n",
    "# define the function   function name():\n",
    "# print any msg\n",
    "\n",
    "# def stands for defination\n",
    "\n",
    "def greet():\n",
    "    print('hello')"
   ]
  },
  {
   "cell_type": "code",
   "execution_count": 4,
   "id": "8cdb89f7",
   "metadata": {},
   "outputs": [
    {
     "name": "stdout",
     "output_type": "stream",
     "text": [
      "hello\n"
     ]
    }
   ],
   "source": [
    "# function_name()\n",
    " \n",
    "greet()"
   ]
  },
  {
   "cell_type": "code",
   "execution_count": 4,
   "id": "6469b422",
   "metadata": {},
   "outputs": [
    {
     "data": {
      "text/plain": [
       "8"
      ]
     },
     "execution_count": 4,
     "metadata": {},
     "output_type": "execute_result"
    }
   ],
   "source": [
    "def add(a,b):\n",
    "    return a+b\n",
    "add(3,5)"
   ]
  },
  {
   "cell_type": "code",
   "execution_count": 5,
   "id": "caf79bfa",
   "metadata": {},
   "outputs": [],
   "source": [
    "# no argument no return\n",
    "\n",
    "# wap to add two numbers with the help of function.\n",
    "\n",
    "def add():\n",
    "    a=1\n",
    "    b=4\n",
    "    c=a+b\n",
    "    print(c)"
   ]
  },
  {
   "cell_type": "code",
   "execution_count": 6,
   "id": "6fafeacf",
   "metadata": {},
   "outputs": [
    {
     "name": "stdout",
     "output_type": "stream",
     "text": [
      "5\n"
     ]
    }
   ],
   "source": [
    "add()"
   ]
  },
  {
   "cell_type": "code",
   "execution_count": 7,
   "id": "f056d5b8",
   "metadata": {},
   "outputs": [],
   "source": [
    "# types of functions\n",
    "# 1. no return no argument\n",
    "# 2. no return with argument\n",
    "# 3. argument with return\n",
    "# 4. no argument with return\n"
   ]
  },
  {
   "cell_type": "code",
   "execution_count": 9,
   "id": "91b77f56",
   "metadata": {},
   "outputs": [
    {
     "name": "stdout",
     "output_type": "stream",
     "text": [
      "6\n"
     ]
    }
   ],
   "source": [
    "# with argument no return\n",
    "\n",
    "def add(x,y):\n",
    "    result = x+y\n",
    "    print(result)\n",
    "add(2,4)"
   ]
  },
  {
   "cell_type": "code",
   "execution_count": 1,
   "id": "31ed9383",
   "metadata": {},
   "outputs": [
    {
     "data": {
      "text/plain": [
       "10"
      ]
     },
     "execution_count": 1,
     "metadata": {},
     "output_type": "execute_result"
    }
   ],
   "source": [
    "# no argument with return\n",
    "\n",
    "def add():\n",
    "    a=9\n",
    "    b=1\n",
    "    c=a+b\n",
    "    return c\n",
    "add()"
   ]
  },
  {
   "cell_type": "code",
   "execution_count": 12,
   "id": "2390d4b6",
   "metadata": {},
   "outputs": [
    {
     "name": "stdout",
     "output_type": "stream",
     "text": [
      "23\n"
     ]
    }
   ],
   "source": [
    "print(23)"
   ]
  },
  {
   "cell_type": "code",
   "execution_count": 13,
   "id": "4b3b58ea",
   "metadata": {},
   "outputs": [
    {
     "ename": "SyntaxError",
     "evalue": "'return' outside function (Temp/ipykernel_3096/1286457131.py, line 1)",
     "output_type": "error",
     "traceback": [
      "\u001b[1;36m  File \u001b[1;32m\"C:\\Users\\Asus\\AppData\\Local\\Temp/ipykernel_3096/1286457131.py\"\u001b[1;36m, line \u001b[1;32m1\u001b[0m\n\u001b[1;33m    return(23)\u001b[0m\n\u001b[1;37m    ^\u001b[0m\n\u001b[1;31mSyntaxError\u001b[0m\u001b[1;31m:\u001b[0m 'return' outside function\n"
     ]
    }
   ],
   "source": [
    "return(23)"
   ]
  },
  {
   "cell_type": "code",
   "execution_count": 14,
   "id": "29a65675",
   "metadata": {},
   "outputs": [
    {
     "data": {
      "text/plain": [
       "18"
      ]
     },
     "execution_count": 14,
     "metadata": {},
     "output_type": "execute_result"
    }
   ],
   "source": [
    "# argument with return (code effecient)\n",
    "\n",
    "def add(a,b):\n",
    "    result = a*b\n",
    "    return result\n",
    "add(3,6)"
   ]
  },
  {
   "cell_type": "code",
   "execution_count": 15,
   "id": "fc7147e9",
   "metadata": {},
   "outputs": [
    {
     "data": {
      "text/plain": [
       "189"
      ]
     },
     "execution_count": 15,
     "metadata": {},
     "output_type": "execute_result"
    }
   ],
   "source": [
    "def add(a,b):\n",
    "    return a*b\n",
    "add(3,63)"
   ]
  },
  {
   "cell_type": "code",
   "execution_count": 8,
   "id": "933f10b5",
   "metadata": {},
   "outputs": [
    {
     "name": "stdout",
     "output_type": "stream",
     "text": [
      "B is maximum no.\n"
     ]
    }
   ],
   "source": [
    "# wap to find max no. from three numbers using function.\n",
    "\n",
    "def max(a,b,c):\n",
    "    if a>b and a>c:\n",
    "        print('A is maximum no.')\n",
    "    elif b>a and b>c:\n",
    "        print('B is maximum no.')\n",
    "    else:\n",
    "        print('C is maximum no.')\n",
    "max(34,54,23)"
   ]
  },
  {
   "cell_type": "code",
   "execution_count": 10,
   "id": "6f4e6cbe",
   "metadata": {},
   "outputs": [
    {
     "name": "stdout",
     "output_type": "stream",
     "text": [
      "C is minimum no.\n"
     ]
    }
   ],
   "source": [
    "# wap to find min no. from three numbers using function.\n",
    "\n",
    "def min_no(a,b,c):\n",
    "    if a<b and a<c:\n",
    "        print('A is minimum no.')\n",
    "    elif b<a and b<c:\n",
    "        print('B is minimum no.')\n",
    "    else:\n",
    "        print('C is minimum no.')\n",
    "min_no(34,54,23)"
   ]
  },
  {
   "cell_type": "code",
   "execution_count": 1,
   "id": "ce51bae5",
   "metadata": {},
   "outputs": [
    {
     "name": "stdout",
     "output_type": "stream",
     "text": [
      "24\n"
     ]
    }
   ],
   "source": [
    "# wap to sum all number present in a list.\n",
    "\n",
    "def add_list():\n",
    "    a=[4,6,6,1,7]\n",
    "    add=0\n",
    "    for i in a:\n",
    "        add=add+i\n",
    "    print(add)\n",
    "    \n",
    "add_list()    "
   ]
  },
  {
   "cell_type": "code",
   "execution_count": 18,
   "id": "75047878",
   "metadata": {},
   "outputs": [
    {
     "name": "stdout",
     "output_type": "stream",
     "text": [
      "palindrome\n"
     ]
    }
   ],
   "source": [
    "# wap to check a string is reversed or not?\n",
    "\n",
    "a = 'nitin'\n",
    "b = ''\n",
    "for i in a:\n",
    "    b = i+b\n",
    "if a==b:\n",
    "    \n",
    "    print('palindrome')\n",
    "else:\n",
    "    print('not palindrome')"
   ]
  },
  {
   "cell_type": "code",
   "execution_count": 7,
   "id": "c063d643",
   "metadata": {},
   "outputs": [
    {
     "name": "stdout",
     "output_type": "stream",
     "text": [
      "5 is odd\n"
     ]
    }
   ],
   "source": [
    "# wap to find odd number using function.\n",
    "\n",
    "def odd_even(x):\n",
    "    if x%2 != 0:\n",
    "        print(x,'is odd number')\n",
    "    else:\n",
    "        print(x,'is even number')\n",
    "odd_even(5)\n"
   ]
  },
  {
   "cell_type": "code",
   "execution_count": 5,
   "id": "197e4b96",
   "metadata": {},
   "outputs": [
    {
     "name": "stdout",
     "output_type": "stream",
     "text": [
      "2\n",
      "3\n",
      "4\n",
      "5\n",
      "6\n",
      "7\n",
      "8\n",
      "9\n",
      "10\n",
      "11\n",
      "12\n"
     ]
    }
   ],
   "source": [
    "for i in range(2,13):\n",
    "    print(i)"
   ]
  },
  {
   "cell_type": "code",
   "execution_count": 9,
   "id": "42ef1fb0",
   "metadata": {},
   "outputs": [
    {
     "name": "stdout",
     "output_type": "stream",
     "text": [
      "011000"
     ]
    }
   ],
   "source": [
    "# decimal to binary\n",
    "\n",
    "def btd(num):\n",
    "    if num>=1:\n",
    "        btd(num//2)\n",
    "    print(num%2,end='')\n",
    "dec_val = 24\n",
    "btd(dec_val)"
   ]
  },
  {
   "cell_type": "code",
   "execution_count": 8,
   "id": "6077c961",
   "metadata": {},
   "outputs": [],
   "source": [
    "# define the function\n",
    "\n",
    "def greet():\n",
    "    print('hello')\n",
    "        \n",
    "     "
   ]
  },
  {
   "cell_type": "code",
   "execution_count": 10,
   "id": "5147f382",
   "metadata": {},
   "outputs": [
    {
     "name": "stdout",
     "output_type": "stream",
     "text": [
      "hello\n"
     ]
    }
   ],
   "source": [
    "# call the function\n",
    "\n",
    "greet()"
   ]
  },
  {
   "cell_type": "code",
   "execution_count": 11,
   "id": "8f1769be",
   "metadata": {},
   "outputs": [
    {
     "name": "stdout",
     "output_type": "stream",
     "text": [
      "hello hey\n"
     ]
    }
   ],
   "source": [
    "def greet():\n",
    "    print('hello','hey')\n",
    "greet()"
   ]
  },
  {
   "cell_type": "code",
   "execution_count": 12,
   "id": "30bb418c",
   "metadata": {},
   "outputs": [
    {
     "name": "stdout",
     "output_type": "stream",
     "text": [
      "12\n"
     ]
    }
   ],
   "source": [
    "# no argument no return\n",
    "\n",
    "def add():\n",
    "    a=9\n",
    "    b=3\n",
    "    c=a+b\n",
    "    print(c)\n",
    "add()"
   ]
  },
  {
   "cell_type": "code",
   "execution_count": 13,
   "id": "0a8a5974",
   "metadata": {},
   "outputs": [
    {
     "name": "stdout",
     "output_type": "stream",
     "text": [
      "7\n"
     ]
    }
   ],
   "source": [
    "# with argument no return\n",
    "\n",
    "def add(a,b):\n",
    "    c= a+b\n",
    "    print(c)\n",
    "add(4,3)"
   ]
  },
  {
   "cell_type": "code",
   "execution_count": 14,
   "id": "bc6ef390",
   "metadata": {},
   "outputs": [
    {
     "data": {
      "text/plain": [
       "10"
      ]
     },
     "execution_count": 14,
     "metadata": {},
     "output_type": "execute_result"
    }
   ],
   "source": [
    "# with argument with return    (return denoted the end of function)\n",
    "\n",
    "def add(a,b):\n",
    "    x=a+b\n",
    "    return x\n",
    "add(4,6)"
   ]
  },
  {
   "cell_type": "code",
   "execution_count": 15,
   "id": "b330acb1",
   "metadata": {},
   "outputs": [
    {
     "data": {
      "text/plain": [
       "8"
      ]
     },
     "execution_count": 15,
     "metadata": {},
     "output_type": "execute_result"
    }
   ],
   "source": [
    "# no argument with return\n",
    "\n",
    "def add():\n",
    "    a=3\n",
    "    b=5\n",
    "    c=a+b\n",
    "    return c\n",
    "add()"
   ]
  },
  {
   "cell_type": "code",
   "execution_count": 5,
   "id": "9aec7d2d",
   "metadata": {},
   "outputs": [
    {
     "name": "stdout",
     "output_type": "stream",
     "text": [
      "500\n",
      "10000000\n"
     ]
    }
   ],
   "source": [
    "# calculate the total area of a land have l=20 b=30. If the land is greater than 100sq fit then also calculate the cost of \n",
    "# remaining land. Price of land is 20000K.\n",
    "\n",
    "def fun():   \n",
    "        l=20\n",
    "        b=30\n",
    "        landarea = 100\n",
    "        area = l*b\n",
    "\n",
    "        if area > 100:\n",
    "            remainland = area - landarea\n",
    "            print(remainland)\n",
    "    \n",
    "            cost = remainland * 20000\n",
    "            print(cost)\n",
    "fun()"
   ]
  },
  {
   "cell_type": "code",
   "execution_count": 7,
   "id": "518b30c1",
   "metadata": {},
   "outputs": [
    {
     "data": {
      "text/plain": [
       "13"
      ]
     },
     "execution_count": 7,
     "metadata": {},
     "output_type": "execute_result"
    }
   ],
   "source": [
    "# with return with argument\n",
    "\n",
    "def add(x,y=9):\n",
    "    c=x+y\n",
    "    return c\n",
    "add(4)\n",
    "    "
   ]
  },
  {
   "cell_type": "code",
   "execution_count": 8,
   "id": "b0d9314f",
   "metadata": {},
   "outputs": [
    {
     "data": {
      "text/plain": [
       "9"
      ]
     },
     "execution_count": 8,
     "metadata": {},
     "output_type": "execute_result"
    }
   ],
   "source": [
    "# default argument\n",
    "\n",
    "def add(x=4,y=5):\n",
    "    c=x+y\n",
    "    return c\n",
    "add()"
   ]
  },
  {
   "cell_type": "code",
   "execution_count": 9,
   "id": "b6ee87aa",
   "metadata": {},
   "outputs": [
    {
     "data": {
      "text/plain": [
       "12"
      ]
     },
     "execution_count": 9,
     "metadata": {},
     "output_type": "execute_result"
    }
   ],
   "source": [
    "def add(x=2,y=1):\n",
    "    c = x+y\n",
    "    return c\n",
    "add(9,3)"
   ]
  },
  {
   "cell_type": "code",
   "execution_count": 10,
   "id": "d1910675",
   "metadata": {},
   "outputs": [
    {
     "ename": "NameError",
     "evalue": "name 'x' is not defined",
     "output_type": "error",
     "traceback": [
      "\u001b[1;31m---------------------------------------------------------------------------\u001b[0m",
      "\u001b[1;31mNameError\u001b[0m                                 Traceback (most recent call last)",
      "\u001b[1;32m~\\AppData\\Local\\Temp/ipykernel_6184/3375849346.py\u001b[0m in \u001b[0;36m<module>\u001b[1;34m\u001b[0m\n\u001b[0;32m      2\u001b[0m     \u001b[0mc\u001b[0m \u001b[1;33m=\u001b[0m \u001b[0mx\u001b[0m\u001b[1;33m+\u001b[0m\u001b[0my\u001b[0m\u001b[1;33m\u001b[0m\u001b[1;33m\u001b[0m\u001b[0m\n\u001b[0;32m      3\u001b[0m     \u001b[1;32mreturn\u001b[0m \u001b[0mc\u001b[0m\u001b[1;33m\u001b[0m\u001b[1;33m\u001b[0m\u001b[0m\n\u001b[1;32m----> 4\u001b[1;33m \u001b[0madd\u001b[0m\u001b[1;33m(\u001b[0m\u001b[0mx\u001b[0m\u001b[1;33m,\u001b[0m\u001b[1;36m6\u001b[0m\u001b[1;33m)\u001b[0m\u001b[1;33m\u001b[0m\u001b[1;33m\u001b[0m\u001b[0m\n\u001b[0m",
      "\u001b[1;31mNameError\u001b[0m: name 'x' is not defined"
     ]
    }
   ],
   "source": [
    "def add(x=2,y=1):\n",
    "    c = x+y\n",
    "    return c\n",
    "add(x,6)"
   ]
  },
  {
   "cell_type": "code",
   "execution_count": 11,
   "id": "e9132217",
   "metadata": {},
   "outputs": [
    {
     "data": {
      "text/plain": [
       "'x6'"
      ]
     },
     "execution_count": 11,
     "metadata": {},
     "output_type": "execute_result"
    }
   ],
   "source": [
    "def add(x=2,y=1):\n",
    "    c = x+y\n",
    "    return c\n",
    "add('x','6')"
   ]
  },
  {
   "cell_type": "code",
   "execution_count": 3,
   "id": "8677b366",
   "metadata": {},
   "outputs": [
    {
     "data": {
      "text/plain": [
       "12"
      ]
     },
     "execution_count": 3,
     "metadata": {},
     "output_type": "execute_result"
    }
   ],
   "source": [
    "def add(x=4,y=3):\n",
    "    c= x+y\n",
    "    return c\n",
    "add(9)"
   ]
  },
  {
   "cell_type": "code",
   "execution_count": 4,
   "id": "402ba303",
   "metadata": {},
   "outputs": [
    {
     "data": {
      "text/plain": [
       "11"
      ]
     },
     "execution_count": 4,
     "metadata": {},
     "output_type": "execute_result"
    }
   ],
   "source": [
    "def add(x=2,y=7):\n",
    "    c=x+y\n",
    "    return c\n",
    "add(4)"
   ]
  },
  {
   "cell_type": "code",
   "execution_count": 1,
   "id": "e1828668",
   "metadata": {},
   "outputs": [
    {
     "data": {
      "text/plain": [
       "15"
      ]
     },
     "execution_count": 1,
     "metadata": {},
     "output_type": "execute_result"
    }
   ],
   "source": [
    "def add(x):\n",
    "    return x+12\n",
    "add(3)"
   ]
  },
  {
   "cell_type": "code",
   "execution_count": 6,
   "id": "a5abccd7",
   "metadata": {},
   "outputs": [
    {
     "name": "stdout",
     "output_type": "stream",
     "text": [
      "not palindrome\n"
     ]
    }
   ],
   "source": [
    "# wap a function to check a string is palindrome or not?\n",
    "\n",
    "\n",
    "def pal(a,b):\n",
    "\n",
    "    for i in a:\n",
    "        b=i+b\n",
    "    if a==b:\n",
    "        print('palindrome')\n",
    "    else:\n",
    "        print('not palindrome')\n",
    "\n",
    "pal('hello','')"
   ]
  },
  {
   "cell_type": "code",
   "execution_count": 18,
   "id": "5f6d1f97",
   "metadata": {},
   "outputs": [
    {
     "name": "stdout",
     "output_type": "stream",
     "text": [
      "sum of first number 55\n"
     ]
    }
   ],
   "source": [
    "# wap to sum the first 10 natural numbers using function.\n",
    "\n",
    "def fun(a,sum):\n",
    "\n",
    "    for a in range(1,a+1):\n",
    "        sum=sum+a\n",
    "    \n",
    "    print('sum of first number', sum)\n",
    "\n",
    "fun(10,0)"
   ]
  },
  {
   "cell_type": "code",
   "execution_count": 12,
   "id": "bcae295d",
   "metadata": {},
   "outputs": [
    {
     "name": "stdout",
     "output_type": "stream",
     "text": [
      "0.2\n"
     ]
    }
   ],
   "source": [
    "# wap to calculate the percentage of 5 students?\n",
    "\n",
    "l1=[45,75,78,65,86]\n",
    "sum=1\n",
    "\n",
    "for i in l1:\n",
    "     percentage=(sum/500)*100\n",
    "print(percentage)"
   ]
  },
  {
   "cell_type": "code",
   "execution_count": null,
   "id": "517387d6",
   "metadata": {},
   "outputs": [],
   "source": []
  }
 ],
 "metadata": {
  "kernelspec": {
   "display_name": "Python 3 (ipykernel)",
   "language": "python",
   "name": "python3"
  },
  "language_info": {
   "codemirror_mode": {
    "name": "ipython",
    "version": 3
   },
   "file_extension": ".py",
   "mimetype": "text/x-python",
   "name": "python",
   "nbconvert_exporter": "python",
   "pygments_lexer": "ipython3",
   "version": "3.9.7"
  }
 },
 "nbformat": 4,
 "nbformat_minor": 5
}
