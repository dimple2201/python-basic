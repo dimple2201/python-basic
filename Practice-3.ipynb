{
 "cells": [
  {
   "cell_type": "code",
   "execution_count": 1,
   "id": "a70951b8",
   "metadata": {},
   "outputs": [
    {
     "name": "stdout",
     "output_type": "stream",
     "text": [
      "Enter the fruitapple\n",
      "Enter the fruitmango\n",
      "Enter the fruitguava\n",
      "Enter the fruitbanana\n",
      "['apple', 'mango', 'guava', 'banana']\n"
     ]
    }
   ],
   "source": [
    "# wap to store 3 fruit items in a list entered by the user.\n",
    "\n",
    "b = []\n",
    "for i in range(4):\n",
    "    x=input(\"Enter the fruit\")\n",
    "    b.append(x)\n",
    "\n",
    "print(b)"
   ]
  },
  {
   "cell_type": "code",
   "execution_count": 8,
   "id": "f8d71f18",
   "metadata": {},
   "outputs": [
    {
     "name": "stdout",
     "output_type": "stream",
     "text": [
      "Enter your marks34\n",
      "Enter your marks64\n",
      "Enter your marks77\n",
      "Enter your marks34\n",
      "Enter your marks74\n",
      "[34, 64, 77, 34, 74]\n"
     ]
    }
   ],
   "source": [
    "# wap to display marks of 5 students & display them in sorted way.\n",
    "\n",
    "a = []\n",
    "for i in range(5):\n",
    "    x=int(input('Enter your marks'))\n",
    "    a.append(x)\n",
    "    \n",
    "print(a)\n"
   ]
  },
  {
   "cell_type": "code",
   "execution_count": 10,
   "id": "0e75623a",
   "metadata": {},
   "outputs": [],
   "source": [
    "a.sort()"
   ]
  },
  {
   "cell_type": "code",
   "execution_count": 11,
   "id": "455035a1",
   "metadata": {},
   "outputs": [
    {
     "data": {
      "text/plain": [
       "[34, 34, 64, 74, 77]"
      ]
     },
     "execution_count": 11,
     "metadata": {},
     "output_type": "execute_result"
    }
   ],
   "source": [
    "a"
   ]
  },
  {
   "cell_type": "code",
   "execution_count": 23,
   "id": "9e26b7bf",
   "metadata": {},
   "outputs": [
    {
     "name": "stdout",
     "output_type": "stream",
     "text": [
      "Enter your marks56\n",
      "Enter your marks45\n",
      "Enter your marks-9\n",
      "Enter your marks56\n",
      "Enter your marks34\n",
      "Marks in random order [56, 45, -9, 56, 34]\n",
      "Marks in sorted form [-9, 34, 45, 56, 56]\n"
     ]
    }
   ],
   "source": [
    "a = []\n",
    "for i in range(5):\n",
    "    x=int(input('Enter your marks'))\n",
    "    a.append(x)\n",
    "    \n",
    "print(\"Marks in random order\",a)\n",
    "a.sort()\n",
    "print(\"Marks in sorted form\",a)"
   ]
  },
  {
   "cell_type": "code",
   "execution_count": 25,
   "id": "6e98c059",
   "metadata": {},
   "outputs": [
    {
     "data": {
      "text/plain": [
       "(34, 22, 67, 43)"
      ]
     },
     "execution_count": 25,
     "metadata": {},
     "output_type": "execute_result"
    }
   ],
   "source": [
    "# check if tuple is mutable or not?\n",
    "\n",
    "a=(34,22,67,43)\n",
    "a"
   ]
  },
  {
   "cell_type": "code",
   "execution_count": 26,
   "id": "cde1ebc3",
   "metadata": {},
   "outputs": [
    {
     "data": {
      "text/plain": [
       "tuple"
      ]
     },
     "execution_count": 26,
     "metadata": {},
     "output_type": "execute_result"
    }
   ],
   "source": [
    "type(a)"
   ]
  },
  {
   "cell_type": "code",
   "execution_count": 28,
   "id": "6f349667",
   "metadata": {},
   "outputs": [
    {
     "ename": "TypeError",
     "evalue": "'tuple' object does not support item assignment",
     "output_type": "error",
     "traceback": [
      "\u001b[1;31m---------------------------------------------------------------------------\u001b[0m",
      "\u001b[1;31mTypeError\u001b[0m                                 Traceback (most recent call last)",
      "\u001b[1;32m~\\AppData\\Local\\Temp/ipykernel_1508/3285495432.py\u001b[0m in \u001b[0;36m<module>\u001b[1;34m\u001b[0m\n\u001b[1;32m----> 1\u001b[1;33m \u001b[0ma\u001b[0m\u001b[1;33m[\u001b[0m\u001b[1;36m1\u001b[0m\u001b[1;33m]\u001b[0m\u001b[1;33m=\u001b[0m\u001b[1;36m100\u001b[0m\u001b[1;33m\u001b[0m\u001b[1;33m\u001b[0m\u001b[0m\n\u001b[0m",
      "\u001b[1;31mTypeError\u001b[0m: 'tuple' object does not support item assignment"
     ]
    }
   ],
   "source": [
    "a[1]=100"
   ]
  },
  {
   "cell_type": "code",
   "execution_count": 30,
   "id": "9631f492",
   "metadata": {},
   "outputs": [
    {
     "name": "stdout",
     "output_type": "stream",
     "text": [
      "34\n",
      "98\n",
      "122\n",
      "188\n"
     ]
    }
   ],
   "source": [
    "# wapt to add list of 4 numbers?\n",
    "\n",
    "a = [34,64,24,66]\n",
    "b=0\n",
    "\n",
    "for i in a:\n",
    "    b=i+b\n",
    "    print(b)"
   ]
  },
  {
   "cell_type": "code",
   "execution_count": 31,
   "id": "2f66f9a3",
   "metadata": {},
   "outputs": [
    {
     "data": {
      "text/plain": [
       "1"
      ]
     },
     "execution_count": 31,
     "metadata": {},
     "output_type": "execute_result"
    }
   ],
   "source": [
    "# wap to count 7 in the tuple t=(7,77,777,-77,87,97,-7777)\n",
    "\n",
    "t=(7,77,777,-77,87,97,-7777)\n",
    "t.count(7)"
   ]
  },
  {
   "cell_type": "code",
   "execution_count": 32,
   "id": "f81765cf",
   "metadata": {},
   "outputs": [
    {
     "data": {
      "text/plain": [
       "{'name': 'jay', 'age': 23, 'marks': 87}"
      ]
     },
     "execution_count": 32,
     "metadata": {},
     "output_type": "execute_result"
    }
   ],
   "source": [
    "my_dict={\n",
    "    'name':'jay',\n",
    "    'age':23,\n",
    "    'marks':87\n",
    "}\n",
    "my_dict"
   ]
  },
  {
   "cell_type": "code",
   "execution_count": 34,
   "id": "d63e1d8e",
   "metadata": {},
   "outputs": [
    {
     "data": {
      "text/plain": [
       "dict"
      ]
     },
     "execution_count": 34,
     "metadata": {},
     "output_type": "execute_result"
    }
   ],
   "source": [
    "type(my_dict)"
   ]
  },
  {
   "cell_type": "code",
   "execution_count": 43,
   "id": "a834b52e",
   "metadata": {},
   "outputs": [
    {
     "data": {
      "text/plain": [
       "{'name': ['kim', 'maria', 'alsa'],\n",
       " 'age': [34, 22, 43],\n",
       " 'salary': [45000, 34553, 25675]}"
      ]
     },
     "execution_count": 43,
     "metadata": {},
     "output_type": "execute_result"
    }
   ],
   "source": [
    "# wap to make a dict of employee.\n",
    "\n",
    "emp={\n",
    "    'name':['kim','maria','alsa'],\n",
    "    'age': [34,22,43],\n",
    "    'salary':[45000,34553,25675]\n",
    "}\n",
    "emp"
   ]
  },
  {
   "cell_type": "code",
   "execution_count": 49,
   "id": "8b36b348",
   "metadata": {},
   "outputs": [
    {
     "data": {
      "text/plain": [
       "['kim', 'maria', 'alsa']"
      ]
     },
     "execution_count": 49,
     "metadata": {},
     "output_type": "execute_result"
    }
   ],
   "source": [
    "emp['name']"
   ]
  },
  {
   "cell_type": "code",
   "execution_count": 50,
   "id": "476ae4d2",
   "metadata": {},
   "outputs": [
    {
     "data": {
      "text/plain": [
       "'alsa'"
      ]
     },
     "execution_count": 50,
     "metadata": {},
     "output_type": "execute_result"
    }
   ],
   "source": [
    "emp['name'][2]"
   ]
  },
  {
   "cell_type": "code",
   "execution_count": 5,
   "id": "8572b3c0",
   "metadata": {},
   "outputs": [
    {
     "data": {
      "text/plain": [
       "{'name': ['A', 'B', 'C'],\n",
       " 'age': (34, 64, 22),\n",
       " 'salary': 230000,\n",
       " 'a': {'rank': 'senior', 'address': ['Noida', 'Delhi', 'Goa']}}"
      ]
     },
     "execution_count": 5,
     "metadata": {},
     "output_type": "execute_result"
    }
   ],
   "source": [
    "x={\n",
    "    'name':['A','B','C'],\n",
    "    'age':(34,64,22),\n",
    "    'salary':230000,\n",
    "    \n",
    "    \n",
    "    'a' : {\n",
    "        'rank':'senior',\n",
    "        'address':['Noida','Delhi','Goa']\n",
    "    }\n",
    "}\n",
    "x"
   ]
  },
  {
   "cell_type": "code",
   "execution_count": 6,
   "id": "8eb31297",
   "metadata": {},
   "outputs": [
    {
     "data": {
      "text/plain": [
       "'Goa'"
      ]
     },
     "execution_count": 6,
     "metadata": {},
     "output_type": "execute_result"
    }
   ],
   "source": [
    "x['a']['address'][2]"
   ]
  },
  {
   "cell_type": "code",
   "execution_count": 15,
   "id": "017638ef",
   "metadata": {},
   "outputs": [
    {
     "data": {
      "text/plain": [
       "{'name': ['ajay', 'vijay', 'karan'],\n",
       " 'age': [34, 23, 53],\n",
       " 'marks': [76, 86, 56],\n",
       " 'emp': {'name': ['john', 'sahil'], 'age': [34, 43], 'salary': [23000, 42000]}}"
      ]
     },
     "execution_count": 15,
     "metadata": {},
     "output_type": "execute_result"
    }
   ],
   "source": [
    "# wap to make a dict of student and employee and try to fetch the common data.\n",
    "\n",
    "stu={\n",
    "    'name':['ajay','vijay','karan'],\n",
    "    'age':[34,23,53],\n",
    "    'marks':[76,86,56],\n",
    "    \n",
    "    'emp': {\n",
    "        'name':['john','sahil'],\n",
    "        'age':[34,43],\n",
    "        'salary':[23000,42000]\n",
    "    }\n",
    "}\n",
    "stu"
   ]
  },
  {
   "cell_type": "code",
   "execution_count": 16,
   "id": "c400b5f5",
   "metadata": {},
   "outputs": [
    {
     "data": {
      "text/plain": [
       "34"
      ]
     },
     "execution_count": 16,
     "metadata": {},
     "output_type": "execute_result"
    }
   ],
   "source": [
    "stu['emp']['age'][0]"
   ]
  },
  {
   "cell_type": "markdown",
   "id": "6b6fa2ec",
   "metadata": {},
   "source": [
    "# Dict method"
   ]
  },
  {
   "cell_type": "code",
   "execution_count": 34,
   "id": "fa659d3f",
   "metadata": {},
   "outputs": [
    {
     "data": {
      "text/plain": [
       "{'name': ['ajay'],\n",
       " 'age': [34],\n",
       " 'marks': [76],\n",
       " 'emp': {'name': ['ajay'], 'age': [34], 'salary': [23000]}}"
      ]
     },
     "execution_count": 34,
     "metadata": {},
     "output_type": "execute_result"
    }
   ],
   "source": [
    "# copy\n",
    "# clear\n",
    "# pop\n",
    "# items\n",
    "# values\n",
    "# keys\n",
    "\n",
    "s={\n",
    "    'name':['ajay'],\n",
    "    'age':[34],\n",
    "    'marks':[76],\n",
    "    \n",
    "    'emp': {\n",
    "        'name':['ajay'],\n",
    "        'age':[34],\n",
    "        'salary':[23000]\n",
    "    }\n",
    "}\n",
    "s"
   ]
  },
  {
   "cell_type": "code",
   "execution_count": 25,
   "id": "82f3e3e6",
   "metadata": {},
   "outputs": [
    {
     "data": {
      "text/plain": [
       "{'name': ['ajay'],\n",
       " 'age': [34],\n",
       " 'marks': [76],\n",
       " 'emp': {'name': ['ajay'], 'age': [34], 'salary': [23000]}}"
      ]
     },
     "execution_count": 25,
     "metadata": {},
     "output_type": "execute_result"
    }
   ],
   "source": [
    "s.copy()"
   ]
  },
  {
   "cell_type": "code",
   "execution_count": 28,
   "id": "2775e365",
   "metadata": {},
   "outputs": [],
   "source": [
    "s.clear()"
   ]
  },
  {
   "cell_type": "code",
   "execution_count": 32,
   "id": "3725e860",
   "metadata": {},
   "outputs": [
    {
     "data": {
      "text/plain": [
       "{'name': ['ajay'], 'age': [34], 'salary': [23000]}"
      ]
     },
     "execution_count": 32,
     "metadata": {},
     "output_type": "execute_result"
    }
   ],
   "source": [
    "s.pop('emp')"
   ]
  },
  {
   "cell_type": "code",
   "execution_count": 36,
   "id": "8fb91f9c",
   "metadata": {},
   "outputs": [
    {
     "data": {
      "text/plain": [
       "[34]"
      ]
     },
     "execution_count": 36,
     "metadata": {},
     "output_type": "execute_result"
    }
   ],
   "source": [
    "s.pop('age')"
   ]
  },
  {
   "cell_type": "code",
   "execution_count": 37,
   "id": "f19267d7",
   "metadata": {},
   "outputs": [
    {
     "data": {
      "text/plain": [
       "{'name': ['ajay'],\n",
       " 'marks': [76],\n",
       " 'emp': {'name': ['ajay'], 'age': [34], 'salary': [23000]}}"
      ]
     },
     "execution_count": 37,
     "metadata": {},
     "output_type": "execute_result"
    }
   ],
   "source": [
    "s"
   ]
  },
  {
   "cell_type": "code",
   "execution_count": 38,
   "id": "ffc4a542",
   "metadata": {},
   "outputs": [
    {
     "data": {
      "text/plain": [
       "[23000]"
      ]
     },
     "execution_count": 38,
     "metadata": {},
     "output_type": "execute_result"
    }
   ],
   "source": [
    "s['emp'].pop('salary')"
   ]
  },
  {
   "cell_type": "code",
   "execution_count": 39,
   "id": "285a1362",
   "metadata": {},
   "outputs": [
    {
     "data": {
      "text/plain": [
       "{'name': ['ajay'], 'marks': [76], 'emp': {'name': ['ajay'], 'age': [34]}}"
      ]
     },
     "execution_count": 39,
     "metadata": {},
     "output_type": "execute_result"
    }
   ],
   "source": [
    "s"
   ]
  },
  {
   "cell_type": "code",
   "execution_count": 44,
   "id": "1c19047b",
   "metadata": {},
   "outputs": [
    {
     "data": {
      "text/plain": [
       "{'name': ['ajay'],\n",
       " 'age': [34],\n",
       " 'marks': [76],\n",
       " 'emp': {'name': ['ajay'], 'age': [34], 'salary': [23000]}}"
      ]
     },
     "execution_count": 44,
     "metadata": {},
     "output_type": "execute_result"
    }
   ],
   "source": [
    "# KEYS\n",
    "\n",
    "s={\n",
    "    'name':['ajay'],\n",
    "    'age':[34],\n",
    "    'marks':[76],\n",
    "    \n",
    "    'emp': {\n",
    "        'name':['ajay'],\n",
    "        'age':[34],\n",
    "        'salary':[23000]\n",
    "    }\n",
    "}\n",
    "s"
   ]
  },
  {
   "cell_type": "code",
   "execution_count": 41,
   "id": "74dac278",
   "metadata": {},
   "outputs": [
    {
     "data": {
      "text/plain": [
       "dict_keys(['name', 'age', 'marks', 'emp'])"
      ]
     },
     "execution_count": 41,
     "metadata": {},
     "output_type": "execute_result"
    }
   ],
   "source": [
    "s.keys()"
   ]
  },
  {
   "cell_type": "code",
   "execution_count": 42,
   "id": "e22afe82",
   "metadata": {},
   "outputs": [
    {
     "data": {
      "text/plain": [
       "dict_keys(['name', 'age', 'salary'])"
      ]
     },
     "execution_count": 42,
     "metadata": {},
     "output_type": "execute_result"
    }
   ],
   "source": [
    "s['emp'].keys()"
   ]
  },
  {
   "cell_type": "code",
   "execution_count": 46,
   "id": "5a712fa2",
   "metadata": {},
   "outputs": [
    {
     "data": {
      "text/plain": [
       "dict_values([['ajay'], [34], [76], {'name': ['ajay'], 'age': [34], 'salary': [23000]}])"
      ]
     },
     "execution_count": 46,
     "metadata": {},
     "output_type": "execute_result"
    }
   ],
   "source": [
    "# values\n",
    "\n",
    "s.values()"
   ]
  },
  {
   "cell_type": "code",
   "execution_count": 47,
   "id": "6b46d05e",
   "metadata": {},
   "outputs": [
    {
     "data": {
      "text/plain": [
       "dict_values([['ajay'], [34], [23000]])"
      ]
     },
     "execution_count": 47,
     "metadata": {},
     "output_type": "execute_result"
    }
   ],
   "source": [
    "s['emp'].values()"
   ]
  },
  {
   "cell_type": "code",
   "execution_count": 48,
   "id": "fcda2a4d",
   "metadata": {},
   "outputs": [
    {
     "data": {
      "text/plain": [
       "dict_items([('name', ['ajay']), ('age', [34]), ('marks', [76]), ('emp', {'name': ['ajay'], 'age': [34], 'salary': [23000]})])"
      ]
     },
     "execution_count": 48,
     "metadata": {},
     "output_type": "execute_result"
    }
   ],
   "source": [
    "s.items()"
   ]
  },
  {
   "cell_type": "code",
   "execution_count": null,
   "id": "8aa074b0",
   "metadata": {},
   "outputs": [],
   "source": []
  }
 ],
 "metadata": {
  "kernelspec": {
   "display_name": "Python 3 (ipykernel)",
   "language": "python",
   "name": "python3"
  },
  "language_info": {
   "codemirror_mode": {
    "name": "ipython",
    "version": 3
   },
   "file_extension": ".py",
   "mimetype": "text/x-python",
   "name": "python",
   "nbconvert_exporter": "python",
   "pygments_lexer": "ipython3",
   "version": "3.9.7"
  }
 },
 "nbformat": 4,
 "nbformat_minor": 5
}
