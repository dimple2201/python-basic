{
 "cells": [
  {
   "cell_type": "code",
   "execution_count": 1,
   "id": "231f3931",
   "metadata": {},
   "outputs": [],
   "source": [
    "# Advanced Function\n",
    "\n",
    "# Lambda Function-----> It is also called Anonymous Function and One liner Function.\n",
    "# In lambda function no need to define name directly use lambda that's why it is also called Anonymous Function.\n",
    "# "
   ]
  },
  {
   "cell_type": "code",
   "execution_count": 2,
   "id": "f9a9ddf4",
   "metadata": {},
   "outputs": [
    {
     "data": {
      "text/plain": [
       "7"
      ]
     },
     "execution_count": 2,
     "metadata": {},
     "output_type": "execute_result"
    }
   ],
   "source": [
    "def fun (a,b):\n",
    "    result = a+b\n",
    "    return result\n",
    "\n",
    "fun(3,4)"
   ]
  },
  {
   "cell_type": "code",
   "execution_count": 3,
   "id": "ae742435",
   "metadata": {},
   "outputs": [
    {
     "data": {
      "text/plain": [
       "7"
      ]
     },
     "execution_count": 3,
     "metadata": {},
     "output_type": "execute_result"
    }
   ],
   "source": [
    "a = lambda x,y:x+y\n",
    "a(3,4)"
   ]
  },
  {
   "cell_type": "code",
   "execution_count": 7,
   "id": "2b493b2d",
   "metadata": {},
   "outputs": [
    {
     "data": {
      "text/plain": [
       "7"
      ]
     },
     "execution_count": 7,
     "metadata": {},
     "output_type": "execute_result"
    }
   ],
   "source": [
    "# wap to add a number with the help of lambda function.\n",
    "\n",
    "x = lambda a:a+4\n",
    "x(3)"
   ]
  },
  {
   "cell_type": "code",
   "execution_count": 8,
   "id": "20fc3387",
   "metadata": {},
   "outputs": [],
   "source": [
    "# Rules of lambda function------> \n",
    "# 1. we can pass n no.of arguments.\n",
    "# 2. we cannot perform more than one operation in this function."
   ]
  },
  {
   "cell_type": "code",
   "execution_count": 10,
   "id": "e2a2209b",
   "metadata": {},
   "outputs": [
    {
     "data": {
      "text/plain": [
       "6"
      ]
     },
     "execution_count": 10,
     "metadata": {},
     "output_type": "execute_result"
    }
   ],
   "source": [
    "a = lambda x,y,z: x+y*z-x\n",
    "a(1,2,3)"
   ]
  },
  {
   "cell_type": "code",
   "execution_count": 13,
   "id": "f059a551",
   "metadata": {},
   "outputs": [
    {
     "name": "stdout",
     "output_type": "stream",
     "text": [
      "67\n",
      "75\n",
      "76\n",
      "98\n"
     ]
    }
   ],
   "source": [
    "# filter function-----> improve the quality of the data.\n",
    "# in-built function----> (function,data)\n",
    "# always used list and tuple in filter function.\n",
    "\n",
    "a = [34,67,23,75,32,76,45,98]\n",
    "\n",
    "for i in a:\n",
    "\n",
    "    if i>=60:\n",
    "        print(i)"
   ]
  },
  {
   "cell_type": "code",
   "execution_count": 14,
   "id": "8fe4dd41",
   "metadata": {},
   "outputs": [
    {
     "name": "stdout",
     "output_type": "stream",
     "text": [
      "67\n",
      "75\n",
      "76\n",
      "98\n"
     ]
    }
   ],
   "source": [
    "def fun():\n",
    "    a = [34,67,23,75,32,76,45,98]\n",
    "    for i in a:\n",
    "        if i>=60:\n",
    "            print(i)\n",
    "            \n",
    "fun()"
   ]
  },
  {
   "cell_type": "code",
   "execution_count": 16,
   "id": "f51670bd",
   "metadata": {},
   "outputs": [
    {
     "name": "stdout",
     "output_type": "stream",
     "text": [
      "[67, 75, 76, 98]\n"
     ]
    }
   ],
   "source": [
    "# function + filter function\n",
    "\n",
    "a = [34,67,23,75,32,76,45,98]\n",
    "def fun(a):\n",
    "    if a>=60:\n",
    "        return True\n",
    "    else:\n",
    "        return False\n",
    "    \n",
    "    \n",
    "x = list(filter(fun,a))\n",
    "print(x)"
   ]
  },
  {
   "cell_type": "code",
   "execution_count": 18,
   "id": "538d7072",
   "metadata": {},
   "outputs": [
    {
     "name": "stdout",
     "output_type": "stream",
     "text": [
      "[67, 75, 76, 98]\n"
     ]
    }
   ],
   "source": [
    "# lambda + filter function\n",
    "\n",
    "a = [34,67,23,75,32,76,45,98]\n",
    "x= list(filter(lambda a: True if a>=60 else False,a))\n",
    "print(x)"
   ]
  },
  {
   "cell_type": "code",
   "execution_count": 19,
   "id": "926922ff",
   "metadata": {},
   "outputs": [
    {
     "data": {
      "text/plain": [
       "[67, 75, 76, 98]"
      ]
     },
     "execution_count": 19,
     "metadata": {},
     "output_type": "execute_result"
    }
   ],
   "source": [
    "a = [34,67,23,75,32,76,45,98]\n",
    "list(filter(lambda a: True if a>=60 else False,a))"
   ]
  },
  {
   "cell_type": "code",
   "execution_count": 22,
   "id": "186c986d",
   "metadata": {},
   "outputs": [
    {
     "data": {
      "text/plain": [
       "18"
      ]
     },
     "execution_count": 22,
     "metadata": {},
     "output_type": "execute_result"
    }
   ],
   "source": [
    "# wap to create a lambda function that adds 15 to a given number passed in as an argument, also create a lambda function that \n",
    "# multiplies argument x with argument y and print the result.\n",
    "\n",
    "x = lambda a: a+15\n",
    "x(3)"
   ]
  },
  {
   "cell_type": "code",
   "execution_count": 23,
   "id": "d5b77d99",
   "metadata": {},
   "outputs": [
    {
     "data": {
      "text/plain": [
       "8"
      ]
     },
     "execution_count": 23,
     "metadata": {},
     "output_type": "execute_result"
    }
   ],
   "source": [
    "y = lambda x,y: x*y\n",
    "y(4,2)"
   ]
  },
  {
   "cell_type": "code",
   "execution_count": 4,
   "id": "0dbebe26",
   "metadata": {},
   "outputs": [
    {
     "name": "stdout",
     "output_type": "stream",
     "text": [
      "[4, 25, 36, 81]\n"
     ]
    }
   ],
   "source": [
    "# map function: we can use this for perform an operation.\n",
    "\n",
    "a = [2,5,6,9]\n",
    "\n",
    "z = list(map(lambda x:x**2,a))\n",
    "print(z)"
   ]
  },
  {
   "cell_type": "code",
   "execution_count": 6,
   "id": "c4b5aab0",
   "metadata": {},
   "outputs": [
    {
     "data": {
      "text/plain": [
       "[7, 10, 11, 14]"
      ]
     },
     "execution_count": 6,
     "metadata": {},
     "output_type": "execute_result"
    }
   ],
   "source": [
    "a = [2,5,6,9]\n",
    "list(map(lambda x: x+5,a))"
   ]
  },
  {
   "cell_type": "code",
   "execution_count": 7,
   "id": "31c3488a",
   "metadata": {},
   "outputs": [],
   "source": [
    "# reduce function--->\n",
    "\n",
    "from functools import reduce"
   ]
  },
  {
   "cell_type": "code",
   "execution_count": 8,
   "id": "ff371334",
   "metadata": {},
   "outputs": [
    {
     "data": {
      "text/plain": [
       "27"
      ]
     },
     "execution_count": 8,
     "metadata": {},
     "output_type": "execute_result"
    }
   ],
   "source": [
    "a = [4,6,2,7,8]\n",
    "reduce(lambda x,y:x+y,a)"
   ]
  },
  {
   "cell_type": "code",
   "execution_count": 18,
   "id": "3ff42fd0",
   "metadata": {},
   "outputs": [
    {
     "data": {
      "text/plain": [
       "[30, 45, 60, 75]"
      ]
     },
     "execution_count": 18,
     "metadata": {},
     "output_type": "execute_result"
    }
   ],
   "source": [
    "# wap to create a function that takes one argument, and that argument will be multiplied with an unknown given number\n",
    "\n",
    "a = [2,3,4,5]\n",
    "list(map(lambda x:x*15,a))\n"
   ]
  },
  {
   "cell_type": "code",
   "execution_count": 19,
   "id": "9c8b8278",
   "metadata": {},
   "outputs": [
    {
     "data": {
      "text/plain": [
       "[2, 6, 8, 4]"
      ]
     },
     "execution_count": 19,
     "metadata": {},
     "output_type": "execute_result"
    }
   ],
   "source": [
    "# wap to filter a list of integers using lambda.\n",
    "\n",
    "a = [2,5,6,3,7,1,8,9,4]\n",
    "\n",
    "list(filter(lambda a: True if a%2==0 else False,a))"
   ]
  },
  {
   "cell_type": "code",
   "execution_count": 22,
   "id": "f27aae69",
   "metadata": {},
   "outputs": [
    {
     "data": {
      "text/plain": [
       "str"
      ]
     },
     "execution_count": 22,
     "metadata": {},
     "output_type": "execute_result"
    }
   ],
   "source": [
    "# wap to check whether a given string is number or not using lambda.\n",
    "\n",
    "a = '123'\n",
    "type(a)"
   ]
  },
  {
   "cell_type": "code",
   "execution_count": 2,
   "id": "391a3238",
   "metadata": {},
   "outputs": [
    {
     "ename": "SyntaxError",
     "evalue": "invalid syntax (Temp/ipykernel_3192/1428331261.py, line 2)",
     "output_type": "error",
     "traceback": [
      "\u001b[1;36m  File \u001b[1;32m\"C:\\Users\\Asus\\AppData\\Local\\Temp/ipykernel_3192/1428331261.py\"\u001b[1;36m, line \u001b[1;32m2\u001b[0m\n\u001b[1;33m    if a = 0-9\u001b[0m\n\u001b[1;37m         ^\u001b[0m\n\u001b[1;31mSyntaxError\u001b[0m\u001b[1;31m:\u001b[0m invalid syntax\n"
     ]
    }
   ],
   "source": [
    "a = '123'\n",
    "if a = 0-9\n",
    "    print(true)\n",
    "else:\n",
    "    print(false)"
   ]
  },
  {
   "cell_type": "code",
   "execution_count": 8,
   "id": "f8fced4d",
   "metadata": {},
   "outputs": [
    {
     "name": "stdout",
     "output_type": "stream",
     "text": [
      "odd no\n",
      "even no\n",
      "odd no\n",
      "odd no\n",
      "odd no\n",
      "even no\n",
      "odd no\n",
      "even no\n",
      "[]\n"
     ]
    }
   ],
   "source": [
    "# wap to count the even, odd numbers in a given array of intergers using lambda.\n",
    "\n",
    "a = [1,2,3,5,7,8,9,10]\n",
    "def fun(a):\n",
    "    if a%2==0:\n",
    "        print('even no')\n",
    "    else:\n",
    "        print('odd no')\n",
    "        \n",
    "x = list(filter(fun,a))\n",
    "print(x)\n"
   ]
  },
  {
   "cell_type": "code",
   "execution_count": 24,
   "id": "d730fb1c",
   "metadata": {},
   "outputs": [
    {
     "data": {
      "text/plain": [
       "[5, 7, 9]"
      ]
     },
     "execution_count": 24,
     "metadata": {},
     "output_type": "execute_result"
    }
   ],
   "source": [
    "# wap to add two given lists using map and lambda.\n",
    "\n",
    "a=[1,2,3]\n",
    "b=[4,5,6]\n",
    "\n",
    "list(map(lambda a,b: a+b,a,b))"
   ]
  },
  {
   "cell_type": "code",
   "execution_count": 2,
   "id": "204dd022",
   "metadata": {},
   "outputs": [
    {
     "data": {
      "text/plain": [
       "[]"
      ]
     },
     "execution_count": 2,
     "metadata": {},
     "output_type": "execute_result"
    }
   ],
   "source": [
    "# wap to find numbers divisible by nineteen or thirteen from a list of numbers using lambda.\n",
    "\n",
    "a = [19,65,57,39,152,639,121,44,90,190]\n",
    "\n",
    "list(filter(lambda a: True if a%19==0 and a%13==0 else False,a))"
   ]
  },
  {
   "cell_type": "code",
   "execution_count": 12,
   "id": "579094a5",
   "metadata": {},
   "outputs": [
    {
     "data": {
      "text/plain": [
       "[14, 18, 10, 16, 12]"
      ]
     },
     "execution_count": 12,
     "metadata": {},
     "output_type": "execute_result"
    }
   ],
   "source": [
    "# wap that multiply each number of given list with a given number using lambda function.\n",
    "\n",
    "a = [7,9,5,8,6]\n",
    "\n",
    "list(map(lambda a:a*2,a))"
   ]
  },
  {
   "cell_type": "code",
   "execution_count": 1,
   "id": "b1cba005",
   "metadata": {},
   "outputs": [
    {
     "data": {
      "text/plain": [
       "[27, 216, 8, 512]"
      ]
     },
     "execution_count": 1,
     "metadata": {},
     "output_type": "execute_result"
    }
   ],
   "source": [
    "# wap to triple all numbers of a given list of integers using map.\n",
    "\n",
    "a = [3,6,2,8]\n",
    "list(map(lambda x: x*x*x,a))"
   ]
  },
  {
   "cell_type": "code",
   "execution_count": 2,
   "id": "6553f7cd",
   "metadata": {},
   "outputs": [
    {
     "data": {
      "text/plain": [
       "[11, 22, 6]"
      ]
     },
     "execution_count": 2,
     "metadata": {},
     "output_type": "execute_result"
    }
   ],
   "source": [
    "# wap to add three given lists using map and lambda.\n",
    "\n",
    "a = [3,6,2]\n",
    "b = [6,8,4]\n",
    "c = [2,8,0]\n",
    "\n",
    "list(map(lambda a,b,c: a+b+c,a,b,c))\n",
    "\n"
   ]
  },
  {
   "cell_type": "code",
   "execution_count": 3,
   "id": "4a7e1a2c",
   "metadata": {},
   "outputs": [
    {
     "data": {
      "text/plain": [
       "[9, 36, 4]"
      ]
     },
     "execution_count": 3,
     "metadata": {},
     "output_type": "execute_result"
    }
   ],
   "source": [
    "# wap to square the element of  a list using map function.\n",
    "\n",
    "a = [3,6,2]\n",
    "list(map(lambda a: a*a,a))"
   ]
  },
  {
   "cell_type": "code",
   "execution_count": 10,
   "id": "3e779a5f",
   "metadata": {},
   "outputs": [
    {
     "data": {
      "text/plain": [
       "4.2"
      ]
     },
     "execution_count": 10,
     "metadata": {},
     "output_type": "execute_result"
    }
   ],
   "source": [
    "#wap a program to find the average of 5 numbers using lambda function.\n",
    "\n",
    "a = lambda a,b,x,y,z : (a+b+x+y+z)/5\n",
    "a(4,2,6,7,2)"
   ]
  },
  {
   "cell_type": "code",
   "execution_count": 6,
   "id": "45f2dada",
   "metadata": {},
   "outputs": [],
   "source": [
    "#wap to find the max and min of 3 numbers and find their average with help of lambda function.\n"
   ]
  },
  {
   "cell_type": "code",
   "execution_count": null,
   "id": "7a6500ce",
   "metadata": {},
   "outputs": [],
   "source": []
  }
 ],
 "metadata": {
  "kernelspec": {
   "display_name": "Python 3 (ipykernel)",
   "language": "python",
   "name": "python3"
  },
  "language_info": {
   "codemirror_mode": {
    "name": "ipython",
    "version": 3
   },
   "file_extension": ".py",
   "mimetype": "text/x-python",
   "name": "python",
   "nbconvert_exporter": "python",
   "pygments_lexer": "ipython3",
   "version": "3.9.7"
  }
 },
 "nbformat": 4,
 "nbformat_minor": 5
}
