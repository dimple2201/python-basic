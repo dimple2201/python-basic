{
 "cells": [
  {
   "cell_type": "code",
   "execution_count": 1,
   "id": "679c047c",
   "metadata": {},
   "outputs": [
    {
     "name": "stdout",
     "output_type": "stream",
     "text": [
      "a\n",
      "23\n"
     ]
    }
   ],
   "source": [
    "class student:\n",
    "    def info(self,name,age):\n",
    "        print(name)\n",
    "        print(age)\n",
    "        \n",
    "s=student()\n",
    "s.info('a',23)"
   ]
  },
  {
   "cell_type": "code",
   "execution_count": 4,
   "id": "8288fedb",
   "metadata": {},
   "outputs": [
    {
     "ename": "AttributeError",
     "evalue": "'emp' object has no attribute 'age'",
     "output_type": "error",
     "traceback": [
      "\u001b[1;31m---------------------------------------------------------------------------\u001b[0m",
      "\u001b[1;31mAttributeError\u001b[0m                            Traceback (most recent call last)",
      "\u001b[1;32m~\\AppData\\Local\\Temp/ipykernel_9276/2316005435.py\u001b[0m in \u001b[0;36m<module>\u001b[1;34m\u001b[0m\n\u001b[0;32m      7\u001b[0m \u001b[1;33m\u001b[0m\u001b[0m\n\u001b[0;32m      8\u001b[0m \u001b[0me\u001b[0m\u001b[1;33m=\u001b[0m\u001b[0memp\u001b[0m\u001b[1;33m(\u001b[0m\u001b[1;33m)\u001b[0m\u001b[1;33m\u001b[0m\u001b[1;33m\u001b[0m\u001b[0m\n\u001b[1;32m----> 9\u001b[1;33m \u001b[0me\u001b[0m\u001b[1;33m.\u001b[0m\u001b[0mage\u001b[0m\u001b[1;33m\u001b[0m\u001b[1;33m\u001b[0m\u001b[0m\n\u001b[0m\u001b[0;32m     10\u001b[0m \u001b[1;33m\u001b[0m\u001b[0m\n",
      "\u001b[1;31mAttributeError\u001b[0m: 'emp' object has no attribute 'age'"
     ]
    }
   ],
   "source": [
    "# private\n",
    "\n",
    "class emp:\n",
    "    name = 'john'\n",
    "    __age = 23\n",
    "    salary=34000\n",
    "    \n",
    "e=emp()\n",
    "e.age\n",
    "\n"
   ]
  },
  {
   "cell_type": "code",
   "execution_count": 6,
   "id": "c639f95a",
   "metadata": {},
   "outputs": [
    {
     "data": {
      "text/plain": [
       "'john'"
      ]
     },
     "execution_count": 6,
     "metadata": {},
     "output_type": "execute_result"
    }
   ],
   "source": [
    "# protected\n",
    "\n",
    "class emp:\n",
    "    name = 'john'\n",
    "    _age = 23\n",
    "    salary = 34000\n",
    "\n",
    "e=emp()\n",
    "e.name"
   ]
  },
  {
   "cell_type": "code",
   "execution_count": 7,
   "id": "a70a37b0",
   "metadata": {},
   "outputs": [
    {
     "data": {
      "text/plain": [
       "23"
      ]
     },
     "execution_count": 7,
     "metadata": {},
     "output_type": "execute_result"
    }
   ],
   "source": [
    "e._age"
   ]
  },
  {
   "cell_type": "code",
   "execution_count": 9,
   "id": "3574f2ae",
   "metadata": {},
   "outputs": [
    {
     "name": "stdout",
     "output_type": "stream",
     "text": [
      "jem\n",
      "34000\n",
      "23r42\n"
     ]
    }
   ],
   "source": [
    "# variables\n",
    "# wap to make a function public,private and protected.\n",
    "\n",
    "class emp:\n",
    "    def detail(self,name,salary,emp_id):\n",
    "        print(name)\n",
    "        print(salary)\n",
    "        print(emp_id)\n",
    "        \n",
    "e=emp()\n",
    "e.detail('jem',34000,'23r42')"
   ]
  },
  {
   "cell_type": "code",
   "execution_count": 10,
   "id": "94712a5d",
   "metadata": {},
   "outputs": [
    {
     "ename": "AttributeError",
     "evalue": "'emp' object has no attribute '__detail'",
     "output_type": "error",
     "traceback": [
      "\u001b[1;31m---------------------------------------------------------------------------\u001b[0m",
      "\u001b[1;31mAttributeError\u001b[0m                            Traceback (most recent call last)",
      "\u001b[1;32m~\\AppData\\Local\\Temp/ipykernel_9276/2164872011.py\u001b[0m in \u001b[0;36m<module>\u001b[1;34m\u001b[0m\n\u001b[0;32m      6\u001b[0m \u001b[1;33m\u001b[0m\u001b[0m\n\u001b[0;32m      7\u001b[0m \u001b[0me\u001b[0m\u001b[1;33m=\u001b[0m\u001b[0memp\u001b[0m\u001b[1;33m(\u001b[0m\u001b[1;33m)\u001b[0m\u001b[1;33m\u001b[0m\u001b[1;33m\u001b[0m\u001b[0m\n\u001b[1;32m----> 8\u001b[1;33m \u001b[0me\u001b[0m\u001b[1;33m.\u001b[0m\u001b[0m__detail\u001b[0m\u001b[1;33m(\u001b[0m\u001b[1;34m'jem'\u001b[0m\u001b[1;33m,\u001b[0m\u001b[1;36m34000\u001b[0m\u001b[1;33m,\u001b[0m\u001b[1;34m'23r42'\u001b[0m\u001b[1;33m)\u001b[0m\u001b[1;33m\u001b[0m\u001b[1;33m\u001b[0m\u001b[0m\n\u001b[0m",
      "\u001b[1;31mAttributeError\u001b[0m: 'emp' object has no attribute '__detail'"
     ]
    }
   ],
   "source": [
    "class emp:\n",
    "    def __detail(self,name,salary,emp_id):\n",
    "        print(name)\n",
    "        print(salary)\n",
    "        print(emp_id)\n",
    "        \n",
    "e=emp()\n",
    "e.__detail('jem',34000,'23r42')"
   ]
  },
  {
   "cell_type": "code",
   "execution_count": 11,
   "id": "a7272d8a",
   "metadata": {},
   "outputs": [
    {
     "name": "stdout",
     "output_type": "stream",
     "text": [
      "jem\n",
      "34000\n",
      "23r42\n"
     ]
    }
   ],
   "source": [
    "class emp:\n",
    "    def _detail(self,name,salary,emp_id):\n",
    "        print(name)\n",
    "        print(salary)\n",
    "        print(emp_id)\n",
    "        \n",
    "e=emp()\n",
    "e._detail('jem',34000,'23r42')"
   ]
  },
  {
   "cell_type": "markdown",
   "id": "88a66d44",
   "metadata": {},
   "source": [
    "# Polymorphism"
   ]
  },
  {
   "cell_type": "code",
   "execution_count": 12,
   "id": "6eb1b665",
   "metadata": {},
   "outputs": [],
   "source": [
    "# Overloading------>1.operator overloading, 2.method overloading"
   ]
  },
  {
   "cell_type": "code",
   "execution_count": 13,
   "id": "4c587a6e",
   "metadata": {},
   "outputs": [
    {
     "data": {
      "text/plain": [
       "57"
      ]
     },
     "execution_count": 13,
     "metadata": {},
     "output_type": "execute_result"
    }
   ],
   "source": [
    "# Operator Overloading\n",
    "\n",
    "a=34\n",
    "b=23\n",
    "c=a+b\n",
    "c"
   ]
  },
  {
   "cell_type": "code",
   "execution_count": 14,
   "id": "50398802",
   "metadata": {},
   "outputs": [
    {
     "data": {
      "text/plain": [
       "'12'"
      ]
     },
     "execution_count": 14,
     "metadata": {},
     "output_type": "execute_result"
    }
   ],
   "source": [
    "a='1'\n",
    "b='2'\n",
    "c=a+b\n",
    "c"
   ]
  },
  {
   "cell_type": "code",
   "execution_count": 15,
   "id": "bc6f76fc",
   "metadata": {},
   "outputs": [],
   "source": [
    "# try to implement the code in class and object.\n",
    "\n"
   ]
  },
  {
   "cell_type": "code",
   "execution_count": 16,
   "id": "e3a0aef8",
   "metadata": {},
   "outputs": [
    {
     "data": {
      "text/plain": [
       "65"
      ]
     },
     "execution_count": 16,
     "metadata": {},
     "output_type": "execute_result"
    }
   ],
   "source": [
    "# Method Overloading\n",
    "\n",
    "def x(a,b):\n",
    "    result=a+b\n",
    "    return result\n",
    "\n",
    "x(23,42)\n",
    "    "
   ]
  },
  {
   "cell_type": "code",
   "execution_count": 17,
   "id": "36f9d1e5",
   "metadata": {},
   "outputs": [
    {
     "data": {
      "text/plain": [
       "7"
      ]
     },
     "execution_count": 17,
     "metadata": {},
     "output_type": "execute_result"
    }
   ],
   "source": [
    "x(3,4)"
   ]
  },
  {
   "cell_type": "markdown",
   "id": "b9d25e0b",
   "metadata": {},
   "source": [
    "# Abstraction"
   ]
  },
  {
   "cell_type": "code",
   "execution_count": 19,
   "id": "b2a28d7c",
   "metadata": {},
   "outputs": [
    {
     "name": "stdout",
     "output_type": "stream",
     "text": [
      "Hello\n"
     ]
    }
   ],
   "source": [
    "from abc import ABC,abstractmethod\n",
    "\n",
    "class a:\n",
    "    @abstractmethod\n",
    "    def info(self):\n",
    "        pass\n",
    "    \n",
    "class b(a):\n",
    "    def detail(self):\n",
    "        print('Hello')\n",
    "            \n",
    "x=b()\n",
    "x.detail()"
   ]
  },
  {
   "cell_type": "code",
   "execution_count": null,
   "id": "56542f8b",
   "metadata": {},
   "outputs": [],
   "source": []
  }
 ],
 "metadata": {
  "kernelspec": {
   "display_name": "Python 3 (ipykernel)",
   "language": "python",
   "name": "python3"
  },
  "language_info": {
   "codemirror_mode": {
    "name": "ipython",
    "version": 3
   },
   "file_extension": ".py",
   "mimetype": "text/x-python",
   "name": "python",
   "nbconvert_exporter": "python",
   "pygments_lexer": "ipython3",
   "version": "3.9.7"
  }
 },
 "nbformat": 4,
 "nbformat_minor": 5
}
