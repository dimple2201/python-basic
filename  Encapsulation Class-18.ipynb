{
 "cells": [
  {
   "cell_type": "code",
   "execution_count": null,
   "id": "632b4edb",
   "metadata": {},
   "outputs": [],
   "source": [
    "# Encapsulation : hide the data.\n",
    "\n",
    "# Public\n",
    "# Private\n",
    "# Protected"
   ]
  },
  {
   "cell_type": "code",
   "execution_count": 1,
   "id": "997f250e",
   "metadata": {},
   "outputs": [
    {
     "name": "stdout",
     "output_type": "stream",
     "text": [
      "a\n",
      "34\n"
     ]
    }
   ],
   "source": [
    "# public\n",
    "\n",
    "class student:\n",
    "    def info(self,name,age):\n",
    "        print(name)\n",
    "        print(age)\n",
    "        \n",
    "s=student()\n",
    "s.info('a',34)"
   ]
  },
  {
   "cell_type": "code",
   "execution_count": 2,
   "id": "a88e811d",
   "metadata": {},
   "outputs": [
    {
     "data": {
      "text/plain": [
       "'A'"
      ]
     },
     "execution_count": 2,
     "metadata": {},
     "output_type": "execute_result"
    }
   ],
   "source": [
    "# private\n",
    "\n",
    "class std:\n",
    "    name = 'A'\n",
    "    __age = 34\n",
    "#    print(name)\n",
    "#    print(age)\n",
    "\n",
    "s=std()\n",
    "s.name\n",
    "# s.age"
   ]
  },
  {
   "cell_type": "code",
   "execution_count": 7,
   "id": "9cdb9ac8",
   "metadata": {},
   "outputs": [
    {
     "data": {
      "text/plain": [
       "'A'"
      ]
     },
     "execution_count": 7,
     "metadata": {},
     "output_type": "execute_result"
    }
   ],
   "source": [
    "# protected\n",
    "\n",
    "class emp:\n",
    "    name ='A'\n",
    "    __age = 34\n",
    "    _salary = 450000\n",
    "    \n",
    "e = emp()\n",
    "e.name"
   ]
  },
  {
   "cell_type": "code",
   "execution_count": 8,
   "id": "a36cbf7a",
   "metadata": {},
   "outputs": [
    {
     "ename": "AttributeError",
     "evalue": "'emp' object has no attribute 'age'",
     "output_type": "error",
     "traceback": [
      "\u001b[1;31m---------------------------------------------------------------------------\u001b[0m",
      "\u001b[1;31mAttributeError\u001b[0m                            Traceback (most recent call last)",
      "\u001b[1;32m~\\AppData\\Local\\Temp/ipykernel_11016/3288916177.py\u001b[0m in \u001b[0;36m<module>\u001b[1;34m\u001b[0m\n\u001b[1;32m----> 1\u001b[1;33m \u001b[0me\u001b[0m\u001b[1;33m.\u001b[0m\u001b[0mage\u001b[0m\u001b[1;33m\u001b[0m\u001b[1;33m\u001b[0m\u001b[0m\n\u001b[0m",
      "\u001b[1;31mAttributeError\u001b[0m: 'emp' object has no attribute 'age'"
     ]
    }
   ],
   "source": [
    "e.age"
   ]
  },
  {
   "cell_type": "code",
   "execution_count": 9,
   "id": "1a30bbd4",
   "metadata": {},
   "outputs": [
    {
     "data": {
      "text/plain": [
       "450000"
      ]
     },
     "execution_count": 9,
     "metadata": {},
     "output_type": "execute_result"
    }
   ],
   "source": [
    "e._salary"
   ]
  },
  {
   "cell_type": "code",
   "execution_count": 11,
   "id": "685d5aca",
   "metadata": {},
   "outputs": [
    {
     "name": "stdout",
     "output_type": "stream",
     "text": [
      "john\n",
      "34000\n",
      "3452hj\n"
     ]
    }
   ],
   "source": [
    "# variables\n",
    "# wap to make a function public private and protected.\n",
    "\n",
    "\n",
    "#public\n",
    "\n",
    "class emp:\n",
    "    def detail(self,name,salary,iden):\n",
    "        print(name)\n",
    "        print(salary)\n",
    "        print(iden)\n",
    "        \n",
    "e = emp()\n",
    "e.detail('john',34000,'3452hj')"
   ]
  },
  {
   "cell_type": "code",
   "execution_count": 12,
   "id": "1cd96e50",
   "metadata": {},
   "outputs": [
    {
     "ename": "AttributeError",
     "evalue": "'emp' object has no attribute 'detail'",
     "output_type": "error",
     "traceback": [
      "\u001b[1;31m---------------------------------------------------------------------------\u001b[0m",
      "\u001b[1;31mAttributeError\u001b[0m                            Traceback (most recent call last)",
      "\u001b[1;32m~\\AppData\\Local\\Temp/ipykernel_11016/3525869957.py\u001b[0m in \u001b[0;36m<module>\u001b[1;34m\u001b[0m\n\u001b[0;32m      8\u001b[0m \u001b[1;33m\u001b[0m\u001b[0m\n\u001b[0;32m      9\u001b[0m \u001b[0me\u001b[0m \u001b[1;33m=\u001b[0m \u001b[0memp\u001b[0m\u001b[1;33m(\u001b[0m\u001b[1;33m)\u001b[0m\u001b[1;33m\u001b[0m\u001b[1;33m\u001b[0m\u001b[0m\n\u001b[1;32m---> 10\u001b[1;33m \u001b[0me\u001b[0m\u001b[1;33m.\u001b[0m\u001b[0mdetail\u001b[0m\u001b[1;33m(\u001b[0m\u001b[1;34m'john'\u001b[0m\u001b[1;33m,\u001b[0m\u001b[1;36m34000\u001b[0m\u001b[1;33m,\u001b[0m\u001b[1;34m'3452hj'\u001b[0m\u001b[1;33m)\u001b[0m\u001b[1;33m\u001b[0m\u001b[1;33m\u001b[0m\u001b[0m\n\u001b[0m",
      "\u001b[1;31mAttributeError\u001b[0m: 'emp' object has no attribute 'detail'"
     ]
    }
   ],
   "source": [
    "# private\n",
    "\n",
    "class emp:\n",
    "    def __detail(self,name,salary,iden):\n",
    "        print(name)\n",
    "        print(salary)\n",
    "        print(iden)\n",
    "        \n",
    "e = emp()\n",
    "e.detail('john',34000,'3452hj')"
   ]
  },
  {
   "cell_type": "code",
   "execution_count": 13,
   "id": "7824fd4d",
   "metadata": {},
   "outputs": [
    {
     "name": "stdout",
     "output_type": "stream",
     "text": [
      "john\n",
      "34000\n",
      "3452hj\n"
     ]
    }
   ],
   "source": [
    "# protected\n",
    "\n",
    "class emp:\n",
    "    def _detail(self,name,salary,iden):\n",
    "        print(name)\n",
    "        print(salary)\n",
    "        print(iden)\n",
    "        \n",
    "e = emp()\n",
    "e._detail('john',34000,'3452hj')"
   ]
  },
  {
   "cell_type": "code",
   "execution_count": 14,
   "id": "2bf028a9",
   "metadata": {},
   "outputs": [
    {
     "data": {
      "text/plain": [
       "7"
      ]
     },
     "execution_count": 14,
     "metadata": {},
     "output_type": "execute_result"
    }
   ],
   "source": [
    "# polymorphism -----> many form\n",
    "\n",
    "# overloading: 1. operator overloading ----> + (+ is use as two types add and concatenate)\n",
    "# 2. method overloading\n",
    "# overriding: Python not support overriding\n",
    "\n",
    "a= 4\n",
    "b=3\n",
    "c=a+b\n",
    "c\n",
    "\n",
    "\n"
   ]
  },
  {
   "cell_type": "code",
   "execution_count": 16,
   "id": "3f9f058d",
   "metadata": {},
   "outputs": [
    {
     "name": "stdout",
     "output_type": "stream",
     "text": [
      "24\n"
     ]
    }
   ],
   "source": [
    "a='2'\n",
    "b='4'\n",
    "c=a+b\n",
    "print(c)"
   ]
  },
  {
   "cell_type": "code",
   "execution_count": 17,
   "id": "dc595068",
   "metadata": {},
   "outputs": [],
   "source": [
    "# try to implement the code in class and object.\n",
    "\n",
    "class emp:\n",
    "    def \n"
   ]
  },
  {
   "cell_type": "code",
   "execution_count": 22,
   "id": "56c0e866",
   "metadata": {},
   "outputs": [
    {
     "data": {
      "text/plain": [
       "3"
      ]
     },
     "execution_count": 22,
     "metadata": {},
     "output_type": "execute_result"
    }
   ],
   "source": [
    "# method overloading ----->\n",
    "\n",
    "def x(a,b=4):\n",
    "    result = a+b\n",
    "    return result\n",
    "x(1,2)\n",
    "    "
   ]
  },
  {
   "cell_type": "code",
   "execution_count": 23,
   "id": "c4e7c69c",
   "metadata": {},
   "outputs": [
    {
     "data": {
      "text/plain": [
       "7"
      ]
     },
     "execution_count": 23,
     "metadata": {},
     "output_type": "execute_result"
    }
   ],
   "source": [
    "x(3)"
   ]
  },
  {
   "cell_type": "code",
   "execution_count": 31,
   "id": "9eb51e01",
   "metadata": {},
   "outputs": [
    {
     "name": "stdout",
     "output_type": "stream",
     "text": [
      "hello\n"
     ]
    }
   ],
   "source": [
    "# Abstraction : hide the complexity of code or implementation of data.\n",
    "\n",
    "# abc module : abstract base class\n",
    "\n",
    "from abc import ABC,abstractmethod\n",
    "\n",
    "class a(ABC):\n",
    "    @abstractmethod\n",
    "    def info(self):\n",
    "        print('hi')\n",
    "    \n",
    "class b:\n",
    "    def detail(self):\n",
    "        print('hello')\n",
    "        \n",
    "class c(b):\n",
    "    def information(self):\n",
    "        print('hey')\n",
    "        \n",
    "x = b()\n",
    "x.detail()"
   ]
  },
  {
   "cell_type": "code",
   "execution_count": 4,
   "id": "9d22ae96",
   "metadata": {},
   "outputs": [
    {
     "name": "stdout",
     "output_type": "stream",
     "text": [
      "hey\n"
     ]
    }
   ],
   "source": [
    "from abc import ABC,abstractmethod\n",
    "\n",
    "class a(ABC):\n",
    "    @abstractmethod\n",
    "    def info(self):\n",
    "        print('hi')\n",
    "    \n",
    "class b:\n",
    "    def detail(self):\n",
    "        print('hello')\n",
    "        \n",
    "class c(b):\n",
    "    def information(self):\n",
    "        print('hey')\n",
    "        \n",
    "x = c()\n",
    "x.information()"
   ]
  },
  {
   "cell_type": "code",
   "execution_count": null,
   "id": "f9169f68",
   "metadata": {},
   "outputs": [],
   "source": []
  }
 ],
 "metadata": {
  "kernelspec": {
   "display_name": "Python 3 (ipykernel)",
   "language": "python",
   "name": "python3"
  },
  "language_info": {
   "codemirror_mode": {
    "name": "ipython",
    "version": 3
   },
   "file_extension": ".py",
   "mimetype": "text/x-python",
   "name": "python",
   "nbconvert_exporter": "python",
   "pygments_lexer": "ipython3",
   "version": "3.9.7"
  }
 },
 "nbformat": 4,
 "nbformat_minor": 5
}
