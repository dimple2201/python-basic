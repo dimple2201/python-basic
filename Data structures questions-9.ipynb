{
 "cells": [
  {
   "cell_type": "markdown",
   "id": "7c4f3754",
   "metadata": {},
   "source": [
    "\n",
    "\n",
    "a= [48,32,56,34,64]\n",
    "a.sort(reverse=False)"
   ]
  },
  {
   "cell_type": "code",
   "execution_count": 4,
   "id": "2050906e",
   "metadata": {},
   "outputs": [
    {
     "data": {
      "text/plain": [
       "[32, 34, 48, 56, 64]"
      ]
     },
     "execution_count": 4,
     "metadata": {},
     "output_type": "execute_result"
    }
   ],
   "source": [
    "a"
   ]
  },
  {
   "cell_type": "code",
   "execution_count": 5,
   "id": "5624bb40",
   "metadata": {},
   "outputs": [
    {
     "name": "stdout",
     "output_type": "stream",
     "text": [
      "17\n"
     ]
    }
   ],
   "source": [
    "# wap to add list to 4 no.?\n",
    "\n",
    "a= [3,6,2,6]\n",
    "total = 0\n",
    "for i in a:\n",
    "    total = total + i\n",
    "print(total)"
   ]
  },
  {
   "cell_type": "code",
   "execution_count": 6,
   "id": "d6576912",
   "metadata": {},
   "outputs": [
    {
     "data": {
      "text/plain": [
       "1"
      ]
     },
     "execution_count": 6,
     "metadata": {},
     "output_type": "execute_result"
    }
   ],
   "source": [
    "# wap to count 7 in the tuple?\n",
    "\n",
    "t = (7,77,777,-77,87,97,-7)\n",
    "t.count(7)\n"
   ]
  },
  {
   "cell_type": "code",
   "execution_count": 1,
   "id": "9d85392c",
   "metadata": {},
   "outputs": [
    {
     "name": "stdout",
     "output_type": "stream",
     "text": [
      "enter the fruitapple\n",
      "enter the fruitmango\n",
      "enter the fruitgrapes\n",
      "enter the fruitbanana\n",
      "['apple', 'mango', 'grapes', 'banana']\n"
     ]
    }
   ],
   "source": [
    "# wap to store 3 fruit items in a list entered by the user.\n",
    "\n",
    "b = []\n",
    "for i in range(4):\n",
    "    x = input('enter the fruit')\n",
    "    b.append(x)\n",
    "\n",
    "print(b)\n"
   ]
  },
  {
   "cell_type": "code",
   "execution_count": 4,
   "id": "2f63a7d9",
   "metadata": {},
   "outputs": [
    {
     "name": "stdout",
     "output_type": "stream",
     "text": [
      "enter your marks46\n",
      "enter your marks52\n",
      "enter your marks-6\n",
      "enter your marks25\n",
      "enter your marks44\n",
      "[46, 52, -6, 25, 44]\n"
     ]
    }
   ],
   "source": [
    "#wap to display marks of 5 students & display them in sorted way.\n",
    "\n",
    "a = []\n",
    "for i in range(5):\n",
    "    x=  int(input('enter your marks'))\n",
    "    a.append(x)\n",
    "    \n",
    "print(a)    "
   ]
  },
  {
   "cell_type": "code",
   "execution_count": 5,
   "id": "7ce11ea1",
   "metadata": {},
   "outputs": [],
   "source": [
    "a.sort()\n"
   ]
  },
  {
   "cell_type": "code",
   "execution_count": 6,
   "id": "cc2b946c",
   "metadata": {},
   "outputs": [
    {
     "data": {
      "text/plain": [
       "[-6, 25, 44, 46, 52]"
      ]
     },
     "execution_count": 6,
     "metadata": {},
     "output_type": "execute_result"
    }
   ],
   "source": [
    "a"
   ]
  },
  {
   "cell_type": "code",
   "execution_count": 9,
   "id": "671a21b7",
   "metadata": {},
   "outputs": [
    {
     "name": "stdout",
     "output_type": "stream",
     "text": [
      "enter your marks85\n",
      "enter your marks15\n",
      "enter your marks63\n",
      "enter your marks45\n",
      "enter your marks25\n",
      "marks in random order [85, 15, 63, 45, 25]\n",
      "marks in sorted form [15, 25, 45, 63, 85]\n"
     ]
    }
   ],
   "source": [
    "#wap to display marks of 5 students & display them in sorted way.\n",
    "\n",
    "a = []\n",
    "for i in range(5):\n",
    "    x=  int(input('enter your marks'))\n",
    "    a.append(x)\n",
    "    \n",
    "print('marks in random order',a)    \n",
    "a.sort()\n",
    "print('marks in sorted form',a)"
   ]
  },
  {
   "cell_type": "code",
   "execution_count": 10,
   "id": "62eeb4b1",
   "metadata": {},
   "outputs": [
    {
     "data": {
      "text/plain": [
       "(45, 'komal', 43, 7.8, 44)"
      ]
     },
     "execution_count": 10,
     "metadata": {},
     "output_type": "execute_result"
    }
   ],
   "source": [
    "# wap if tuple is mutable or not?\n",
    "\n",
    "t = (45,'komal',43,7.8,44)\n",
    "t\n"
   ]
  },
  {
   "cell_type": "code",
   "execution_count": 11,
   "id": "4e0c214b",
   "metadata": {},
   "outputs": [
    {
     "data": {
      "text/plain": [
       "tuple"
      ]
     },
     "execution_count": 11,
     "metadata": {},
     "output_type": "execute_result"
    }
   ],
   "source": [
    "type(t)"
   ]
  },
  {
   "cell_type": "code",
   "execution_count": 12,
   "id": "daca0716",
   "metadata": {},
   "outputs": [
    {
     "name": "stdout",
     "output_type": "stream",
     "text": [
      "3\n",
      "9\n",
      "11\n",
      "17\n"
     ]
    }
   ],
   "source": [
    "# wap to add list to 4 no.?\n",
    "\n",
    "a= [3,6,2,6]\n",
    "total = 0\n",
    "for i in a:\n",
    "    total = total + i\n",
    "    print(total)\n"
   ]
  },
  {
   "cell_type": "code",
   "execution_count": 13,
   "id": "79367b0d",
   "metadata": {},
   "outputs": [
    {
     "name": "stdout",
     "output_type": "stream",
     "text": [
      "enter your marks45\n",
      "enter your marks96\n",
      "enter your marks25\n",
      "enter your marks63\n",
      "enter your marks18\n",
      "[45, 96, 25, 63, 18]\n",
      "[18, 25, 45, 63, 96]\n"
     ]
    }
   ],
   "source": [
    "#wap to display marks of 5 students & display them in sorted way.\n",
    "\n",
    "a = []\n",
    "for i in range(5):\n",
    "    x=  int(input('enter your marks'))\n",
    "    a.append(x)\n",
    "    \n",
    "print(a) \n",
    "a.sort()\n",
    "print(a)"
   ]
  },
  {
   "cell_type": "code",
   "execution_count": 3,
   "id": "ed823cb5",
   "metadata": {},
   "outputs": [
    {
     "name": "stdout",
     "output_type": "stream",
     "text": [
      "192\n"
     ]
    }
   ],
   "source": [
    "# WAP to multiply all the items in a list.\n",
    "\n",
    "a = [4,2,6,4]\n",
    "mul = 1\n",
    "\n",
    "for i in a:\n",
    "    mul = mul * i\n",
    "print(mul)    "
   ]
  },
  {
   "cell_type": "code",
   "execution_count": 11,
   "id": "16280dd7",
   "metadata": {},
   "outputs": [
    {
     "data": {
      "text/plain": [
       "67"
      ]
     },
     "execution_count": 11,
     "metadata": {},
     "output_type": "execute_result"
    }
   ],
   "source": [
    "# wap to get the largest number from a list.\n",
    "\n",
    "a = [34,65,23,67,45]\n",
    "max(a)"
   ]
  },
  {
   "cell_type": "code",
   "execution_count": 3,
   "id": "d6880c30",
   "metadata": {},
   "outputs": [
    {
     "name": "stdout",
     "output_type": "stream",
     "text": [
      "sequence\n",
      "0\n",
      "1\n",
      "1\n",
      "2\n",
      "3\n",
      "5\n",
      "8\n",
      "13\n",
      "21\n",
      "34\n"
     ]
    }
   ],
   "source": [
    "# wap to print fibonacci series.\n",
    "\n",
    "n1,n2 = 0,1\n",
    "nterms = 10\n",
    "count = 0\n",
    "\n",
    "if nterms <= 0:\n",
    "    print('enter positive number')\n",
    "    \n",
    "elif nterms == 1:\n",
    "    print(n1)\n",
    "else:\n",
    "#    print('sequence')\n",
    "    while count < nterms:\n",
    "            print(n1)\n",
    "            nth = n1+n2\n",
    "            n1 = n2\n",
    "            n2 = nth\n",
    "            count+=1\n",
    "        \n",
    "    \n",
    "    \n",
    "\n",
    "\n",
    "\n"
   ]
  },
  {
   "cell_type": "code",
   "execution_count": 2,
   "id": "7764141d",
   "metadata": {},
   "outputs": [
    {
     "name": "stdout",
     "output_type": "stream",
     "text": [
      "0\n",
      "1\n",
      "1\n",
      "2\n",
      "3\n",
      "5\n",
      "8\n",
      "13\n",
      "21\n",
      "34\n"
     ]
    }
   ],
   "source": [
    "count=0\n",
    "nterms=10\n",
    "n1,n2=0,1\n",
    "while count < nterms:\n",
    "            print(n1)\n",
    "            nth = n1+n2\n",
    "            n1 = n2\n",
    "            n2 = nth\n",
    "            count+=1\n",
    "        "
   ]
  },
  {
   "cell_type": "code",
   "execution_count": 5,
   "id": "b2f2ce78",
   "metadata": {},
   "outputs": [
    {
     "name": "stdout",
     "output_type": "stream",
     "text": [
      "6\n"
     ]
    }
   ],
   "source": [
    "# wap to count total number in a digit?\n",
    "\n",
    "n=523672\n",
    "count = 0\n",
    "while n>0:\n",
    "    \n",
    "    count = count + 1\n",
    "    n=n//10\n",
    "print(count)\n",
    "\n"
   ]
  },
  {
   "cell_type": "code",
   "execution_count": 4,
   "id": "9a31373c",
   "metadata": {},
   "outputs": [
    {
     "name": "stdout",
     "output_type": "stream",
     "text": [
      "011000"
     ]
    }
   ],
   "source": [
    "# decimal to binary\n",
    "\n",
    "def btd(num):\n",
    "    if num>=1:\n",
    "        btd(num//2)\n",
    "    print(num%2,end='')\n",
    "dec_val = 24\n",
    "btd(dec_val)"
   ]
  },
  {
   "cell_type": "code",
   "execution_count": 6,
   "id": "a5054101",
   "metadata": {},
   "outputs": [
    {
     "name": "stdout",
     "output_type": "stream",
     "text": [
      "enter the terms5\n",
      "fibonacci sequence\n",
      "01123"
     ]
    }
   ],
   "source": [
    "# wap to print Fibonacci number to given limit.\n",
    "\n",
    "terms=int(input('enter the terms'))\n",
    "a=0\n",
    "b=1\n",
    "count=0\n",
    "if terms<=0:\n",
    "    print('enter an interger')\n",
    "elif terms==1:\n",
    "    print(a)\n",
    "else:\n",
    "    print('fibonacci sequence')\n",
    "while count<terms:\n",
    "    print(a,end='')\n",
    "    c=a+b\n",
    "    a=b\n",
    "    b=c\n",
    "    count=count+1"
   ]
  },
  {
   "cell_type": "code",
   "execution_count": null,
   "id": "ea0b807c",
   "metadata": {},
   "outputs": [],
   "source": []
  },
  {
   "cell_type": "code",
   "execution_count": null,
   "id": "44df59cc",
   "metadata": {},
   "outputs": [],
   "source": []
  }
 ],
 "metadata": {
  "kernelspec": {
   "display_name": "Python 3 (ipykernel)",
   "language": "python",
   "name": "python3"
  },
  "language_info": {
   "codemirror_mode": {
    "name": "ipython",
    "version": 3
   },
   "file_extension": ".py",
   "mimetype": "text/x-python",
   "name": "python",
   "nbconvert_exporter": "python",
   "pygments_lexer": "ipython3",
   "version": "3.9.7"
  }
 },
 "nbformat": 4,
 "nbformat_minor": 5
}
