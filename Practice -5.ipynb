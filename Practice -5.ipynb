{
 "cells": [
  {
   "cell_type": "markdown",
   "id": "bee83dd1",
   "metadata": {},
   "source": [
    "# Function\n"
   ]
  },
  {
   "cell_type": "code",
   "execution_count": 1,
   "id": "3a7269f4",
   "metadata": {},
   "outputs": [
    {
     "name": "stdout",
     "output_type": "stream",
     "text": [
      "Hello\n"
     ]
    }
   ],
   "source": [
    "# function syntax------>\n",
    "# define the function  function name():\n",
    "# print('msg')\n",
    "# call the function\n",
    "\n",
    "def greet():\n",
    "    print('Hello')\n",
    "greet()"
   ]
  },
  {
   "cell_type": "code",
   "execution_count": 2,
   "id": "70d7908e",
   "metadata": {},
   "outputs": [
    {
     "name": "stdout",
     "output_type": "stream",
     "text": [
      "7\n"
     ]
    }
   ],
   "source": [
    "# wap to add two numbers.\n",
    "\n",
    "def add(a,b):\n",
    "    c=a+b\n",
    "    print(c)\n",
    "    \n",
    "add(3,4)\n",
    "    "
   ]
  },
  {
   "cell_type": "code",
   "execution_count": 3,
   "id": "e340b7b4",
   "metadata": {},
   "outputs": [],
   "source": [
    "# types of function\n",
    "\n",
    "# 1. no return no argument\n",
    "# 2. no argument with return\n",
    "# 3. with argument no return\n",
    "# 4. with argument with return"
   ]
  },
  {
   "cell_type": "code",
   "execution_count": 6,
   "id": "0a2c0db9",
   "metadata": {},
   "outputs": [
    {
     "name": "stdout",
     "output_type": "stream",
     "text": [
      "8\n"
     ]
    }
   ],
   "source": [
    "# 1. no return no argument\n",
    "\n",
    "def add():\n",
    "    a=3\n",
    "    b=5\n",
    "    c=a+b\n",
    "    print(c)\n",
    "add()"
   ]
  },
  {
   "cell_type": "code",
   "execution_count": 7,
   "id": "4d00dc6d",
   "metadata": {},
   "outputs": [
    {
     "data": {
      "text/plain": [
       "11"
      ]
     },
     "execution_count": 7,
     "metadata": {},
     "output_type": "execute_result"
    }
   ],
   "source": [
    "# 2. no argument with return\n",
    "\n",
    "def add():\n",
    "    a=5\n",
    "    b=6\n",
    "    c=a+b\n",
    "    return c\n",
    "add()"
   ]
  },
  {
   "cell_type": "code",
   "execution_count": 10,
   "id": "e02fb61a",
   "metadata": {},
   "outputs": [
    {
     "name": "stdout",
     "output_type": "stream",
     "text": [
      "8\n"
     ]
    }
   ],
   "source": [
    "# 3. with argument no return\n",
    "\n",
    "def add(a,b):\n",
    "    c=a+b\n",
    "    print(c)\n",
    "    \n",
    "add(2,6)\n",
    "\n",
    "    "
   ]
  },
  {
   "cell_type": "code",
   "execution_count": 11,
   "id": "35eefe72",
   "metadata": {},
   "outputs": [
    {
     "data": {
      "text/plain": [
       "12"
      ]
     },
     "execution_count": 11,
     "metadata": {},
     "output_type": "execute_result"
    }
   ],
   "source": [
    "# 4. with argument with return\n",
    "\n",
    "def add(a,b):\n",
    "    c=a*b\n",
    "    return c\n",
    "\n",
    "add(3,4)"
   ]
  },
  {
   "cell_type": "code",
   "execution_count": 1,
   "id": "b91b5966",
   "metadata": {},
   "outputs": [],
   "source": [
    "# wap to find max no. from three numbers using funciton."
   ]
  },
  {
   "cell_type": "code",
   "execution_count": 6,
   "id": "7ad3e46f",
   "metadata": {},
   "outputs": [
    {
     "name": "stdout",
     "output_type": "stream",
     "text": [
      "1\n",
      "3\n",
      "6\n",
      "10\n"
     ]
    }
   ],
   "source": [
    "# wap to sum all number present in a list.\n",
    "\n",
    "def add_list():\n",
    "    a=[1,2,3,4]\n",
    "    sum=0\n",
    "    for i in a:\n",
    "        sum=sum+i\n",
    "        print(sum)\n",
    "add_list()\n",
    "     "
   ]
  },
  {
   "cell_type": "code",
   "execution_count": 7,
   "id": "e7b452f3",
   "metadata": {},
   "outputs": [
    {
     "name": "stdout",
     "output_type": "stream",
     "text": [
      "2\n",
      "3\n",
      "4\n",
      "5\n",
      "6\n",
      "7\n",
      "8\n",
      "9\n",
      "10\n",
      "11\n"
     ]
    }
   ],
   "source": [
    "\n",
    "for i in range(2,12):\n",
    "    print(i)\n",
    "        \n",
    "    "
   ]
  },
  {
   "cell_type": "code",
   "execution_count": 8,
   "id": "62ca2cd4",
   "metadata": {},
   "outputs": [],
   "source": [
    "a = (23,5.4,'help',True)"
   ]
  },
  {
   "cell_type": "code",
   "execution_count": 10,
   "id": "b050547f",
   "metadata": {},
   "outputs": [
    {
     "data": {
      "text/plain": [
       "tuple"
      ]
     },
     "execution_count": 10,
     "metadata": {},
     "output_type": "execute_result"
    }
   ],
   "source": [
    "type(a)"
   ]
  },
  {
   "cell_type": "code",
   "execution_count": 12,
   "id": "2488674a",
   "metadata": {},
   "outputs": [
    {
     "data": {
      "text/plain": [
       "5.4"
      ]
     },
     "execution_count": 12,
     "metadata": {},
     "output_type": "execute_result"
    }
   ],
   "source": [
    "a[1]"
   ]
  },
  {
   "cell_type": "code",
   "execution_count": 14,
   "id": "329f700e",
   "metadata": {},
   "outputs": [
    {
     "name": "stdout",
     "output_type": "stream",
     "text": [
      "011000"
     ]
    }
   ],
   "source": [
    "# decimal to binary\n",
    "\n",
    "def dtb(num):\n",
    "    if num>=1:\n",
    "        dtb(num//2)\n",
    "    print(num%2,end='')\n",
    "dec_val=24\n",
    "dtb(dec_val)"
   ]
  },
  {
   "cell_type": "code",
   "execution_count": 17,
   "id": "fd6f0ba9",
   "metadata": {},
   "outputs": [
    {
     "name": "stdout",
     "output_type": "stream",
     "text": [
      "5\n"
     ]
    }
   ],
   "source": [
    "n=34324\n",
    "count=0\n",
    "while n>0:\n",
    "    count=count+1\n",
    "    n=n//10\n",
    "print(count)"
   ]
  },
  {
   "cell_type": "code",
   "execution_count": 9,
   "id": "11100c38",
   "metadata": {},
   "outputs": [
    {
     "name": "stdout",
     "output_type": "stream",
     "text": [
      "500\n",
      "10000000\n"
     ]
    }
   ],
   "source": [
    "# Calculate the total area of a land having l=20 b=30. If the land is greater than 100sq then also calculate the cost of \n",
    "# remaining land.Price of land is 20000K.\n",
    "\n",
    "def fun():\n",
    "    l =20\n",
    "    b =30\n",
    "    landarea = 100\n",
    "    \n",
    "    area=l*b\n",
    "\n",
    "    if area>100:\n",
    "        remainingland = area-landarea\n",
    "        print(remainingland)\n",
    "    \n",
    "        cost = remainingland * 20000\n",
    "        print(cost)\n",
    "        \n",
    "fun()"
   ]
  },
  {
   "cell_type": "code",
   "execution_count": 10,
   "id": "c2a4d097",
   "metadata": {},
   "outputs": [
    {
     "data": {
      "text/plain": [
       "11"
      ]
     },
     "execution_count": 10,
     "metadata": {},
     "output_type": "execute_result"
    }
   ],
   "source": [
    "def add(x=3,y=8):\n",
    "    z=x+y\n",
    "    return z\n",
    "add()"
   ]
  },
  {
   "cell_type": "code",
   "execution_count": 11,
   "id": "a2eed792",
   "metadata": {},
   "outputs": [
    {
     "data": {
      "text/plain": [
       "12"
      ]
     },
     "execution_count": 11,
     "metadata": {},
     "output_type": "execute_result"
    }
   ],
   "source": [
    "def add(x=3,y=8):\n",
    "    z=x+y\n",
    "    return z\n",
    "add(5,7)"
   ]
  },
  {
   "cell_type": "code",
   "execution_count": null,
   "id": "160da88a",
   "metadata": {},
   "outputs": [],
   "source": []
  }
 ],
 "metadata": {
  "kernelspec": {
   "display_name": "Python 3 (ipykernel)",
   "language": "python",
   "name": "python3"
  },
  "language_info": {
   "codemirror_mode": {
    "name": "ipython",
    "version": 3
   },
   "file_extension": ".py",
   "mimetype": "text/x-python",
   "name": "python",
   "nbconvert_exporter": "python",
   "pygments_lexer": "ipython3",
   "version": "3.9.7"
  }
 },
 "nbformat": 4,
 "nbformat_minor": 5
}
