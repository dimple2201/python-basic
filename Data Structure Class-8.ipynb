{
 "cells": [
  {
   "cell_type": "markdown",
   "id": "a3d67ca4",
   "metadata": {},
   "source": [
    "# tuple"
   ]
  },
  {
   "cell_type": "code",
   "execution_count": null,
   "id": "d7ee331e",
   "metadata": {},
   "outputs": [],
   "source": [
    "# Tuple is an ordered collection of elements enclosed within ().\n",
    "# You can't modify a tuple because it is immutable."
   ]
  },
  {
   "cell_type": "code",
   "execution_count": 1,
   "id": "5c2527f6",
   "metadata": {},
   "outputs": [
    {
     "data": {
      "text/plain": [
       "(34, True, 4.64, (3-7j))"
      ]
     },
     "execution_count": 1,
     "metadata": {},
     "output_type": "execute_result"
    }
   ],
   "source": [
    "a= (34, True, 4.64,3-7j)\n",
    "a"
   ]
  },
  {
   "cell_type": "code",
   "execution_count": 2,
   "id": "9feb481c",
   "metadata": {},
   "outputs": [
    {
     "data": {
      "text/plain": [
       "tuple"
      ]
     },
     "execution_count": 2,
     "metadata": {},
     "output_type": "execute_result"
    }
   ],
   "source": [
    "type(a)"
   ]
  },
  {
   "cell_type": "code",
   "execution_count": 3,
   "id": "1f687224",
   "metadata": {},
   "outputs": [
    {
     "data": {
      "text/plain": [
       "34"
      ]
     },
     "execution_count": 3,
     "metadata": {},
     "output_type": "execute_result"
    }
   ],
   "source": [
    "a[0]"
   ]
  },
  {
   "cell_type": "code",
   "execution_count": 11,
   "id": "808d9bfb",
   "metadata": {},
   "outputs": [
    {
     "data": {
      "text/plain": [
       "(3, False, 6.4, (4-3j), True)"
      ]
     },
     "execution_count": 11,
     "metadata": {},
     "output_type": "execute_result"
    }
   ],
   "source": [
    "tup1 = (3,False,6.4,4-3j,True)\n",
    "tup1"
   ]
  },
  {
   "cell_type": "code",
   "execution_count": 12,
   "id": "74a658e0",
   "metadata": {},
   "outputs": [
    {
     "data": {
      "text/plain": [
       "True"
      ]
     },
     "execution_count": 12,
     "metadata": {},
     "output_type": "execute_result"
    }
   ],
   "source": [
    "tup1[-1]"
   ]
  },
  {
   "cell_type": "code",
   "execution_count": 13,
   "id": "952f653b",
   "metadata": {},
   "outputs": [
    {
     "data": {
      "text/plain": [
       "(3, False, 6.4)"
      ]
     },
     "execution_count": 13,
     "metadata": {},
     "output_type": "execute_result"
    }
   ],
   "source": [
    "tup1[0:3]"
   ]
  },
  {
   "cell_type": "code",
   "execution_count": 14,
   "id": "05bb44e1",
   "metadata": {},
   "outputs": [
    {
     "data": {
      "text/plain": [
       "5"
      ]
     },
     "execution_count": 14,
     "metadata": {},
     "output_type": "execute_result"
    }
   ],
   "source": [
    "len(tup1)"
   ]
  },
  {
   "cell_type": "code",
   "execution_count": 15,
   "id": "1dc40b67",
   "metadata": {},
   "outputs": [
    {
     "data": {
      "text/plain": [
       "(2, 4, 6, 6, 4, 3)"
      ]
     },
     "execution_count": 15,
     "metadata": {},
     "output_type": "execute_result"
    }
   ],
   "source": [
    "tup1 = (2,4,6)\n",
    "tup2 = (6,4,3)\n",
    "\n",
    "tup1+tup2"
   ]
  },
  {
   "cell_type": "code",
   "execution_count": 16,
   "id": "0d233e90",
   "metadata": {},
   "outputs": [
    {
     "data": {
      "text/plain": [
       "((2, 4, 6), (6, 4, 3))"
      ]
     },
     "execution_count": 16,
     "metadata": {},
     "output_type": "execute_result"
    }
   ],
   "source": [
    "tup1,tup2"
   ]
  },
  {
   "cell_type": "code",
   "execution_count": 17,
   "id": "f35ec362",
   "metadata": {},
   "outputs": [
    {
     "data": {
      "text/plain": [
       "(6, 4, 3, 2, 4, 6)"
      ]
     },
     "execution_count": 17,
     "metadata": {},
     "output_type": "execute_result"
    }
   ],
   "source": [
    "tup2+tup1"
   ]
  },
  {
   "cell_type": "code",
   "execution_count": 18,
   "id": "85aba06f",
   "metadata": {},
   "outputs": [
    {
     "data": {
      "text/plain": [
       "(2, 4, 6, 2, 4, 6)"
      ]
     },
     "execution_count": 18,
     "metadata": {},
     "output_type": "execute_result"
    }
   ],
   "source": [
    "tup1*2"
   ]
  },
  {
   "cell_type": "code",
   "execution_count": 20,
   "id": "e646c1d0",
   "metadata": {},
   "outputs": [
    {
     "data": {
      "text/plain": [
       "(2, 4, 6, 2, 4, 6, 6, 4, 3)"
      ]
     },
     "execution_count": 20,
     "metadata": {},
     "output_type": "execute_result"
    }
   ],
   "source": [
    "tup1*2 + tup2\n",
    "\n",
    "# min(tup1)\n",
    "# max(tup1)"
   ]
  },
  {
   "cell_type": "code",
   "execution_count": null,
   "id": "9f9119a5",
   "metadata": {},
   "outputs": [],
   "source": [
    "# wap to convert tuple into string"
   ]
  },
  {
   "cell_type": "markdown",
   "id": "c74dcdb2",
   "metadata": {},
   "source": [
    "# LIST"
   ]
  },
  {
   "cell_type": "code",
   "execution_count": 23,
   "id": "3d8e2b11",
   "metadata": {},
   "outputs": [],
   "source": [
    "# List is an ordered collection of elements enclosed within []\n",
    "# Lists are mutable."
   ]
  },
  {
   "cell_type": "code",
   "execution_count": 24,
   "id": "271e2c1b",
   "metadata": {},
   "outputs": [
    {
     "data": {
      "text/plain": [
       "[1, 'sparta', 4.23, False]"
      ]
     },
     "execution_count": 24,
     "metadata": {},
     "output_type": "execute_result"
    }
   ],
   "source": [
    "l1 = [1, 'sparta',4.23,False]\n",
    "l1"
   ]
  },
  {
   "cell_type": "code",
   "execution_count": 25,
   "id": "596a5a5c",
   "metadata": {},
   "outputs": [
    {
     "data": {
      "text/plain": [
       "list"
      ]
     },
     "execution_count": 25,
     "metadata": {},
     "output_type": "execute_result"
    }
   ],
   "source": [
    "type(l1)"
   ]
  },
  {
   "cell_type": "code",
   "execution_count": 26,
   "id": "347af3b3",
   "metadata": {},
   "outputs": [
    {
     "data": {
      "text/plain": [
       "False"
      ]
     },
     "execution_count": 26,
     "metadata": {},
     "output_type": "execute_result"
    }
   ],
   "source": [
    "l1[3]"
   ]
  },
  {
   "cell_type": "code",
   "execution_count": 27,
   "id": "90e1debb",
   "metadata": {},
   "outputs": [
    {
     "data": {
      "text/plain": [
       "[4.23, False]"
      ]
     },
     "execution_count": 27,
     "metadata": {},
     "output_type": "execute_result"
    }
   ],
   "source": [
    "l1[2:4]"
   ]
  },
  {
   "cell_type": "code",
   "execution_count": 28,
   "id": "6b675424",
   "metadata": {},
   "outputs": [
    {
     "data": {
      "text/plain": [
       "False"
      ]
     },
     "execution_count": 28,
     "metadata": {},
     "output_type": "execute_result"
    }
   ],
   "source": [
    "l1[-1]"
   ]
  },
  {
   "cell_type": "code",
   "execution_count": 29,
   "id": "25a48cec",
   "metadata": {},
   "outputs": [],
   "source": [
    "# list is mutable\n",
    "\n",
    "l1[0]=100\n"
   ]
  },
  {
   "cell_type": "code",
   "execution_count": 30,
   "id": "44706bbd",
   "metadata": {},
   "outputs": [
    {
     "data": {
      "text/plain": [
       "[100, 'sparta', 4.23, False]"
      ]
     },
     "execution_count": 30,
     "metadata": {},
     "output_type": "execute_result"
    }
   ],
   "source": [
    "l1"
   ]
  },
  {
   "cell_type": "code",
   "execution_count": 31,
   "id": "0c13edfe",
   "metadata": {},
   "outputs": [],
   "source": [
    "l1.append('sparta')"
   ]
  },
  {
   "cell_type": "code",
   "execution_count": 32,
   "id": "491e17ce",
   "metadata": {},
   "outputs": [
    {
     "data": {
      "text/plain": [
       "[100, 'sparta', 4.23, False, 'sparta']"
      ]
     },
     "execution_count": 32,
     "metadata": {},
     "output_type": "execute_result"
    }
   ],
   "source": [
    "l1"
   ]
  },
  {
   "cell_type": "code",
   "execution_count": 34,
   "id": "20f71448",
   "metadata": {},
   "outputs": [
    {
     "data": {
      "text/plain": [
       "'sparta'"
      ]
     },
     "execution_count": 34,
     "metadata": {},
     "output_type": "execute_result"
    }
   ],
   "source": [
    "l1.pop()"
   ]
  },
  {
   "cell_type": "code",
   "execution_count": 35,
   "id": "88f9d7c7",
   "metadata": {},
   "outputs": [
    {
     "data": {
      "text/plain": [
       "[100, 'sparta', 4.23, False]"
      ]
     },
     "execution_count": 35,
     "metadata": {},
     "output_type": "execute_result"
    }
   ],
   "source": [
    "l1"
   ]
  },
  {
   "cell_type": "code",
   "execution_count": 40,
   "id": "b44bdbe7",
   "metadata": {},
   "outputs": [
    {
     "data": {
      "text/plain": [
       "[False, 4.23, 'sparta', 100]"
      ]
     },
     "execution_count": 40,
     "metadata": {},
     "output_type": "execute_result"
    }
   ],
   "source": [
    "l1.reverse()\n",
    "l1"
   ]
  },
  {
   "cell_type": "code",
   "execution_count": 41,
   "id": "8be0001c",
   "metadata": {},
   "outputs": [
    {
     "data": {
      "text/plain": [
       "[False, 4.23, 'hello', 'sparta', 100]"
      ]
     },
     "execution_count": 41,
     "metadata": {},
     "output_type": "execute_result"
    }
   ],
   "source": [
    "l1.insert(2,'hello')\n",
    "l1"
   ]
  },
  {
   "cell_type": "code",
   "execution_count": 4,
   "id": "890f1761",
   "metadata": {},
   "outputs": [
    {
     "data": {
      "text/plain": [
       "['a', 'e', 'f', 't', 'w']"
      ]
     },
     "execution_count": 4,
     "metadata": {},
     "output_type": "execute_result"
    }
   ],
   "source": [
    "l2 = ['a','f','e','t','w']\n",
    "l2.sort()\n",
    "l2"
   ]
  },
  {
   "cell_type": "code",
   "execution_count": 46,
   "id": "4cc3d888",
   "metadata": {},
   "outputs": [
    {
     "data": {
      "text/plain": [
       "[False, 4.23, 'hello', 'sparta', 100, 'a', 'e', 'f', 't', 'w']"
      ]
     },
     "execution_count": 46,
     "metadata": {},
     "output_type": "execute_result"
    }
   ],
   "source": [
    "l1+l2"
   ]
  },
  {
   "cell_type": "code",
   "execution_count": 47,
   "id": "0f56fc90",
   "metadata": {},
   "outputs": [
    {
     "data": {
      "text/plain": [
       "['a', 'e', 'f', 't', 'w', 'a', 'e', 'f', 't', 'w']"
      ]
     },
     "execution_count": 47,
     "metadata": {},
     "output_type": "execute_result"
    }
   ],
   "source": [
    "l2*2"
   ]
  },
  {
   "cell_type": "code",
   "execution_count": 5,
   "id": "d87b7208",
   "metadata": {},
   "outputs": [],
   "source": [
    "l2.remove('f')\n"
   ]
  },
  {
   "cell_type": "code",
   "execution_count": 6,
   "id": "2ba5ccb4",
   "metadata": {},
   "outputs": [
    {
     "data": {
      "text/plain": [
       "['a', 'e', 't', 'w']"
      ]
     },
     "execution_count": 6,
     "metadata": {},
     "output_type": "execute_result"
    }
   ],
   "source": [
    "l2"
   ]
  },
  {
   "cell_type": "code",
   "execution_count": 48,
   "id": "5ec2c57d",
   "metadata": {},
   "outputs": [],
   "source": [
    "# DICTIONARY\n",
    "\n",
    "# Dictionary is an unordered collection of key-value pairs enclosed with {}\n",
    "# Dictioinary is mutable"
   ]
  },
  {
   "cell_type": "code",
   "execution_count": 9,
   "id": "f709761e",
   "metadata": {},
   "outputs": [
    {
     "data": {
      "text/plain": [
       "{'apple': 50, 'mango': 100}"
      ]
     },
     "execution_count": 9,
     "metadata": {},
     "output_type": "execute_result"
    }
   ],
   "source": [
    "d1 = {'apple': 50, 'mango': 100}\n",
    "d1"
   ]
  },
  {
   "cell_type": "code",
   "execution_count": 10,
   "id": "ccfb8355",
   "metadata": {},
   "outputs": [
    {
     "data": {
      "text/plain": [
       "dict"
      ]
     },
     "execution_count": 10,
     "metadata": {},
     "output_type": "execute_result"
    }
   ],
   "source": [
    "type(d1)"
   ]
  },
  {
   "cell_type": "code",
   "execution_count": 12,
   "id": "5a474948",
   "metadata": {},
   "outputs": [
    {
     "data": {
      "text/plain": [
       "dict_keys(['apple', 'mango'])"
      ]
     },
     "execution_count": 12,
     "metadata": {},
     "output_type": "execute_result"
    }
   ],
   "source": [
    "# keys\n",
    "\n",
    "d1.keys()"
   ]
  },
  {
   "cell_type": "code",
   "execution_count": 13,
   "id": "41b55f2b",
   "metadata": {},
   "outputs": [
    {
     "data": {
      "text/plain": [
       "dict_values([50, 100])"
      ]
     },
     "execution_count": 13,
     "metadata": {},
     "output_type": "execute_result"
    }
   ],
   "source": [
    "# values\n",
    "\n",
    "d1.values()"
   ]
  },
  {
   "cell_type": "code",
   "execution_count": 14,
   "id": "bcbab837",
   "metadata": {},
   "outputs": [
    {
     "data": {
      "text/plain": [
       "{'apple': 50, 'mango': 100, 'banana': 60}"
      ]
     },
     "execution_count": 14,
     "metadata": {},
     "output_type": "execute_result"
    }
   ],
   "source": [
    "# Adding a new element\n",
    "\n",
    "d1['banana']= 60\n",
    "d1"
   ]
  },
  {
   "cell_type": "code",
   "execution_count": 15,
   "id": "12ae0bb0",
   "metadata": {},
   "outputs": [
    {
     "data": {
      "text/plain": [
       "{'apple': 150, 'mango': 100, 'banana': 60}"
      ]
     },
     "execution_count": 15,
     "metadata": {},
     "output_type": "execute_result"
    }
   ],
   "source": [
    "# Changing an existing element\n",
    "\n",
    "d1 ['apple']= 150\n",
    "d1"
   ]
  },
  {
   "cell_type": "code",
   "execution_count": 17,
   "id": "d666a6ff",
   "metadata": {},
   "outputs": [
    {
     "data": {
      "text/plain": [
       "{'apple': 50, 'mango': 30, 'banana': 40, 'orange': 20}"
      ]
     },
     "execution_count": 17,
     "metadata": {},
     "output_type": "execute_result"
    }
   ],
   "source": [
    "# update one dictionary's elements with another\n",
    "\n",
    "fruit1 = {'apple': 50,'mango':30}\n",
    "fruit2 = {'banana': 40,'orange':20}\n",
    "\n",
    "fruit1.update(fruit2)\n",
    "\n",
    "fruit1"
   ]
  },
  {
   "cell_type": "code",
   "execution_count": 20,
   "id": "dad69a61",
   "metadata": {},
   "outputs": [
    {
     "data": {
      "text/plain": [
       "{'apple': 45, 'grapes': 60, 'kiwi': 50}"
      ]
     },
     "execution_count": 20,
     "metadata": {},
     "output_type": "execute_result"
    }
   ],
   "source": [
    "# poping an element\n",
    "\n",
    "fruit={'apple':45,'mango':30,'grapes':60,'kiwi':50}\n",
    "fruit.pop('mango')\n",
    "fruit"
   ]
  },
  {
   "cell_type": "code",
   "execution_count": 24,
   "id": "9c3d3c18",
   "metadata": {},
   "outputs": [],
   "source": [
    "# SET\n",
    "\n",
    "# Set is an unordered and unindexed collection of elments enclosed with {}"
   ]
  },
  {
   "cell_type": "code",
   "execution_count": 30,
   "id": "f6da4a25",
   "metadata": {},
   "outputs": [
    {
     "data": {
      "text/plain": [
       "{4, 7.5, True, 'a'}"
      ]
     },
     "execution_count": 30,
     "metadata": {},
     "output_type": "execute_result"
    }
   ],
   "source": [
    "s= {4,'a',True,7.5}\n",
    "s"
   ]
  },
  {
   "cell_type": "code",
   "execution_count": 31,
   "id": "b15b2488",
   "metadata": {},
   "outputs": [
    {
     "data": {
      "text/plain": [
       "set"
      ]
     },
     "execution_count": 31,
     "metadata": {},
     "output_type": "execute_result"
    }
   ],
   "source": [
    "type(s)"
   ]
  },
  {
   "cell_type": "code",
   "execution_count": 33,
   "id": "db25a5a9",
   "metadata": {},
   "outputs": [
    {
     "data": {
      "text/plain": [
       "{34, 7.6, 'hello'}"
      ]
     },
     "execution_count": 33,
     "metadata": {},
     "output_type": "execute_result"
    }
   ],
   "source": [
    "# Duplicates are not allwed in set\n",
    "\n",
    "s= {34,'hello',7.6,34}\n",
    "s"
   ]
  },
  {
   "cell_type": "code",
   "execution_count": 34,
   "id": "339ffbbf",
   "metadata": {},
   "outputs": [
    {
     "data": {
      "text/plain": [
       "{23, 8.9, False, True, 'hello'}"
      ]
     },
     "execution_count": 34,
     "metadata": {},
     "output_type": "execute_result"
    }
   ],
   "source": [
    "# add new elements with set\n",
    "\n",
    "s1 = {23,'hello',True,8.9}\n",
    "s1.add(False)\n",
    "s1"
   ]
  },
  {
   "cell_type": "code",
   "execution_count": 35,
   "id": "14a21b22",
   "metadata": {},
   "outputs": [
    {
     "data": {
      "text/plain": [
       "{23, 34, 65, 8.9, 'Dimple', False, True, 'hello'}"
      ]
     },
     "execution_count": 35,
     "metadata": {},
     "output_type": "execute_result"
    }
   ],
   "source": [
    "# update multiple elements\n",
    "\n",
    "s1.update([34,65,'Dimple'])\n",
    "s1"
   ]
  },
  {
   "cell_type": "code",
   "execution_count": 36,
   "id": "159405c1",
   "metadata": {},
   "outputs": [
    {
     "data": {
      "text/plain": [
       "{23, 34, 65, 8.9, 'Dimple', False, 'hello'}"
      ]
     },
     "execution_count": 36,
     "metadata": {},
     "output_type": "execute_result"
    }
   ],
   "source": [
    "# removing an element\n",
    "\n",
    "s1.remove(True)\n",
    "s1"
   ]
  },
  {
   "cell_type": "code",
   "execution_count": 37,
   "id": "c56578b4",
   "metadata": {},
   "outputs": [
    {
     "data": {
      "text/plain": [
       "{1, 2, 4, 'a', 'b', 'c'}"
      ]
     },
     "execution_count": 37,
     "metadata": {},
     "output_type": "execute_result"
    }
   ],
   "source": [
    "# union of two sets\n",
    "\n",
    "s1 = {1,2,4}\n",
    "s2 = {'a','b','c'}\n",
    "\n",
    "s1.union(s2)"
   ]
  },
  {
   "cell_type": "code",
   "execution_count": 38,
   "id": "49c38670",
   "metadata": {},
   "outputs": [
    {
     "data": {
      "text/plain": [
       "{3, 5}"
      ]
     },
     "execution_count": 38,
     "metadata": {},
     "output_type": "execute_result"
    }
   ],
   "source": [
    "# intersection of two sets\n",
    "\n",
    "s1= {3,6,2,5,9}\n",
    "s2= {4,8,3,5,7}\n",
    "\n",
    "s1.intersection(s2)"
   ]
  },
  {
   "cell_type": "code",
   "execution_count": null,
   "id": "d4c8c980",
   "metadata": {},
   "outputs": [],
   "source": []
  }
 ],
 "metadata": {
  "kernelspec": {
   "display_name": "Python 3 (ipykernel)",
   "language": "python",
   "name": "python3"
  },
  "language_info": {
   "codemirror_mode": {
    "name": "ipython",
    "version": 3
   },
   "file_extension": ".py",
   "mimetype": "text/x-python",
   "name": "python",
   "nbconvert_exporter": "python",
   "pygments_lexer": "ipython3",
   "version": "3.9.7"
  }
 },
 "nbformat": 4,
 "nbformat_minor": 5
}
