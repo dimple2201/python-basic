{
 "cells": [
  {
   "cell_type": "code",
   "execution_count": 1,
   "id": "6a27b235",
   "metadata": {},
   "outputs": [],
   "source": [
    "# looping statements are used to repeat a task multiple times.\n",
    "\n",
    "# There are two types of Python-\n",
    "# a. for loop\n",
    "# b. while loop"
   ]
  },
  {
   "cell_type": "code",
   "execution_count": 2,
   "id": "ad557986",
   "metadata": {},
   "outputs": [
    {
     "name": "stdout",
     "output_type": "stream",
     "text": [
      "0\n",
      "1\n",
      "2\n",
      "3\n",
      "4\n",
      "5\n",
      "6\n",
      "7\n",
      "8\n",
      "9\n"
     ]
    }
   ],
   "source": [
    "# for loop: for loop is used to iterate over a sequence (tuple,list,dictionary..)\n",
    "#syntax for for loop-\n",
    "\n",
    "# for i in range()\n",
    "\n",
    "# code----->\n",
    "\n",
    "for x in range(10):\n",
    "    print(x)"
   ]
  },
  {
   "cell_type": "code",
   "execution_count": 3,
   "id": "50dfde3c",
   "metadata": {},
   "outputs": [
    {
     "name": "stdout",
     "output_type": "stream",
     "text": [
      "2\n",
      "3\n",
      "4\n",
      "5\n",
      "6\n",
      "7\n",
      "8\n",
      "9\n"
     ]
    }
   ],
   "source": [
    "for i in range(2,10):\n",
    "    print(i)"
   ]
  },
  {
   "cell_type": "code",
   "execution_count": 4,
   "id": "fadcc7a1",
   "metadata": {},
   "outputs": [
    {
     "name": "stdout",
     "output_type": "stream",
     "text": [
      "3\n",
      "4\n",
      "5\n",
      "6\n",
      "7\n",
      "8\n",
      "9\n",
      "10\n",
      "11\n",
      "12\n",
      "13\n",
      "14\n"
     ]
    }
   ],
   "source": [
    "for i in range(3,15):\n",
    "    print(i)"
   ]
  },
  {
   "cell_type": "code",
   "execution_count": 5,
   "id": "f895d669",
   "metadata": {},
   "outputs": [
    {
     "name": "stdout",
     "output_type": "stream",
     "text": [
      "1\n",
      "4\n",
      "7\n"
     ]
    }
   ],
   "source": [
    "# step size also use n-1 concept.\n",
    "\n",
    "for i in range(1,10,3):\n",
    "    print(i)"
   ]
  },
  {
   "cell_type": "code",
   "execution_count": 6,
   "id": "b2949a7c",
   "metadata": {},
   "outputs": [
    {
     "name": "stdout",
     "output_type": "stream",
     "text": [
      "2\n",
      "4\n",
      "6\n",
      "8\n",
      "10\n",
      "12\n",
      "14\n",
      "16\n",
      "18\n"
     ]
    }
   ],
   "source": [
    "for i in range(2,20,2):\n",
    "    print(i)"
   ]
  },
  {
   "cell_type": "code",
   "execution_count": 7,
   "id": "6fcbbbdb",
   "metadata": {},
   "outputs": [
    {
     "name": "stdout",
     "output_type": "stream",
     "text": [
      "20\n",
      "19\n",
      "18\n",
      "17\n",
      "16\n",
      "15\n",
      "14\n",
      "13\n",
      "12\n",
      "11\n",
      "10\n",
      "9\n",
      "8\n",
      "7\n",
      "6\n",
      "5\n",
      "4\n",
      "3\n"
     ]
    }
   ],
   "source": [
    "# range(starting point, ending point(n-1), step value(n-1))\n",
    "\n",
    "for i in range(20,2,-1):\n",
    "    print(i)"
   ]
  },
  {
   "cell_type": "code",
   "execution_count": 8,
   "id": "99080e75",
   "metadata": {},
   "outputs": [
    {
     "name": "stdout",
     "output_type": "stream",
     "text": [
      "1\n",
      "2\n",
      "3\n",
      "4\n",
      "5\n",
      "6\n",
      "7\n",
      "8\n",
      "9\n",
      "10\n"
     ]
    }
   ],
   "source": [
    "# wap to print 10 natural no. using loop.\n",
    "\n",
    "for i in range(1,11):\n",
    "    print(i)"
   ]
  },
  {
   "cell_type": "code",
   "execution_count": 9,
   "id": "15c96aea",
   "metadata": {},
   "outputs": [
    {
     "name": "stdout",
     "output_type": "stream",
     "text": [
      "-10\n",
      "-9\n",
      "-8\n",
      "-7\n",
      "-6\n",
      "-5\n",
      "-4\n",
      "-3\n",
      "-2\n",
      "-1\n",
      "0\n",
      "1\n",
      "2\n",
      "3\n",
      "4\n",
      "5\n",
      "6\n",
      "7\n",
      "8\n",
      "9\n",
      "10\n"
     ]
    }
   ],
   "source": [
    "# wap to print no. from -10 to 10 using loop.\n",
    "\n",
    "for i in range(-10,11):\n",
    "    print(i)"
   ]
  },
  {
   "cell_type": "code",
   "execution_count": 10,
   "id": "4f53d260",
   "metadata": {},
   "outputs": [
    {
     "name": "stdout",
     "output_type": "stream",
     "text": [
      "1\n",
      "2\n",
      "3\n",
      "4\n",
      "5\n",
      "6\n",
      "7\n",
      "8\n",
      "9\n",
      "10\n"
     ]
    }
   ],
   "source": [
    "# while loop:\n",
    "#syntax for while loop-\n",
    "#  while condition:\n",
    "#         execute statements\n",
    "\n",
    "# 1. initialization-----> from where to start\n",
    "# 2. condition\n",
    "# 3. increament/decreament\n",
    "\n",
    "# wap to print 1-10.\n",
    "\n",
    "x = 1\n",
    "while x<11:\n",
    "    # x<=10:\n",
    "    print(x)\n",
    "   # x=x+1\n",
    "    x+=1"
   ]
  },
  {
   "cell_type": "code",
   "execution_count": 11,
   "id": "c0c8e75a",
   "metadata": {},
   "outputs": [
    {
     "name": "stdout",
     "output_type": "stream",
     "text": [
      "odd number 1\n",
      "even number 2\n",
      "odd number 3\n",
      "even number 4\n",
      "odd number 5\n",
      "even number 6\n",
      "odd number 7\n",
      "even number 8\n",
      "odd number 9\n",
      "even number 10\n"
     ]
    }
   ],
   "source": [
    "# wap to find odd & even number from 1-20 using while loop.\n",
    "\n",
    "x = 1\n",
    "while x <= 10:\n",
    "    if x % 2 == 0:\n",
    "        print('even number',x)\n",
    "    else:\n",
    "        print('odd number',x)\n",
    "    x=x+1   "
   ]
  },
  {
   "cell_type": "code",
   "execution_count": 12,
   "id": "ea6c7fef",
   "metadata": {},
   "outputs": [
    {
     "name": "stdout",
     "output_type": "stream",
     "text": [
      "odd number 1\n",
      "even number 2\n",
      "odd number 3\n",
      "even number 4\n",
      "odd number 5\n",
      "even number 6\n",
      "odd number 7\n",
      "even number 8\n",
      "odd number 9\n",
      "even number 10\n"
     ]
    }
   ],
   "source": [
    "x = 1\n",
    "while x <= 10:\n",
    "    if x % 2!= 0:\n",
    "        print('odd number',x)\n",
    "    else:\n",
    "        print('even number',x)\n",
    "    x=x+1   "
   ]
  },
  {
   "cell_type": "code",
   "execution_count": 13,
   "id": "b04e0b52",
   "metadata": {},
   "outputs": [
    {
     "name": "stdout",
     "output_type": "stream",
     "text": [
      "6\n"
     ]
    }
   ],
   "source": [
    "# wap to count total number in a digit?\n",
    "\n",
    "n=523672\n",
    "count = 0\n",
    "while n>0:\n",
    "    count = count + 1\n",
    "    n=n//10\n",
    "print(count)\n",
    "\n"
   ]
  },
  {
   "cell_type": "raw",
   "id": "8e3d48b7",
   "metadata": {},
   "source": [
    "\n",
    "        \n",
    "\n"
   ]
  },
  {
   "cell_type": "code",
   "execution_count": 14,
   "id": "ddd6a131",
   "metadata": {},
   "outputs": [
    {
     "name": "stdout",
     "output_type": "stream",
     "text": [
      "not prime\n"
     ]
    }
   ],
   "source": [
    "# wap to find a no. prime no. or not?\n",
    "\n",
    "x = 31\n",
    "n = 0\n",
    "for i in range(1,x+1):\n",
    "    n = n+i\n",
    "if n == x+1:\n",
    "    print('prime number')\n",
    "else:\n",
    "    print('not prime')"
   ]
  },
  {
   "cell_type": "code",
   "execution_count": 15,
   "id": "824aea75",
   "metadata": {},
   "outputs": [
    {
     "name": "stdout",
     "output_type": "stream",
     "text": [
      "palindrome\n"
     ]
    }
   ],
   "source": [
    "# wap to find a string is palindrome or not?\n",
    "\n",
    "a = 'nitin'\n",
    "b = ''\n",
    "for i in a:\n",
    "    b = i+b\n",
    "if a==b:\n",
    "    \n",
    "    print('palindrome')\n",
    "else:\n",
    "    print('not palindrome')"
   ]
  },
  {
   "cell_type": "code",
   "execution_count": 16,
   "id": "3fc0ee9f",
   "metadata": {},
   "outputs": [
    {
     "name": "stdout",
     "output_type": "stream",
     "text": [
      "enter a number25\n",
      "2\n"
     ]
    }
   ],
   "source": [
    "n= int(input('enter a number'))\n",
    "count = 0\n",
    "\n",
    "while n>0:\n",
    "    count = count + 1\n",
    "    n=n//10\n",
    "print(count)\n",
    "\n"
   ]
  },
  {
   "cell_type": "code",
   "execution_count": 17,
   "id": "dc1680fa",
   "metadata": {},
   "outputs": [
    {
     "name": "stdout",
     "output_type": "stream",
     "text": [
      "1\n",
      "2\n",
      "3\n",
      "4\n",
      "5\n",
      "6\n"
     ]
    }
   ],
   "source": [
    "n=384785\n",
    "count = 0\n",
    "\n",
    "while n>0:\n",
    "    count= count+1\n",
    "    n=n//10\n",
    "    print(count)        "
   ]
  },
  {
   "cell_type": "code",
   "execution_count": 18,
   "id": "6b24597c",
   "metadata": {},
   "outputs": [
    {
     "name": "stdout",
     "output_type": "stream",
     "text": [
      "7\n",
      "74\n",
      "748\n",
      "7489\n",
      "74893\n"
     ]
    }
   ],
   "source": [
    "# wap to reverse a number?\n",
    "\n",
    "a = 39847\n",
    "reverse_num = 0\n",
    "\n",
    "while a > 0:\n",
    "    digit = a % 10\n",
    "    reverse_num = reverse_num *10 +digit\n",
    "    a = a//10\n",
    "    \n",
    "    print(reverse_num)"
   ]
  },
  {
   "cell_type": "code",
   "execution_count": 19,
   "id": "b05c4779",
   "metadata": {},
   "outputs": [
    {
     "name": "stdout",
     "output_type": "stream",
     "text": [
      "74893\n"
     ]
    }
   ],
   "source": [
    "a = 39847\n",
    "reverse_num = 0\n",
    "\n",
    "while a > 0:\n",
    "    digit = a % 10\n",
    "    reverse_num = reverse_num *10 +digit\n",
    "    a = a//10\n",
    "    \n",
    "print(reverse_num)"
   ]
  },
  {
   "cell_type": "code",
   "execution_count": 20,
   "id": "2eaa58f6",
   "metadata": {},
   "outputs": [],
   "source": [
    "# while with list\n",
    "\n",
    "l1=[1,2,3,4,5]\n"
   ]
  },
  {
   "cell_type": "code",
   "execution_count": 21,
   "id": "762c5ba7",
   "metadata": {},
   "outputs": [],
   "source": [
    "i=0"
   ]
  },
  {
   "cell_type": "code",
   "execution_count": 22,
   "id": "074cdb1c",
   "metadata": {},
   "outputs": [
    {
     "name": "stdout",
     "output_type": "stream",
     "text": [
      "enter a number25\n",
      "prime number\n"
     ]
    }
   ],
   "source": [
    "a= int(input('enter a number'))\n",
    "\n",
    "if a // 1 and a // a:\n",
    "    print('prime number')\n",
    "else:\n",
    "    print('not prime')"
   ]
  },
  {
   "cell_type": "code",
   "execution_count": 23,
   "id": "08185096",
   "metadata": {},
   "outputs": [
    {
     "name": "stdout",
     "output_type": "stream",
     "text": [
      "7 * 1 = 7\n",
      "7 * 2 = 14\n",
      "7 * 3 = 21\n",
      "7 * 4 = 28\n",
      "7 * 5 = 35\n",
      "7 * 6 = 42\n",
      "7 * 7 = 49\n",
      "7 * 8 = 56\n",
      "7 * 9 = 63\n",
      "7 * 10 = 70\n"
     ]
    }
   ],
   "source": [
    "# wap to table of 7.\n",
    "i=1\n",
    "n=7\n",
    "while i<=10:\n",
    "    print(n, '*',i,'=',n*i)\n",
    "    i=i+1"
   ]
  },
  {
   "cell_type": "code",
   "execution_count": 24,
   "id": "d83dfa40",
   "metadata": {},
   "outputs": [
    {
     "name": "stdout",
     "output_type": "stream",
     "text": [
      "7\n",
      "14\n",
      "21\n",
      "28\n",
      "35\n",
      "42\n",
      "49\n",
      "56\n",
      "63\n",
      "70\n"
     ]
    }
   ],
   "source": [
    "i=1\n",
    "n=7\n",
    "while i<=10:\n",
    "    print(n*i)\n",
    "    i=i+1"
   ]
  },
  {
   "cell_type": "code",
   "execution_count": 25,
   "id": "e175ac82",
   "metadata": {},
   "outputs": [
    {
     "name": "stdout",
     "output_type": "stream",
     "text": [
      "odd number 1\n",
      "even number 2\n",
      "odd number 3\n",
      "even number 4\n",
      "odd number 5\n",
      "even number 6\n",
      "odd number 7\n",
      "even number 8\n",
      "odd number 9\n",
      "even number 10\n",
      "odd number 11\n",
      "even number 12\n",
      "odd number 13\n",
      "even number 14\n",
      "odd number 15\n",
      "even number 16\n",
      "odd number 17\n",
      "even number 18\n",
      "odd number 19\n",
      "even number 20\n"
     ]
    }
   ],
   "source": [
    "# wap to find odd & even no. form 1-20 using while loop.\n",
    "\n",
    "i=1\n",
    "while i<=20:\n",
    "    if i%2 == 0:\n",
    "        print('even number',i)\n",
    "    else:\n",
    "        print('odd number',i)\n",
    "    i=i+1"
   ]
  },
  {
   "cell_type": "code",
   "execution_count": 26,
   "id": "a4e8c791",
   "metadata": {},
   "outputs": [
    {
     "name": "stdout",
     "output_type": "stream",
     "text": [
      "mango\n",
      "pink\n"
     ]
    }
   ],
   "source": [
    "l1=['mango','pink']\n",
    "for i in l1:\n",
    "    print(i)"
   ]
  },
  {
   "cell_type": "code",
   "execution_count": 27,
   "id": "031722f1",
   "metadata": {},
   "outputs": [
    {
     "name": "stdout",
     "output_type": "stream",
     "text": [
      "x\r\n",
      "xx\r\n",
      "xxx\r\n",
      "xxxx\r\n",
      "xxxxx\r\n"
     ]
    }
   ],
   "source": [
    "for i in range(0,5):\n",
    "    for j in range(0,i+1):\n",
    "        print('x',end='')\n",
    "    print('\\r')"
   ]
  },
  {
   "cell_type": "code",
   "execution_count": 28,
   "id": "2c7630c2",
   "metadata": {},
   "outputs": [
    {
     "name": "stdout",
     "output_type": "stream",
     "text": [
      "1\r\n",
      "23\r\n",
      "456\r\n",
      "78910\r\n",
      "1112131415\r\n"
     ]
    }
   ],
   "source": [
    "x=1\n",
    "for i in range(0,5):\n",
    "    for j in range(0,i+1):\n",
    "        print(x,end='')\n",
    "        x=x+1\n",
    "    print('\\r')"
   ]
  },
  {
   "cell_type": "code",
   "execution_count": null,
   "id": "03aaeac4",
   "metadata": {},
   "outputs": [],
   "source": []
  },
  {
   "cell_type": "code",
   "execution_count": null,
   "id": "7f3f7eaa",
   "metadata": {},
   "outputs": [],
   "source": []
  }
 ],
 "metadata": {
  "kernelspec": {
   "display_name": "Python 3 (ipykernel)",
   "language": "python",
   "name": "python3"
  },
  "language_info": {
   "codemirror_mode": {
    "name": "ipython",
    "version": 3
   },
   "file_extension": ".py",
   "mimetype": "text/x-python",
   "name": "python",
   "nbconvert_exporter": "python",
   "pygments_lexer": "ipython3",
   "version": "3.9.7"
  }
 },
 "nbformat": 4,
 "nbformat_minor": 5
}
