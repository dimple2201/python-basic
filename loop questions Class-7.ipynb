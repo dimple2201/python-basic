{
 "cells": [
  {
   "cell_type": "code",
   "execution_count": 1,
   "id": "31e6e67c",
   "metadata": {},
   "outputs": [
    {
     "name": "stdout",
     "output_type": "stream",
     "text": [
      "not divisible\n"
     ]
    }
   ],
   "source": [
    "# wap to find number which is not only divisible by both 6 & 2 but also by 5.\n",
    "\n",
    "a = 78\n",
    "if a% 5 == 0 and a% 2 == 0 and a% 6 == 0:\n",
    "    print('Divisible')\n",
    "else:\n",
    "    print('not divisible')"
   ]
  },
  {
   "cell_type": "code",
   "execution_count": 15,
   "id": "db820eea",
   "metadata": {},
   "outputs": [
    {
     "name": "stdout",
     "output_type": "stream",
     "text": [
      "not prime\n"
     ]
    }
   ],
   "source": [
    "a= 22\n",
    "\n",
    "if a% 1 and a% a:\n",
    "    print('prime no.')\n",
    "else:\n",
    "    print('not prime')"
   ]
  },
  {
   "cell_type": "code",
   "execution_count": 3,
   "id": "f30ddf54",
   "metadata": {},
   "outputs": [
    {
     "name": "stdout",
     "output_type": "stream",
     "text": [
      "enter a number542\n",
      "prime no.\n"
     ]
    }
   ],
   "source": [
    "a = int(input('enter a number'))\n",
    "\n",
    "if a// 2 and a//a:\n",
    "    print('prime no.')\n",
    "else:\n",
    "    print('not prime')"
   ]
  },
  {
   "cell_type": "code",
   "execution_count": 4,
   "id": "d411d763",
   "metadata": {},
   "outputs": [
    {
     "name": "stdout",
     "output_type": "stream",
     "text": [
      "not prime\n"
     ]
    }
   ],
   "source": [
    "# wap to find a no. prime no. or not?\n",
    "\n",
    "x = 12\n",
    "n = 0\n",
    "for i in range(1,x+1):\n",
    "    if x % i == 0:\n",
    "        n = n+i\n",
    "if n == x+1:\n",
    "    print('prime no.')\n",
    "else:\n",
    "    print('not prime')\n",
    "        "
   ]
  },
  {
   "cell_type": "code",
   "execution_count": 5,
   "id": "f3abc03f",
   "metadata": {},
   "outputs": [
    {
     "name": "stdout",
     "output_type": "stream",
     "text": [
      "prime no.\n"
     ]
    }
   ],
   "source": [
    "x = 37\n",
    "n = 0\n",
    "for i in range(1,x+1):\n",
    "     if x % i == 0:\n",
    "        n = n+i\n",
    "if n == x+1:\n",
    "    print('prime no.')\n",
    "else:\n",
    "    print('not prime')\n",
    "        "
   ]
  },
  {
   "cell_type": "code",
   "execution_count": 6,
   "id": "aa61f498",
   "metadata": {},
   "outputs": [
    {
     "name": "stdout",
     "output_type": "stream",
     "text": [
      "not palindrome\n"
     ]
    }
   ],
   "source": [
    "# wap to find a string is palindrome or not?\n",
    "\n",
    "a = 'hello'\n",
    "b =  ''\n",
    "for i in a:\n",
    "    b = i+b\n",
    "if a == b:\n",
    "    print('palindrome')\n",
    "else:\n",
    "        print('not palindrome')"
   ]
  },
  {
   "cell_type": "code",
   "execution_count": 7,
   "id": "2e7d3c02",
   "metadata": {},
   "outputs": [
    {
     "name": "stdout",
     "output_type": "stream",
     "text": [
      "not prime\n"
     ]
    }
   ],
   "source": [
    "x= 34\n",
    "n = 0\n",
    "for i in range(1,x+1):\n",
    "    if x%i==0:\n",
    "        n+=1\n",
    "if n== x+1:\n",
    "    print('prime no.')\n",
    "else:\n",
    "    print('not prime')\n",
    "    \n",
    "\n",
    "\n"
   ]
  },
  {
   "cell_type": "code",
   "execution_count": 8,
   "id": "e2cecbb0",
   "metadata": {},
   "outputs": [
    {
     "name": "stdout",
     "output_type": "stream",
     "text": [
      "not palindrome\n"
     ]
    }
   ],
   "source": [
    "a='dimple'\n",
    "b=''\n",
    "for i in a:\n",
    "    b=i+b\n",
    "if a==b:\n",
    "    print('palindrome')\n",
    "else:\n",
    "    print('not palindrome')"
   ]
  },
  {
   "cell_type": "code",
   "execution_count": 9,
   "id": "4ca11a5c",
   "metadata": {},
   "outputs": [
    {
     "name": "stdout",
     "output_type": "stream",
     "text": [
      "enter a number14\n",
      "prime no.\n"
     ]
    }
   ],
   "source": [
    "a = int(input('enter a number'))\n",
    "\n",
    "if a// 2 and a//a:\n",
    "    print('prime no.')\n",
    "else:\n",
    "    print('not prime')"
   ]
  },
  {
   "cell_type": "code",
   "execution_count": 10,
   "id": "fb4a45f8",
   "metadata": {},
   "outputs": [
    {
     "name": "stdout",
     "output_type": "stream",
     "text": [
      "5\n"
     ]
    }
   ],
   "source": [
    "# wap to count total number in a digit?\n",
    "\n",
    "n=45632\n",
    "count=0\n",
    "while n>0:\n",
    "        n=n//10\n",
    "        count=count+1\n",
    "    \n",
    "print(count)\n",
    "    \n",
    "    \n"
   ]
  },
  {
   "cell_type": "code",
   "execution_count": 11,
   "id": "383d97ee",
   "metadata": {},
   "outputs": [
    {
     "name": "stdout",
     "output_type": "stream",
     "text": [
      "8\n"
     ]
    }
   ],
   "source": [
    "n=45632342\n",
    "count=0\n",
    "while n>0:\n",
    "    n=n//10\n",
    "    count= count+1\n",
    "print(count)"
   ]
  },
  {
   "cell_type": "code",
   "execution_count": 12,
   "id": "b734442d",
   "metadata": {},
   "outputs": [
    {
     "name": "stdout",
     "output_type": "stream",
     "text": [
      "enter a number2561684\n",
      "7\n"
     ]
    }
   ],
   "source": [
    "n= int(input('enter a number'))\n",
    "count=0\n",
    "while n>0:\n",
    "    n=n//10\n",
    "    count=count+1\n",
    "    \n",
    "print(count)\n"
   ]
  },
  {
   "cell_type": "code",
   "execution_count": 13,
   "id": "4259ba02",
   "metadata": {},
   "outputs": [
    {
     "name": "stdout",
     "output_type": "stream",
     "text": [
      "4\n",
      "42\n",
      "425\n",
      "4251\n"
     ]
    }
   ],
   "source": [
    "# wap to reverse a number?\n",
    "\n",
    "n=1524\n",
    "reverse=0\n",
    "\n",
    "while n>0:\n",
    "    digit= n%10\n",
    "    reverse=reverse*10+digit\n",
    "    n=n//10\n",
    "    print(reverse)\n",
    "    \n",
    "\n"
   ]
  },
  {
   "cell_type": "code",
   "execution_count": 14,
   "id": "0487965e",
   "metadata": {},
   "outputs": [
    {
     "name": "stdout",
     "output_type": "stream",
     "text": [
      "1\n"
     ]
    }
   ],
   "source": [
    "n=100000\n",
    "reverse=0\n",
    "\n",
    "while n>0:\n",
    "    digit= n%10\n",
    "    reverse=reverse*10+digit\n",
    "    n=n//10\n",
    "print(reverse)\n",
    "    \n",
    "    \n",
    "\n"
   ]
  },
  {
   "cell_type": "code",
   "execution_count": 20,
   "id": "5ba0c72a",
   "metadata": {},
   "outputs": [
    {
     "name": "stdout",
     "output_type": "stream",
     "text": [
      "not prime\n"
     ]
    }
   ],
   "source": [
    "# wap to find prime no.\n",
    "\n",
    "a=22\n",
    "n=0\n",
    "for i in range(1,a+1):\n",
    "    if a % i==0:\n",
    "        n=n+i\n",
    "if n==a+1: \n",
    "        print('prime')\n",
    "else:\n",
    "        print('not prime')\n",
    "        \n",
    "    \n",
    "\n"
   ]
  },
  {
   "cell_type": "code",
   "execution_count": 22,
   "id": "c7cd26df",
   "metadata": {},
   "outputs": [
    {
     "name": "stdout",
     "output_type": "stream",
     "text": [
      "musmid\n"
     ]
    }
   ],
   "source": [
    "# wap to find a string is palindrome or not.\n",
    "\n",
    "a='dimsum'\n",
    "rev = ''\n",
    "for i in a:\n",
    "    rev =i+rev\n",
    "print(rev)"
   ]
  },
  {
   "cell_type": "code",
   "execution_count": 24,
   "id": "65565f51",
   "metadata": {},
   "outputs": [
    {
     "name": "stdout",
     "output_type": "stream",
     "text": [
      "palindrome\n"
     ]
    }
   ],
   "source": [
    "a='nitin'\n",
    "b=''\n",
    "for i in a:\n",
    "    b=i+b\n",
    "if a==b:\n",
    "    print('palindrome')\n",
    "else:\n",
    "    print('not palindrome')"
   ]
  },
  {
   "cell_type": "code",
   "execution_count": null,
   "id": "f10651c0",
   "metadata": {},
   "outputs": [],
   "source": []
  }
 ],
 "metadata": {
  "kernelspec": {
   "display_name": "Python 3 (ipykernel)",
   "language": "python",
   "name": "python3"
  },
  "language_info": {
   "codemirror_mode": {
    "name": "ipython",
    "version": 3
   },
   "file_extension": ".py",
   "mimetype": "text/x-python",
   "name": "python",
   "nbconvert_exporter": "python",
   "pygments_lexer": "ipython3",
   "version": "3.9.7"
  }
 },
 "nbformat": 4,
 "nbformat_minor": 5
}
