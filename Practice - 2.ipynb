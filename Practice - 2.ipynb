{
 "cells": [
  {
   "cell_type": "code",
   "execution_count": 1,
   "id": "b72b2e74",
   "metadata": {},
   "outputs": [
    {
     "name": "stdout",
     "output_type": "stream",
     "text": [
      "[34, 5, 66, 7, 53, 74, 77, 43]\n"
     ]
    }
   ],
   "source": [
    "# list\n",
    "\n",
    "a= [34,5,66,7,53,74,77,43]\n",
    "print(a)"
   ]
  },
  {
   "cell_type": "code",
   "execution_count": 2,
   "id": "b35a8cfe",
   "metadata": {},
   "outputs": [
    {
     "data": {
      "text/plain": [
       "list"
      ]
     },
     "execution_count": 2,
     "metadata": {},
     "output_type": "execute_result"
    }
   ],
   "source": [
    "type(a)"
   ]
  },
  {
   "cell_type": "code",
   "execution_count": 3,
   "id": "acbbcb34",
   "metadata": {},
   "outputs": [
    {
     "data": {
      "text/plain": [
       "['hello', 34, 52.44, (3+8j), 'hey']"
      ]
     },
     "execution_count": 3,
     "metadata": {},
     "output_type": "execute_result"
    }
   ],
   "source": [
    "a= ['hello',34,52.44,3+8j,'hey']\n",
    "a"
   ]
  },
  {
   "cell_type": "code",
   "execution_count": 4,
   "id": "f5f0eeb6",
   "metadata": {},
   "outputs": [
    {
     "data": {
      "text/plain": [
       "list"
      ]
     },
     "execution_count": 4,
     "metadata": {},
     "output_type": "execute_result"
    }
   ],
   "source": [
    "type(a)"
   ]
  },
  {
   "cell_type": "code",
   "execution_count": 5,
   "id": "9edc0261",
   "metadata": {},
   "outputs": [
    {
     "data": {
      "text/plain": [
       "['hello', 34, 52.44, (3+8j), 'hey']"
      ]
     },
     "execution_count": 5,
     "metadata": {},
     "output_type": "execute_result"
    }
   ],
   "source": [
    "# Slicing and indexing\n",
    "\n",
    "a"
   ]
  },
  {
   "cell_type": "code",
   "execution_count": 6,
   "id": "b826979f",
   "metadata": {},
   "outputs": [
    {
     "data": {
      "text/plain": [
       "(3+8j)"
      ]
     },
     "execution_count": 6,
     "metadata": {},
     "output_type": "execute_result"
    }
   ],
   "source": [
    "a[3]"
   ]
  },
  {
   "cell_type": "code",
   "execution_count": 7,
   "id": "47f6899a",
   "metadata": {},
   "outputs": [
    {
     "data": {
      "text/plain": [
       "'hello'"
      ]
     },
     "execution_count": 7,
     "metadata": {},
     "output_type": "execute_result"
    }
   ],
   "source": [
    "a[0]"
   ]
  },
  {
   "cell_type": "code",
   "execution_count": 11,
   "id": "aaa628f7",
   "metadata": {},
   "outputs": [
    {
     "data": {
      "text/plain": [
       "[52.44, (3+8j), 'hey']"
      ]
     },
     "execution_count": 11,
     "metadata": {},
     "output_type": "execute_result"
    }
   ],
   "source": [
    "a[2:5]"
   ]
  },
  {
   "cell_type": "code",
   "execution_count": 12,
   "id": "a7bb8a97",
   "metadata": {},
   "outputs": [
    {
     "data": {
      "text/plain": [
       "['hello', 34, 52.44, (3+8j), 'hey']"
      ]
     },
     "execution_count": 12,
     "metadata": {},
     "output_type": "execute_result"
    }
   ],
   "source": [
    "a[:]"
   ]
  },
  {
   "cell_type": "code",
   "execution_count": 15,
   "id": "97274fb0",
   "metadata": {},
   "outputs": [
    {
     "data": {
      "text/plain": [
       "['hey', (3+8j), 52.44, 34]"
      ]
     },
     "execution_count": 15,
     "metadata": {},
     "output_type": "execute_result"
    }
   ],
   "source": [
    "a[5:0:-1]"
   ]
  },
  {
   "cell_type": "code",
   "execution_count": 16,
   "id": "3d567c40",
   "metadata": {},
   "outputs": [
    {
     "data": {
      "text/plain": [
       "['hey', (3+8j), 52.44, 34, 'hello']"
      ]
     },
     "execution_count": 16,
     "metadata": {},
     "output_type": "execute_result"
    }
   ],
   "source": [
    "a[::-1]"
   ]
  },
  {
   "cell_type": "code",
   "execution_count": 18,
   "id": "86eb5185",
   "metadata": {},
   "outputs": [
    {
     "data": {
      "text/plain": [
       "'hey'"
      ]
     },
     "execution_count": 18,
     "metadata": {},
     "output_type": "execute_result"
    }
   ],
   "source": [
    "a[-1]"
   ]
  },
  {
   "cell_type": "code",
   "execution_count": 19,
   "id": "f5a16888",
   "metadata": {},
   "outputs": [
    {
     "data": {
      "text/plain": [
       "['hello', 34, 52.44, (3+8j), 'hey']"
      ]
     },
     "execution_count": 19,
     "metadata": {},
     "output_type": "execute_result"
    }
   ],
   "source": [
    "# mutable----> list is mutable\n",
    "a"
   ]
  },
  {
   "cell_type": "code",
   "execution_count": 21,
   "id": "f5c34ec2",
   "metadata": {},
   "outputs": [],
   "source": [
    "a[-2]='hii'"
   ]
  },
  {
   "cell_type": "code",
   "execution_count": 22,
   "id": "951ca308",
   "metadata": {},
   "outputs": [
    {
     "data": {
      "text/plain": [
       "['hello', 34, 52.44, 'hii', 'hey']"
      ]
     },
     "execution_count": 22,
     "metadata": {},
     "output_type": "execute_result"
    }
   ],
   "source": [
    "a"
   ]
  },
  {
   "cell_type": "code",
   "execution_count": 27,
   "id": "ca33de63",
   "metadata": {},
   "outputs": [
    {
     "data": {
      "text/plain": [
       "['delhi', 'mumbai', 'chennai', 'osolo', 'new york', 'gurugram']"
      ]
     },
     "execution_count": 27,
     "metadata": {},
     "output_type": "execute_result"
    }
   ],
   "source": [
    "x=['delhi','mumbai','chennai','osolo','new york','gurugram']\n",
    "x"
   ]
  },
  {
   "cell_type": "code",
   "execution_count": 29,
   "id": "66963f2f",
   "metadata": {},
   "outputs": [],
   "source": [
    "x[2]='Bengaluru'"
   ]
  },
  {
   "cell_type": "code",
   "execution_count": 30,
   "id": "5415167d",
   "metadata": {},
   "outputs": [
    {
     "data": {
      "text/plain": [
       "['delhi', 'mumbai', 'Bengaluru', 'osolo', 'new york', 'gurugram']"
      ]
     },
     "execution_count": 30,
     "metadata": {},
     "output_type": "execute_result"
    }
   ],
   "source": [
    "x"
   ]
  },
  {
   "cell_type": "code",
   "execution_count": 37,
   "id": "7c8486d6",
   "metadata": {},
   "outputs": [
    {
     "name": "stdout",
     "output_type": "stream",
     "text": [
      "10\n"
     ]
    }
   ],
   "source": [
    "# wap to add the number present in the list.\n",
    "\n",
    "a = [1,2,3,4]\n",
    "b =0\n",
    "for i in a :\n",
    "    b = b+i\n",
    "print(b)\n"
   ]
  },
  {
   "cell_type": "code",
   "execution_count": 38,
   "id": "5f2e33d2",
   "metadata": {},
   "outputs": [
    {
     "name": "stdout",
     "output_type": "stream",
     "text": [
      "[4, 6, 3, 6, 3, 7]\n"
     ]
    }
   ],
   "source": [
    "a=[4,6,3]\n",
    "b=[6,3,7]\n",
    "c= a+b\n",
    "print(c)"
   ]
  },
  {
   "cell_type": "code",
   "execution_count": 47,
   "id": "39ddba5e",
   "metadata": {},
   "outputs": [
    {
     "data": {
      "text/plain": [
       "[100,\n",
       " 0,\n",
       " 'delhi',\n",
       " 'mumbai',\n",
       " 'Bengaluru',\n",
       " 'yup',\n",
       " 'osolo',\n",
       " 'new york',\n",
       " 'gurugram']"
      ]
     },
     "execution_count": 47,
     "metadata": {},
     "output_type": "execute_result"
    }
   ],
   "source": [
    "# function/method in list\n",
    "\n",
    "# remove\n",
    "# insert\n",
    "# pop\n",
    "\n",
    "x"
   ]
  },
  {
   "cell_type": "code",
   "execution_count": 48,
   "id": "b730fb43",
   "metadata": {},
   "outputs": [],
   "source": [
    "# insert\n",
    "\n",
    "x.insert(0,100)"
   ]
  },
  {
   "cell_type": "code",
   "execution_count": 46,
   "id": "d1182950",
   "metadata": {},
   "outputs": [
    {
     "data": {
      "text/plain": [
       "[100,\n",
       " 0,\n",
       " 'delhi',\n",
       " 'mumbai',\n",
       " 'Bengaluru',\n",
       " 'yup',\n",
       " 'osolo',\n",
       " 'new york',\n",
       " 'gurugram']"
      ]
     },
     "execution_count": 46,
     "metadata": {},
     "output_type": "execute_result"
    }
   ],
   "source": [
    "x"
   ]
  },
  {
   "cell_type": "code",
   "execution_count": 45,
   "id": "141797ca",
   "metadata": {},
   "outputs": [],
   "source": [
    "x.insert(5,'yup')"
   ]
  },
  {
   "cell_type": "code",
   "execution_count": 49,
   "id": "2faa4a48",
   "metadata": {},
   "outputs": [
    {
     "data": {
      "text/plain": [
       "[100,\n",
       " 100,\n",
       " 0,\n",
       " 'delhi',\n",
       " 'mumbai',\n",
       " 'Bengaluru',\n",
       " 'yup',\n",
       " 'osolo',\n",
       " 'new york',\n",
       " 'gurugram']"
      ]
     },
     "execution_count": 49,
     "metadata": {},
     "output_type": "execute_result"
    }
   ],
   "source": [
    "x"
   ]
  },
  {
   "cell_type": "code",
   "execution_count": 50,
   "id": "cd04ee29",
   "metadata": {},
   "outputs": [
    {
     "data": {
      "text/plain": [
       "[100,\n",
       " 100,\n",
       " 0,\n",
       " 'delhi',\n",
       " 'mumbai',\n",
       " 'Bengaluru',\n",
       " 'yup',\n",
       " 'osolo',\n",
       " 'new york',\n",
       " 'gurugram']"
      ]
     },
     "execution_count": 50,
     "metadata": {},
     "output_type": "execute_result"
    }
   ],
   "source": [
    "x"
   ]
  },
  {
   "cell_type": "code",
   "execution_count": 51,
   "id": "fe43f56e",
   "metadata": {},
   "outputs": [
    {
     "data": {
      "text/plain": [
       "'gurugram'"
      ]
     },
     "execution_count": 51,
     "metadata": {},
     "output_type": "execute_result"
    }
   ],
   "source": [
    "x.pop()"
   ]
  },
  {
   "cell_type": "code",
   "execution_count": 52,
   "id": "1dc9f145",
   "metadata": {},
   "outputs": [
    {
     "data": {
      "text/plain": [
       "'new york'"
      ]
     },
     "execution_count": 52,
     "metadata": {},
     "output_type": "execute_result"
    }
   ],
   "source": [
    "x.pop()"
   ]
  },
  {
   "cell_type": "code",
   "execution_count": 53,
   "id": "c54c0db6",
   "metadata": {},
   "outputs": [
    {
     "data": {
      "text/plain": [
       "100"
      ]
     },
     "execution_count": 53,
     "metadata": {},
     "output_type": "execute_result"
    }
   ],
   "source": [
    "x.pop(1)"
   ]
  },
  {
   "cell_type": "code",
   "execution_count": 54,
   "id": "247b2ac6",
   "metadata": {},
   "outputs": [
    {
     "data": {
      "text/plain": [
       "[100, 0, 'delhi', 'mumbai', 'Bengaluru', 'yup', 'osolo']"
      ]
     },
     "execution_count": 54,
     "metadata": {},
     "output_type": "execute_result"
    }
   ],
   "source": [
    "x"
   ]
  },
  {
   "cell_type": "code",
   "execution_count": 58,
   "id": "38270c20",
   "metadata": {},
   "outputs": [],
   "source": [
    "x.remove(100)"
   ]
  },
  {
   "cell_type": "code",
   "execution_count": 59,
   "id": "16dd3218",
   "metadata": {},
   "outputs": [
    {
     "data": {
      "text/plain": [
       "['delhi', 'mumbai', 'Bengaluru', 'yup', 'osolo']"
      ]
     },
     "execution_count": 59,
     "metadata": {},
     "output_type": "execute_result"
    }
   ],
   "source": [
    "x"
   ]
  },
  {
   "cell_type": "code",
   "execution_count": 67,
   "id": "34114155",
   "metadata": {},
   "outputs": [
    {
     "data": {
      "text/plain": [
       "['delhi', 'mumbai', 'Bengaluru', 'osolo']"
      ]
     },
     "execution_count": 67,
     "metadata": {},
     "output_type": "execute_result"
    }
   ],
   "source": [
    "x"
   ]
  },
  {
   "cell_type": "code",
   "execution_count": 62,
   "id": "701c8978",
   "metadata": {},
   "outputs": [
    {
     "name": "stdout",
     "output_type": "stream",
     "text": [
      "delhi\n",
      "mumbai\n",
      "Bengaluru\n",
      "yup\n",
      "osolo\n"
     ]
    }
   ],
   "source": [
    "for i in x:\n",
    "    print(i)"
   ]
  },
  {
   "cell_type": "code",
   "execution_count": 68,
   "id": "679d0ce2",
   "metadata": {},
   "outputs": [
    {
     "ename": "ValueError",
     "evalue": "list.remove(x): x not in list",
     "output_type": "error",
     "traceback": [
      "\u001b[1;31m---------------------------------------------------------------------------\u001b[0m",
      "\u001b[1;31mValueError\u001b[0m                                Traceback (most recent call last)",
      "\u001b[1;32m~\\AppData\\Local\\Temp/ipykernel_8816/464172928.py\u001b[0m in \u001b[0;36m<module>\u001b[1;34m\u001b[0m\n\u001b[1;32m----> 1\u001b[1;33m \u001b[0mx\u001b[0m\u001b[1;33m.\u001b[0m\u001b[0mremove\u001b[0m\u001b[1;33m(\u001b[0m\u001b[1;34m'yup'\u001b[0m\u001b[1;33m)\u001b[0m\u001b[1;33m\u001b[0m\u001b[1;33m\u001b[0m\u001b[0m\n\u001b[0m",
      "\u001b[1;31mValueError\u001b[0m: list.remove(x): x not in list"
     ]
    }
   ],
   "source": [
    "x.remove('yup')"
   ]
  },
  {
   "cell_type": "code",
   "execution_count": 66,
   "id": "3e5d6759",
   "metadata": {},
   "outputs": [
    {
     "data": {
      "text/plain": [
       "['delhi', 'mumbai', 'Bengaluru', 'osolo']"
      ]
     },
     "execution_count": 66,
     "metadata": {},
     "output_type": "execute_result"
    }
   ],
   "source": [
    "x"
   ]
  },
  {
   "cell_type": "code",
   "execution_count": null,
   "id": "53110e7e",
   "metadata": {},
   "outputs": [],
   "source": []
  }
 ],
 "metadata": {
  "kernelspec": {
   "display_name": "Python 3 (ipykernel)",
   "language": "python",
   "name": "python3"
  },
  "language_info": {
   "codemirror_mode": {
    "name": "ipython",
    "version": 3
   },
   "file_extension": ".py",
   "mimetype": "text/x-python",
   "name": "python",
   "nbconvert_exporter": "python",
   "pygments_lexer": "ipython3",
   "version": "3.9.7"
  }
 },
 "nbformat": 4,
 "nbformat_minor": 5
}
