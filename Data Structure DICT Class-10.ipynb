{
 "cells": [
  {
   "cell_type": "code",
   "execution_count": null,
   "id": "80c29fdb",
   "metadata": {},
   "outputs": [],
   "source": [
    "# DICTIONARY\n",
    "\n",
    "# Dictionary is an unordered collection of key-value pairs enclosed with {}.\n",
    "# Dictioinary is mutable."
   ]
  },
  {
   "cell_type": "code",
   "execution_count": 1,
   "id": "a31351bc",
   "metadata": {},
   "outputs": [
    {
     "data": {
      "text/plain": [
       "{'name': 'vishal'}"
      ]
     },
     "execution_count": 1,
     "metadata": {},
     "output_type": "execute_result"
    }
   ],
   "source": [
    "my_dict = {\n",
    "    'name' : 'vishal'\n",
    "}\n",
    "my_dict"
   ]
  },
  {
   "cell_type": "code",
   "execution_count": 2,
   "id": "f44932ee",
   "metadata": {},
   "outputs": [
    {
     "data": {
      "text/plain": [
       "dict"
      ]
     },
     "execution_count": 2,
     "metadata": {},
     "output_type": "execute_result"
    }
   ],
   "source": [
    "type(my_dict)"
   ]
  },
  {
   "cell_type": "code",
   "execution_count": 4,
   "id": "01582b7b",
   "metadata": {},
   "outputs": [
    {
     "name": "stdout",
     "output_type": "stream",
     "text": [
      "{'name': 'vishal', 'age': 22, 'marks': 94}\n"
     ]
    }
   ],
   "source": [
    "my_dict = {\n",
    "    'name' : 'vishal',\n",
    "    'age' : 22,\n",
    "    'marks' : 94\n",
    "}\n",
    "print(my_dict)"
   ]
  },
  {
   "cell_type": "code",
   "execution_count": 11,
   "id": "ade41dce",
   "metadata": {},
   "outputs": [
    {
     "name": "stdout",
     "output_type": "stream",
     "text": [
      "{'employee': ['manish', 'A', 'B'], 'designation': ['call cordinator', 'ccc', 'retainer'], 'salary': ['12000', '10000', '14000']}\n"
     ]
    }
   ],
   "source": [
    "# wap to make a dict of employee.\n",
    "\n",
    "e = {\n",
    "    'employee' : ['manish','A','B'],\n",
    "    'designation' : ['call cordinator','ccc','retainer'],\n",
    "    'salary' : ['12000','10000','14000',]\n",
    "}\n",
    "print(e)"
   ]
  },
  {
   "cell_type": "code",
   "execution_count": 18,
   "id": "9a83eb09",
   "metadata": {},
   "outputs": [
    {
     "name": "stdout",
     "output_type": "stream",
     "text": [
      "{'name': ['vishal', 'A', 'B'], 'age': 22, 'marks': 94}\n"
     ]
    }
   ],
   "source": [
    "my_dict = {\n",
    "    'name' : ['vishal','A','B'],\n",
    "    'age' : 22,\n",
    "    'marks' : 94\n",
    "}\n",
    "print(my_dict)"
   ]
  },
  {
   "cell_type": "code",
   "execution_count": 19,
   "id": "e979e252",
   "metadata": {},
   "outputs": [
    {
     "data": {
      "text/plain": [
       "'B'"
      ]
     },
     "execution_count": 19,
     "metadata": {},
     "output_type": "execute_result"
    }
   ],
   "source": [
    "# Indexing Slicing------>\n",
    "# NO INDEX IN DICT\n",
    "# NO SLICING\n",
    "\n",
    "my_dict['name'][2]\n"
   ]
  },
  {
   "cell_type": "code",
   "execution_count": 6,
   "id": "b9a46210",
   "metadata": {},
   "outputs": [
    {
     "data": {
      "text/plain": [
       "['X', 'Y', 'Z']"
      ]
     },
     "execution_count": 6,
     "metadata": {},
     "output_type": "execute_result"
    }
   ],
   "source": [
    "x= {\n",
    "    'name' : ['X', 'Y', 'Z'],\n",
    "    'age' : 43,\n",
    "    'salary' : 38555\n",
    "}\n",
    "x['name']"
   ]
  },
  {
   "cell_type": "code",
   "execution_count": 7,
   "id": "72137035",
   "metadata": {},
   "outputs": [
    {
     "data": {
      "text/plain": [
       "'X'"
      ]
     },
     "execution_count": 7,
     "metadata": {},
     "output_type": "execute_result"
    }
   ],
   "source": [
    "x['name'][0]"
   ]
  },
  {
   "cell_type": "code",
   "execution_count": 8,
   "id": "e879bf39",
   "metadata": {},
   "outputs": [
    {
     "data": {
      "text/plain": [
       "'Z'"
      ]
     },
     "execution_count": 8,
     "metadata": {},
     "output_type": "execute_result"
    }
   ],
   "source": [
    "x['name'][-1]"
   ]
  },
  {
   "cell_type": "code",
   "execution_count": 15,
   "id": "8f83acb7",
   "metadata": {},
   "outputs": [
    {
     "data": {
      "text/plain": [
       "{'name': ['X', 'Y', 'Z'],\n",
       " 'age': (43, 46, 23),\n",
       " 'salary': 38555,\n",
       " 'id': 1,\n",
       " 'a': {'rank': 'senior', 'address': ['NOida', 'Goa', 'Delhi']}}"
      ]
     },
     "execution_count": 15,
     "metadata": {},
     "output_type": "execute_result"
    }
   ],
   "source": [
    "x= {\n",
    "    'name' : ['X', 'Y', 'Z'],\n",
    "    'age' : (43,46,23),\n",
    "    'salary' : 38555,\n",
    "    'id' : 1,\n",
    "    \n",
    "    'a' : {\n",
    "        'rank' : 'senior',\n",
    "        'address' : ['NOida','Goa','Delhi']\n",
    "    }    \n",
    "}\n",
    "x"
   ]
  },
  {
   "cell_type": "code",
   "execution_count": 11,
   "id": "72798290",
   "metadata": {},
   "outputs": [
    {
     "data": {
      "text/plain": [
       "'noida'"
      ]
     },
     "execution_count": 11,
     "metadata": {},
     "output_type": "execute_result"
    }
   ],
   "source": [
    "x['a']['address']"
   ]
  },
  {
   "cell_type": "code",
   "execution_count": 16,
   "id": "27d13fcc",
   "metadata": {},
   "outputs": [
    {
     "data": {
      "text/plain": [
       "'Delhi'"
      ]
     },
     "execution_count": 16,
     "metadata": {},
     "output_type": "execute_result"
    }
   ],
   "source": [
    "x['a']['address'][2]"
   ]
  },
  {
   "cell_type": "code",
   "execution_count": 20,
   "id": "a7ce6fea",
   "metadata": {},
   "outputs": [
    {
     "data": {
      "text/plain": [
       "{'name': ['X', 'Y', 'Z'],\n",
       " 'age': (43, 46, 23),\n",
       " 'salary': 38555,\n",
       " 'id': 1,\n",
       " 0: 1,\n",
       " '1': 'HELLO',\n",
       " 1: 'dimple',\n",
       " 'a': {'rank': 'senior', 'address': ['NOida', 'Goa', 'Delhi']}}"
      ]
     },
     "execution_count": 20,
     "metadata": {},
     "output_type": "execute_result"
    }
   ],
   "source": [
    "x= {\n",
    "    'name' : ['X', 'Y', 'Z'],\n",
    "    'age' : (43,46,23),\n",
    "    'salary' : 38555,\n",
    "    'id' : 1,\n",
    "    0:1,\n",
    "    '1': 'HELLO',\n",
    "    1 :'dimple',\n",
    "    \n",
    "    'a' : {\n",
    "        'rank' : 'senior',\n",
    "        'address' : ['NOida','Goa','Delhi']\n",
    "    }    \n",
    "}\n",
    "x"
   ]
  },
  {
   "cell_type": "code",
   "execution_count": 24,
   "id": "7db7375f",
   "metadata": {},
   "outputs": [
    {
     "data": {
      "text/plain": [
       "{'name': 'A',\n",
       " 'age': 3,\n",
       " 'address': 'Delhi',\n",
       " 'emp': {'name': 'A', 'salary': 344, 'holiday': 32}}"
      ]
     },
     "execution_count": 24,
     "metadata": {},
     "output_type": "execute_result"
    }
   ],
   "source": [
    "# wap and a dict of student & emp and try to fetch the common data.\n",
    "\n",
    "student = {\n",
    "    'name' : 'A',\n",
    "    'age' : 3,\n",
    "    'address' : 'Delhi',\n",
    "    \n",
    "    'emp' : {\n",
    "          'name' : 'A',\n",
    "           'salary' : 344,\n",
    "           'holiday' : 32\n",
    "    }    \n",
    "}\n",
    "student"
   ]
  },
  {
   "cell_type": "code",
   "execution_count": 25,
   "id": "b79a6f86",
   "metadata": {},
   "outputs": [
    {
     "data": {
      "text/plain": [
       "'A'"
      ]
     },
     "execution_count": 25,
     "metadata": {},
     "output_type": "execute_result"
    }
   ],
   "source": [
    "student['emp']['name']"
   ]
  },
  {
   "cell_type": "code",
   "execution_count": 26,
   "id": "f4489afa",
   "metadata": {},
   "outputs": [
    {
     "data": {
      "text/plain": [
       "'A'"
      ]
     },
     "execution_count": 26,
     "metadata": {},
     "output_type": "execute_result"
    }
   ],
   "source": [
    "student['name']"
   ]
  },
  {
   "cell_type": "code",
   "execution_count": 27,
   "id": "bba507b1",
   "metadata": {},
   "outputs": [],
   "source": [
    "# Dict method\n",
    "\n",
    "# copy\n",
    "# clear\n",
    "# pop\n",
    "# items\n",
    "# values\n",
    "# keys"
   ]
  },
  {
   "cell_type": "code",
   "execution_count": 30,
   "id": "8a204829",
   "metadata": {},
   "outputs": [
    {
     "data": {
      "text/plain": [
       "{'name': 'A',\n",
       " 'age': 3,\n",
       " 'address': 'Delhi',\n",
       " 'emp': {'name': 'A', 'salary': 344, 'holiday': 32}}"
      ]
     },
     "execution_count": 30,
     "metadata": {},
     "output_type": "execute_result"
    }
   ],
   "source": [
    "s = {\n",
    "    'name' : 'A',\n",
    "    'age' : 3,\n",
    "    'address' : 'Delhi',\n",
    "    \n",
    "    'emp' : {\n",
    "          'name' : 'A',\n",
    "           'salary' : 344,\n",
    "           'holiday' : 32\n",
    "    }    \n",
    "}\n",
    "s"
   ]
  },
  {
   "cell_type": "code",
   "execution_count": 33,
   "id": "aed677e4",
   "metadata": {},
   "outputs": [],
   "source": [
    "copy_data = s.copy()"
   ]
  },
  {
   "cell_type": "code",
   "execution_count": 34,
   "id": "79592c03",
   "metadata": {},
   "outputs": [
    {
     "data": {
      "text/plain": [
       "{'name': 'A',\n",
       " 'age': 3,\n",
       " 'address': 'Delhi',\n",
       " 'emp': {'name': 'A', 'salary': 344, 'holiday': 32}}"
      ]
     },
     "execution_count": 34,
     "metadata": {},
     "output_type": "execute_result"
    }
   ],
   "source": [
    "copy_data"
   ]
  },
  {
   "cell_type": "code",
   "execution_count": 35,
   "id": "dce72fbf",
   "metadata": {},
   "outputs": [
    {
     "data": {
      "text/plain": [
       "{'name': 'A',\n",
       " 'age': 3,\n",
       " 'address': 'Delhi',\n",
       " 'emp': {'name': 'A', 'salary': 344, 'holiday': 32}}"
      ]
     },
     "execution_count": 35,
     "metadata": {},
     "output_type": "execute_result"
    }
   ],
   "source": [
    "s"
   ]
  },
  {
   "cell_type": "code",
   "execution_count": 36,
   "id": "2b043c91",
   "metadata": {},
   "outputs": [
    {
     "data": {
      "text/plain": [
       "3"
      ]
     },
     "execution_count": 36,
     "metadata": {},
     "output_type": "execute_result"
    }
   ],
   "source": [
    "# pop expected atleast 1 argument.\n",
    "s.pop('age')"
   ]
  },
  {
   "cell_type": "code",
   "execution_count": 37,
   "id": "017482c0",
   "metadata": {},
   "outputs": [
    {
     "data": {
      "text/plain": [
       "{'name': 'A',\n",
       " 'address': 'Delhi',\n",
       " 'emp': {'name': 'A', 'salary': 344, 'holiday': 32}}"
      ]
     },
     "execution_count": 37,
     "metadata": {},
     "output_type": "execute_result"
    }
   ],
   "source": [
    "s"
   ]
  },
  {
   "cell_type": "code",
   "execution_count": 42,
   "id": "61b3af3e",
   "metadata": {},
   "outputs": [
    {
     "data": {
      "text/plain": [
       "344"
      ]
     },
     "execution_count": 42,
     "metadata": {},
     "output_type": "execute_result"
    }
   ],
   "source": [
    "s['emp'].pop('salary')"
   ]
  },
  {
   "cell_type": "code",
   "execution_count": 43,
   "id": "0b22fee8",
   "metadata": {},
   "outputs": [
    {
     "data": {
      "text/plain": [
       "{'name': 'A',\n",
       " 'age': 3,\n",
       " 'address': 'Delhi',\n",
       " 'emp': {'name': 'A', 'holiday': 32}}"
      ]
     },
     "execution_count": 43,
     "metadata": {},
     "output_type": "execute_result"
    }
   ],
   "source": [
    "s"
   ]
  },
  {
   "cell_type": "code",
   "execution_count": 45,
   "id": "cbca0d2b",
   "metadata": {},
   "outputs": [
    {
     "data": {
      "text/plain": [
       "{'name': 'A',\n",
       " 'age': 3,\n",
       " 'address': 'Delhi',\n",
       " 'emp': {'name': 'A', 'salary': 344, 'holiday': 32}}"
      ]
     },
     "execution_count": 45,
     "metadata": {},
     "output_type": "execute_result"
    }
   ],
   "source": [
    "# keys\n",
    "\n",
    "s = {\n",
    "    'name' : 'A',\n",
    "    'age' : 3,\n",
    "    'address' : 'Delhi',\n",
    "    \n",
    "    'emp' : {\n",
    "          'name' : 'A',\n",
    "           'salary' : 344,\n",
    "           'holiday' : 32\n",
    "    }    \n",
    "}\n",
    "s"
   ]
  },
  {
   "cell_type": "code",
   "execution_count": 46,
   "id": "d4c239cf",
   "metadata": {},
   "outputs": [
    {
     "data": {
      "text/plain": [
       "dict_keys(['name', 'age', 'address', 'emp'])"
      ]
     },
     "execution_count": 46,
     "metadata": {},
     "output_type": "execute_result"
    }
   ],
   "source": [
    "s.keys()"
   ]
  },
  {
   "cell_type": "code",
   "execution_count": 48,
   "id": "5486c4ba",
   "metadata": {},
   "outputs": [
    {
     "data": {
      "text/plain": [
       "dict_keys(['name', 'salary', 'holiday'])"
      ]
     },
     "execution_count": 48,
     "metadata": {},
     "output_type": "execute_result"
    }
   ],
   "source": [
    "s['emp'].keys()"
   ]
  },
  {
   "cell_type": "code",
   "execution_count": 49,
   "id": "d9e965d0",
   "metadata": {},
   "outputs": [
    {
     "data": {
      "text/plain": [
       "dict_values(['A', 3, 'Delhi', {'name': 'A', 'salary': 344, 'holiday': 32}])"
      ]
     },
     "execution_count": 49,
     "metadata": {},
     "output_type": "execute_result"
    }
   ],
   "source": [
    "# values\n",
    "\n",
    "s.values()"
   ]
  },
  {
   "cell_type": "code",
   "execution_count": 51,
   "id": "20b20184",
   "metadata": {},
   "outputs": [
    {
     "data": {
      "text/plain": [
       "dict_values(['A', 344, 32])"
      ]
     },
     "execution_count": 51,
     "metadata": {},
     "output_type": "execute_result"
    }
   ],
   "source": [
    "s['emp'].values()"
   ]
  },
  {
   "cell_type": "code",
   "execution_count": 52,
   "id": "24770e05",
   "metadata": {},
   "outputs": [
    {
     "data": {
      "text/plain": [
       "dict_items([('name', 'A'), ('age', 3), ('address', 'Delhi'), ('emp', {'name': 'A', 'salary': 344, 'holiday': 32})])"
      ]
     },
     "execution_count": 52,
     "metadata": {},
     "output_type": "execute_result"
    }
   ],
   "source": [
    "# items\n",
    "\n",
    "s.items()"
   ]
  },
  {
   "cell_type": "code",
   "execution_count": null,
   "id": "479289eb",
   "metadata": {},
   "outputs": [],
   "source": []
  },
  {
   "cell_type": "code",
   "execution_count": null,
   "id": "c5701f6e",
   "metadata": {},
   "outputs": [],
   "source": []
  }
 ],
 "metadata": {
  "kernelspec": {
   "display_name": "Python 3 (ipykernel)",
   "language": "python",
   "name": "python3"
  },
  "language_info": {
   "codemirror_mode": {
    "name": "ipython",
    "version": 3
   },
   "file_extension": ".py",
   "mimetype": "text/x-python",
   "name": "python",
   "nbconvert_exporter": "python",
   "pygments_lexer": "ipython3",
   "version": "3.9.7"
  }
 },
 "nbformat": 4,
 "nbformat_minor": 5
}
